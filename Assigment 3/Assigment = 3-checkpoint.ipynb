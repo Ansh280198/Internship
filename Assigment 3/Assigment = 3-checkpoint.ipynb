{
 "cells": [
  {
   "cell_type": "markdown",
   "id": "fa81b1b0",
   "metadata": {},
   "source": [
    "# Web scraping Assignment - 3\n",
    "Write a python program which searches all the product under a particular product from www.amazon.in\n",
    "\n",
    "The product to be searched will be taken as input from user. For e.g. If user input is ‘guitar’. Then search for guitars."
   ]
  },
  {
   "cell_type": "code",
   "execution_count": 13,
   "id": "d9585de0",
   "metadata": {},
   "outputs": [],
   "source": [
    "import pandas as pd\n",
    "import numpy as np\n",
    "import selenium\n",
    "from selenium import webdriver\n",
    "from selenium.webdriver.common.keys import Keys\n",
    "import matplotlib.pyplot as plt\n",
    "import matplotlib.image as mpimg\n",
    "import time \n",
    "import os\n",
    "from selenium.common.exceptions import NoSuchElementException\n",
    "import warnings\n",
    "warnings.filterwarnings('ignore')"
   ]
  },
  {
   "cell_type": "code",
   "execution_count": 14,
   "id": "bd7972c1",
   "metadata": {},
   "outputs": [],
   "source": [
    "#Connect to the driver\n",
    "driver=webdriver.Chrome(r'E:\\chrome driver\\chromedriver.exe')"
   ]
  },
  {
   "cell_type": "code",
   "execution_count": 15,
   "id": "caff4e1c",
   "metadata": {},
   "outputs": [],
   "source": [
    "url = 'https://www.amazon.in/'"
   ]
  },
  {
   "cell_type": "code",
   "execution_count": 16,
   "id": "5d70d8bc",
   "metadata": {},
   "outputs": [],
   "source": [
    "#Opeaning the web page through our web driver:\n",
    "driver.get(url)"
   ]
  },
  {
   "cell_type": "code",
   "execution_count": 17,
   "id": "d92607b4",
   "metadata": {},
   "outputs": [
    {
     "name": "stdout",
     "output_type": "stream",
     "text": [
      "Enter the product you want to search : guitar\n"
     ]
    }
   ],
   "source": [
    "#User Input:\n",
    "user_inp = input('Enter the product you want to search : ')"
   ]
  },
  {
   "cell_type": "code",
   "execution_count": 18,
   "id": "0b830cc6",
   "metadata": {},
   "outputs": [],
   "source": [
    "#Selecting Search Options:\n",
    "search_bar = driver.find_element_by_id(\"twotabsearchtextbox\")    \n",
    "search_bar.clear()                                              \n",
    "search_bar.send_keys(user_inp)                                  \n",
    "search_button = driver.find_element_by_xpath('//div[@class=\"nav-search-submit nav-sprite\"]/span/input')      \n",
    "search_button.click()   "
   ]
  },
  {
   "cell_type": "markdown",
   "id": "8dd95dab",
   "metadata": {},
   "source": [
    "# 2) In the above question, now scrape the following details of each product listed in first 3 pages of your\n",
    "search results and save it in a data frame and csv. In case if any product has less than 3 pages in search results then scrape all the products available under that product name. Details to be scraped are: \"Brand Name\", \"Name of the Product\", \"Price\", \"Return/Exchange\", \"Expected Delivery\", \"Availability\" and “Product URL”. In case, if any of the details are missing for any of the product then replace it by “-“"
   ]
  },
  {
   "cell_type": "markdown",
   "id": "fdd7c812",
   "metadata": {},
   "source": [
    "scraping the data:-"
   ]
  },
  {
   "cell_type": "code",
   "execution_count": 19,
   "id": "a349f22e",
   "metadata": {},
   "outputs": [],
   "source": [
    "ur = []\n",
    "start = 0\n",
    "end = 3\n",
    "for i in range(start,end):\n",
    "    url_tag = driver.find_elements_by_xpath('//a[@class=\"a-link-normal s-underline-text s-underline-link-text s-link-style a-text-normal\"]') \n",
    "    for j in url_tag:\n",
    "        ur.append(j.get_attribute('href'))\n",
    "    next_button = driver.find_element_by_xpath(\"//span[@class='s-pagination-strip']/a[@class='s-pagination-item s-pagination-next s-pagination-button s-pagination-separator']\")\n",
    "    next_button.click()\n",
    "    time.sleep(2)  "
   ]
  },
  {
   "cell_type": "code",
   "execution_count": 20,
   "id": "24b4dadf",
   "metadata": {},
   "outputs": [],
   "source": [
    "Brand_Name = []\n",
    "price = []\n",
    "expected_delivery = []\n",
    "Return_Exchange = []"
   ]
  },
  {
   "cell_type": "code",
   "execution_count": 21,
   "id": "fb4ece97",
   "metadata": {},
   "outputs": [],
   "source": [
    "for i in ur:\n",
    "        driver.get(i)\n",
    "        try:\n",
    "            Brand_Name.append(driver.find_element_by_xpath(\"//td[@class='a-size-base prodDetAttrValue']\").text)\n",
    "        except:\n",
    "            Brand_Name.append('-')\n",
    "        try:\n",
    "            price.append(driver.find_element_by_xpath(\"//span[@class='a-price-whole']\").text)\n",
    "        except:\n",
    "            price.append('-')\n",
    "        try:\n",
    "            expected_delivery.append(driver.find_element_by_xpath(\"//div[@class='a-column a-span12 a-text-left']/div/div/b\").text)\n",
    "        except:\n",
    "            expected_delivery.append('-')\n",
    "        try:\n",
    "            Return_Exchange.append(driver.find_element_by_xpath(\"//div[@class='a-section a-spacing-none icon-content']/a\").text)\n",
    "        except:\n",
    "            Return_Exchange.append('-')"
   ]
  },
  {
   "cell_type": "code",
   "execution_count": 22,
   "id": "50366192",
   "metadata": {},
   "outputs": [
    {
     "data": {
      "text/html": [
       "<div>\n",
       "<style scoped>\n",
       "    .dataframe tbody tr th:only-of-type {\n",
       "        vertical-align: middle;\n",
       "    }\n",
       "\n",
       "    .dataframe tbody tr th {\n",
       "        vertical-align: top;\n",
       "    }\n",
       "\n",
       "    .dataframe thead th {\n",
       "        text-align: right;\n",
       "    }\n",
       "</style>\n",
       "<table border=\"1\" class=\"dataframe\">\n",
       "  <thead>\n",
       "    <tr style=\"text-align: right;\">\n",
       "      <th></th>\n",
       "      <th>Brand_Name</th>\n",
       "      <th>Price</th>\n",
       "      <th>Expected_delivery</th>\n",
       "      <th>Return_exchange</th>\n",
       "    </tr>\n",
       "  </thead>\n",
       "  <tbody>\n",
       "    <tr>\n",
       "      <th>0</th>\n",
       "      <td>Kadence</td>\n",
       "      <td></td>\n",
       "      <td>-</td>\n",
       "      <td>Pay on Delivery</td>\n",
       "    </tr>\n",
       "    <tr>\n",
       "      <th>1</th>\n",
       "      <td>Kadence</td>\n",
       "      <td></td>\n",
       "      <td>-</td>\n",
       "      <td>Pay on Delivery</td>\n",
       "    </tr>\n",
       "    <tr>\n",
       "      <th>2</th>\n",
       "      <td>Kadence</td>\n",
       "      <td></td>\n",
       "      <td>-</td>\n",
       "      <td>Pay on Delivery</td>\n",
       "    </tr>\n",
       "    <tr>\n",
       "      <th>3</th>\n",
       "      <td>Kadence</td>\n",
       "      <td>7,348</td>\n",
       "      <td>-</td>\n",
       "      <td>Pay on Delivery</td>\n",
       "    </tr>\n",
       "    <tr>\n",
       "      <th>4</th>\n",
       "      <td>89 x 43.6 x 11.4 cm; 2.1 Kilograms</td>\n",
       "      <td>2,190</td>\n",
       "      <td>-</td>\n",
       "      <td>Pay on Delivery</td>\n",
       "    </tr>\n",
       "    <tr>\n",
       "      <th>...</th>\n",
       "      <td>...</td>\n",
       "      <td>...</td>\n",
       "      <td>...</td>\n",
       "      <td>...</td>\n",
       "    </tr>\n",
       "    <tr>\n",
       "      <th>184</th>\n",
       "      <td>Tanglewood</td>\n",
       "      <td>12,849</td>\n",
       "      <td>-</td>\n",
       "      <td>Pay on Delivery</td>\n",
       "    </tr>\n",
       "    <tr>\n",
       "      <th>185</th>\n",
       "      <td>Kadence</td>\n",
       "      <td>7,499</td>\n",
       "      <td>-</td>\n",
       "      <td>Pay on Delivery</td>\n",
       "    </tr>\n",
       "    <tr>\n",
       "      <th>186</th>\n",
       "      <td>Giuson</td>\n",
       "      <td>3,990</td>\n",
       "      <td>-</td>\n",
       "      <td>Pay on Delivery</td>\n",
       "    </tr>\n",
       "    <tr>\n",
       "      <th>187</th>\n",
       "      <td>Techblaze</td>\n",
       "      <td>549</td>\n",
       "      <td>-</td>\n",
       "      <td>Pay on Delivery</td>\n",
       "    </tr>\n",
       "    <tr>\n",
       "      <th>188</th>\n",
       "      <td>HRB MUSICALS</td>\n",
       "      <td>749</td>\n",
       "      <td>-</td>\n",
       "      <td>7 Days Replacement</td>\n",
       "    </tr>\n",
       "  </tbody>\n",
       "</table>\n",
       "<p>189 rows × 4 columns</p>\n",
       "</div>"
      ],
      "text/plain": [
       "                             Brand_Name   Price Expected_delivery  \\\n",
       "0                               Kadence                         -   \n",
       "1                               Kadence                         -   \n",
       "2                               Kadence                         -   \n",
       "3                               Kadence   7,348                 -   \n",
       "4    89 x 43.6 x 11.4 cm; 2.1 Kilograms   2,190                 -   \n",
       "..                                  ...     ...               ...   \n",
       "184                          Tanglewood  12,849                 -   \n",
       "185                             Kadence   7,499                 -   \n",
       "186                              Giuson   3,990                 -   \n",
       "187                           Techblaze     549                 -   \n",
       "188                        HRB MUSICALS     749                 -   \n",
       "\n",
       "        Return_exchange  \n",
       "0       Pay on Delivery  \n",
       "1       Pay on Delivery  \n",
       "2       Pay on Delivery  \n",
       "3       Pay on Delivery  \n",
       "4       Pay on Delivery  \n",
       "..                  ...  \n",
       "184     Pay on Delivery  \n",
       "185     Pay on Delivery  \n",
       "186     Pay on Delivery  \n",
       "187     Pay on Delivery  \n",
       "188  7 Days Replacement  \n",
       "\n",
       "[189 rows x 4 columns]"
      ]
     },
     "execution_count": 22,
     "metadata": {},
     "output_type": "execute_result"
    }
   ],
   "source": [
    "data = pd.DataFrame()\n",
    "data['Brand_Name'] = Brand_Name\n",
    "data['Price'] = price\n",
    "data['Expected_delivery'] = expected_delivery\n",
    "data['Return_exchange'] = Return_Exchange\n",
    "data\n"
   ]
  },
  {
   "cell_type": "markdown",
   "id": "4361ef92",
   "metadata": {},
   "source": [
    "# 3) Write a python program to access the search bar and search button on images.google.com and scrape 10 images each for keywords ‘fruits’, ‘cars’ and ‘Machine Learning’, ‘Guitar’, ‘Cakes’"
   ]
  },
  {
   "cell_type": "code",
   "execution_count": 23,
   "id": "74c7a5c7",
   "metadata": {},
   "outputs": [
    {
     "name": "stdout",
     "output_type": "stream",
     "text": [
      "Length of the list are ==>> 138 144 144 144\n",
      "                                                Bikes  \\\n",
      "0   https://www.zigwheels.com/newbikes/Yamaha/mt-1...   \n",
      "1   https://www.bicycling.com/bikes-gear/a23067076...   \n",
      "2          https://www.91wheels.com/bikes/naked-bikes   \n",
      "3   https://www.zigwheels.com/user-reviews/Jawa-Mo...   \n",
      "4     https://www.royalenfield.com/in/en/motorcycles/   \n",
      "..                                                ...   \n",
      "95                          https://www.bikewale.com/   \n",
      "96  https://www.zigwheels.com/newbikes/Yamaha/mt-1...   \n",
      "97  https://www.bicycling.com/bikes-gear/a23067076...   \n",
      "98         https://www.91wheels.com/bikes/naked-bikes   \n",
      "99  https://www.zigwheels.com/user-reviews/Jawa-Mo...   \n",
      "\n",
      "                                                 cars  \\\n",
      "0      https://www.motor1.com/car-lists/coolest-cars/   \n",
      "1   https://elitetraveler.com/luxury-transport/aut...   \n",
      "2   https://www.motor1.com/car-lists/most-expensiv...   \n",
      "3   https://www.popularmechanics.com/cars/a3482425...   \n",
      "4         https://www.youtube.com/watch?v=dip_8dmrcaU   \n",
      "..                                                ...   \n",
      "95  https://auto.economictimes.indiatimes.com/news...   \n",
      "96     https://www.motor1.com/car-lists/coolest-cars/   \n",
      "97  https://elitetraveler.com/luxury-transport/aut...   \n",
      "98  https://www.motor1.com/car-lists/most-expensiv...   \n",
      "99  https://www.popularmechanics.com/cars/a3482425...   \n",
      "\n",
      "                                     machine_learning  \\\n",
      "0   https://towardsdatascience.com/machine-learnin...   \n",
      "1   https://www.thermofisher.com/blog/connectedlab...   \n",
      "2   https://www.forbes.com/sites/tomtaulli/2019/03...   \n",
      "3   https://data-flair.training/blogs/machine-lear...   \n",
      "4   https://towardsdatascience.com/introduction-to...   \n",
      "..                                                ...   \n",
      "95  https://www.xantaro.net/en/tech-blogs/machine-...   \n",
      "96  https://towardsdatascience.com/machine-learnin...   \n",
      "97  https://www.thermofisher.com/blog/connectedlab...   \n",
      "98  https://www.forbes.com/sites/tomtaulli/2019/03...   \n",
      "99  https://data-flair.training/blogs/machine-lear...   \n",
      "\n",
      "                                               fruits  \n",
      "0   https://www.amazon.in/Learning-Educational-Hom...  \n",
      "1   https://www.amazon.in/Fruits-All-One-Dreamland...  \n",
      "2   https://www.goodhousekeeping.com/health/diet-n...  \n",
      "3   https://www.amazon.in/Fruits-Educational-Chart...  \n",
      "4   https://www.healthyeating.org/nutrition-topics...  \n",
      "..                                                ...  \n",
      "95  https://www.amazon.in/Fruits-Educational-Chart...  \n",
      "96  https://www.healthyeating.org/nutrition-topics...  \n",
      "97               https://www.eatthis.com/fruit-sugar/  \n",
      "98  https://www.worldatlas.com/articles/the-most-p...  \n",
      "99  https://www.amazon.in/Fruits-Chart-Vidya-Chitr...  \n",
      "\n",
      "[100 rows x 4 columns]\n"
     ]
    }
   ],
   "source": [
    "# Function Definition\n",
    "def google_img(url):\n",
    "    driver=webdriver.Chrome(r\"E:\\chrome driver\\chromedriver.exe\")\n",
    "    fruits=[]\n",
    "    cars=[]\n",
    "    Bikes=[]\n",
    "    machine_learning=[]\n",
    "#extracting fruits data\n",
    "    driver.get(url)\n",
    "    search_field_items=driver.find_element_by_xpath(\"//div[@class='a4bIc']/input\")\n",
    "    search_field_items.send_keys(\"fruits\")\n",
    "    search_button=driver.find_element_by_xpath(\"//button[@class='Tg7LZd']\")\n",
    "    search_button.click()\n",
    "    for i in range(0,3):\n",
    "        url_tags=driver.find_elements_by_xpath(\"//div[@class='islrc']//div[@class='isv-r PNCib MSM1fd BUooTd']//a[@class='VFACy kGQAp sMi44c lNHeqe WGvvNb']\")\n",
    "        for i in url_tags:\n",
    "            fruits.append(i.get_attribute('href'))   \n",
    "        time.sleep(2)\n",
    "#extracting car image data        \n",
    "    driver.get(url)\n",
    "    search_field_items=driver.find_element_by_xpath(\"//div[@class='a4bIc']/input\")\n",
    "    search_field_items.send_keys(\"cars\")\n",
    "    search_button=driver.find_element_by_xpath(\"//button[@class='Tg7LZd']\")\n",
    "    search_button.click()\n",
    "    for i in range(0,3):\n",
    "        url_tags=driver.find_elements_by_xpath(\"//div[@class='islrc']//div[@class='isv-r PNCib MSM1fd BUooTd']//a[@class='VFACy kGQAp sMi44c lNHeqe WGvvNb']\")\n",
    "        for i in url_tags:\n",
    "            cars.append(i.get_attribute('href'))   \n",
    "        time.sleep(2)\n",
    "#extracting machine learning imgae data        \n",
    "    driver.get(url)\n",
    "    search_field_items=driver.find_element_by_xpath(\"//div[@class='a4bIc']/input\")\n",
    "    search_field_items.send_keys(\"machine learning\")\n",
    "    search_button=driver.find_element_by_xpath(\"//button[@class='Tg7LZd']\")\n",
    "    search_button.click()\n",
    "    for i in range(0,3):\n",
    "        url_tags=driver.find_elements_by_xpath(\"//div[@class='islrc']//div[@class='isv-r PNCib MSM1fd BUooTd']//a[@class='VFACy kGQAp sMi44c lNHeqe WGvvNb']\")\n",
    "        for i in url_tags:\n",
    "            machine_learning.append(i.get_attribute('href'))   \n",
    "            \n",
    "#extracting bikes image data        \n",
    "    driver.get(url)\n",
    "    search_field_items=driver.find_element_by_xpath(\"//div[@class='a4bIc']/input\")\n",
    "    search_field_items.send_keys(\"Bikes\")\n",
    "    search_button=driver.find_element_by_xpath(\"//button[@class='Tg7LZd']\")\n",
    "    search_button.click()\n",
    "    for i in range(0,3):\n",
    "        url_tags=driver.find_elements_by_xpath(\"//div[@class='islrc']//div[@class='isv-r PNCib MSM1fd BUooTd']//a[@class='VFACy kGQAp sMi44c lNHeqe WGvvNb']\")\n",
    "        for i in url_tags:\n",
    "            Bikes.append(i.get_attribute('href'))   \n",
    "        \n",
    "        \n",
    "    \n",
    "        \n",
    "    print('Length of the list are ==>>',len(fruits),len(cars),len(machine_learning),len(Bikes))\n",
    "    google_image=pd.DataFrame({'Bikes':Bikes[:100],\n",
    "                           'cars':cars[:100],\n",
    "                            'machine_learning':machine_learning[:100],\n",
    "                              'fruits':fruits[:100]})\n",
    "                            \n",
    "    print(google_image)\n",
    "    google_image.to_csv('google_image.csv', index = False)\n",
    "    \n",
    "    \n",
    "# Calling Function\n",
    "google_img('https://images.google.com/?gws_rd=ssl')\n"
   ]
  },
  {
   "cell_type": "markdown",
   "id": "c36e035b",
   "metadata": {},
   "source": [
    "# 4. Write a python program to search for a smartphone(e.g.: redmi 9, pixel 4A, etc.) on\n",
    "www.flipkart.com and scrape following details for all the search results displayed on 1st page. Details to be scraped: “Brand Name”, “Smartphone name”, “Colour”, “RAM”, “Storage(ROM)”, “Primary Camera”, “Secondary Camera”, “Display Size”, “Battery Capacity”, “Price”, “Product URL”. Incase if any of the details is missing then replace it by “- “. Save your results in a dataframe and CSV."
   ]
  },
  {
   "cell_type": "code",
   "execution_count": 24,
   "id": "35fec14c",
   "metadata": {},
   "outputs": [
    {
     "name": "stdout",
     "output_type": "stream",
     "text": [
      "Enter the smartphone you want to search : iphone 13\n"
     ]
    }
   ],
   "source": [
    "driver = webdriver.Chrome(r\"E:\\chrome driver\\chromedriver.exe\")\n",
    "driver.get('https://www.flipkart.com/')\n",
    "driver.find_element_by_xpath(\"//div[@class='_2QfC02']/button\").click()\n",
    "search = driver.find_element_by_xpath(\"//form[@class='_2M8cLY header-form-search']/div/div/input\")\n",
    "user_inp = input('Enter the smartphone you want to search : ')\n",
    "search.send_keys(user_inp)\n",
    "driver.find_element_by_xpath(\"//button[@class='L0Z3Pu']\").click()"
   ]
  },
  {
   "cell_type": "code",
   "execution_count": 25,
   "id": "be3e80ba",
   "metadata": {},
   "outputs": [
    {
     "data": {
      "text/html": [
       "<div>\n",
       "<style scoped>\n",
       "    .dataframe tbody tr th:only-of-type {\n",
       "        vertical-align: middle;\n",
       "    }\n",
       "\n",
       "    .dataframe tbody tr th {\n",
       "        vertical-align: top;\n",
       "    }\n",
       "\n",
       "    .dataframe thead th {\n",
       "        text-align: right;\n",
       "    }\n",
       "</style>\n",
       "<table border=\"1\" class=\"dataframe\">\n",
       "  <thead>\n",
       "    <tr style=\"text-align: right;\">\n",
       "      <th></th>\n",
       "      <th>Brand_name</th>\n",
       "      <th>Price</th>\n",
       "      <th>Ratings</th>\n",
       "      <th>Color</th>\n",
       "      <th>ROM</th>\n",
       "      <th>Display_size</th>\n",
       "      <th>Display_resolution</th>\n",
       "      <th>Processor</th>\n",
       "      <th>Primary_camera</th>\n",
       "      <th>Secondary_camera</th>\n",
       "      <th>Battery</th>\n",
       "      <th>Product_url</th>\n",
       "    </tr>\n",
       "  </thead>\n",
       "  <tbody>\n",
       "  </tbody>\n",
       "</table>\n",
       "</div>"
      ],
      "text/plain": [
       "Empty DataFrame\n",
       "Columns: [Brand_name, Price, Ratings, Color, ROM, Display_size, Display_resolution, Processor, Primary_camera, Secondary_camera, Battery, Product_url]\n",
       "Index: []"
      ]
     },
     "execution_count": 25,
     "metadata": {},
     "output_type": "execute_result"
    }
   ],
   "source": [
    "url = []\n",
    "for i in driver.find_elements_by_xpath(\"//div[@class='_2kHMtA']/a\"):\n",
    "    url.append(i.get_attribute('href'))\n",
    "product_name = []\n",
    "brand_name = []\n",
    "Price = []\n",
    "#brand_name\n",
    "for page in url :\n",
    "    driver.get(page)\n",
    "    driver.find_element_by_xpath(\"//button[@class='_2KpZ6l _1FH0tX']\").click()\n",
    "    try :  \n",
    "        name = driver.find_element_by_xpath(\"//h1[@class='yhB1nd']/span[@class='B_NuCI']\")\n",
    "        if name.text is None :\n",
    "            brand_name.append(\"-\")\n",
    "        else :\n",
    "            brand_name.append(name.text)\n",
    "    \n",
    "    except NoSuchElementException :\n",
    "        brand_name.append(\"-\")\n",
    "#Price\n",
    "for page in url :\n",
    "    driver.get(page)\n",
    "    driver.find_element_by_xpath(\"//button[@class='_2KpZ6l _1FH0tX']\").click()\n",
    "    try : \n",
    "        price = driver.find_element_by_xpath(\"//div[@class='_25b18c']/div[@class='_30jeq3 _16Jk6d']\")\n",
    "        if price.text is None :\n",
    "            Price.append(\"-\")\n",
    "        else :\n",
    "            Price.append(price.text)\n",
    "    except NoSuchElementException :\n",
    "        Price.append(\"-\")\n",
    "ratings = []\n",
    "for page in url :\n",
    "    driver.get(page)\n",
    "    driver.find_element_by_xpath(\"//button[@class='_2KpZ6l _1FH0tX']\").click()\n",
    "    try : \n",
    "        rate = driver.find_element_by_xpath(\"//div[@class='col-4-12']/div/div/div/div\")\n",
    "        if rate.text is None :\n",
    "            ratings.append(\"-\")\n",
    "        else :\n",
    "            ratings.append(rate.text)\n",
    "    except NoSuchElementException :\n",
    "        ratings.append(\"-\")\n",
    "        \n",
    "    time.sleep(5)    \n",
    "\n",
    "colors = []\n",
    "for page in url :\n",
    "    driver.get(page)\n",
    "    driver.find_element_by_xpath(\"//button[@class='_2KpZ6l _1FH0tX']\").click()\n",
    "    try : \n",
    "        col = driver.find_element_by_xpath(\"//tr[@class='_1s_Smc row'][4]/td[2]/ul/li[@class='_21lJbe']\")\n",
    "        if col.text is None :\n",
    "            colors.append(\"-\")\n",
    "        else :\n",
    "            colors.append(col.text.split(',')[0])\n",
    "    except NoSuchElementException :\n",
    "        colors.append(\"-\")\n",
    "    time.sleep(5)  \n",
    "storage = []\n",
    "for page in url :\n",
    "    driver.get(page)\n",
    "    driver.find_element_by_xpath(\"//button[@class='_2KpZ6l _1FH0tX']\").click()\n",
    "    try : \n",
    "        stor = driver.find_element_by_xpath(\"//div[@class='_1AtVbE col-12-12']/div/div/div/div[4]/table/tbody/tr[1]/td/ul/li\")\n",
    "        if stor.text is None :\n",
    "            storage.append(\"-\")\n",
    "        else :\n",
    "            storage.append(stor.text)\n",
    "    except NoSuchElementException :\n",
    "        storage.append(\"-\")\n",
    "        \n",
    "    time.sleep(5) \n",
    "display = []\n",
    "for page in url :\n",
    "    driver.get(page)\n",
    "    driver.find_element_by_xpath(\"//button[@class='_2KpZ6l _1FH0tX']\").click()\n",
    "    try : \n",
    "        disp = driver.find_element_by_xpath(\"//div[@class='_1AtVbE col-12-12']/div/div/div[1]/div[2]/table/tbody/tr[1]/td/ul/li\")\n",
    "        if disp.text is None :\n",
    "            display.append(\"-\")\n",
    "        else :\n",
    "            display.append(disp.text)\n",
    "    except NoSuchElementException :\n",
    "        display.append(\"-\")\n",
    "        \n",
    "    time.sleep(5) \n",
    "display_res = []\n",
    "for page in url :\n",
    "    driver.get(page)\n",
    "    driver.find_element_by_xpath(\"//button[@class='_2KpZ6l _1FH0tX']\").click()\n",
    "    try : \n",
    "        dr = driver.find_element_by_xpath(\"//div[@class='_1AtVbE col-12-12']/div/div/div[1]/div[2]/table/tbody/tr[2]/td/ul/li\")\n",
    "        if dr.text is None :\n",
    "            display_res.append(\"-\")\n",
    "        else :\n",
    "            display_res.append(dr.text)\n",
    "    except NoSuchElementException :\n",
    "        display_res.append(\"-\")\n",
    "        \n",
    "    time.sleep(5) \n",
    "processor = []\n",
    "for page in url :\n",
    "    driver.get(page)\n",
    "    driver.find_element_by_xpath(\"//button[@class='_2KpZ6l _1FH0tX']\").click()\n",
    "    try : \n",
    "        p = driver.find_element_by_xpath(\"//div[@class='_1AtVbE col-12-12']/div/div/div[1]/div[3]/table/tbody/tr[2]/td/ul/li\")\n",
    "        if p.text is None :\n",
    "            processor.append(\"-\")\n",
    "        else :\n",
    "            processor.append(p.text)\n",
    "    except NoSuchElementException :\n",
    "        processor.append(\"-\")\n",
    "        \n",
    "    time.sleep(5) \n",
    "primary_camera = []\n",
    "for page in url :\n",
    "    driver.get(page)\n",
    "    driver.find_element_by_xpath(\"//button[@class='_2KpZ6l _1FH0tX']\").click()\n",
    "    try : \n",
    "        pc = driver.find_element_by_xpath(\"//div[@class='_1AtVbE col-12-12']/div/div/div[1]/div[5]/table/tbody/tr[2]/td/ul/li\")\n",
    "        if pc.text is None :\n",
    "            primary_camera.append(\"-\")\n",
    "        else :\n",
    "            primary_camera.append(pc.text)\n",
    "    except NoSuchElementException :\n",
    "        primary_camera.append(\"-\")\n",
    "        \n",
    "    time.sleep(5) \n",
    "secondary_camera = []\n",
    "for page in url :\n",
    "    driver.get(page)\n",
    "    driver.find_element_by_xpath(\"//button[@class='_2KpZ6l _1FH0tX']\").click()\n",
    "    try : \n",
    "        sc = driver.find_element_by_xpath(\"//div[@class='_1AtVbE col-12-12']/div/div/div[1]/div[5]/table/tbody/tr[5]/td/ul/li\")\n",
    "        if sc.text is None :\n",
    "            secondary_camera.append(\"-\")\n",
    "        else :\n",
    "            secondary_camera.append(sc.text)\n",
    "    except NoSuchElementException :\n",
    "        secondary_camera.append(\"-\")\n",
    "        \n",
    "    time.sleep(5) \n",
    "battery = []\n",
    "for page in url :\n",
    "    driver.get(page)\n",
    "    driver.find_element_by_xpath(\"//button[@class='_2KpZ6l _1FH0tX']\").click()\n",
    "    try : \n",
    "        b = driver.find_element_by_xpath(\"//div[@class='_1AtVbE col-12-12']/div/div/div[1]/div[10]/table/tbody/tr[1]/td/ul/li\")\n",
    "        if b.text is None :\n",
    "            battery.append(\"-\")\n",
    "        else :\n",
    "            battery.append(b.text)\n",
    "    except NoSuchElementException :\n",
    "        battery.append(\"-\")\n",
    "        \n",
    "df = pd.DataFrame({})\n",
    "df['Brand_name'] = brand_name\n",
    "df['Price'] = Price\n",
    "df['Ratings'] = ratings\n",
    "df['Color'] = colors\n",
    "df['ROM'] = storage\n",
    "df['Display_size']=display\n",
    "df['Display_resolution']=display_res\n",
    "df['Processor']=processor\n",
    "df['Primary_camera']=primary_camera\n",
    "df['Secondary_camera']=secondary_camera\n",
    "df['Battery']=battery\n",
    "df['Product_url']=url\n",
    "df.head()"
   ]
  },
  {
   "cell_type": "markdown",
   "id": "70aec97a",
   "metadata": {},
   "source": [
    "# 5. Write a program to scrap geospatial coordinates (latitude, longitude) of a city searched on googlemaps"
   ]
  },
  {
   "cell_type": "code",
   "execution_count": 26,
   "id": "1e5b666b",
   "metadata": {},
   "outputs": [],
   "source": [
    "import pandas as pd\n",
    "import selenium\n",
    "from selenium import webdriver\n",
    "import re\n",
    "import requests\n",
    "from selenium.common.exceptions import StaleElementReferenceException, NoSuchElementException"
   ]
  },
  {
   "cell_type": "code",
   "execution_count": 27,
   "id": "9a628f25",
   "metadata": {},
   "outputs": [
    {
     "name": "stdout",
     "output_type": "stream",
     "text": [
      "Enter City Name : jabalpur\n",
      "URL Extracted:  https://www.google.co.in/maps/place/Jabalpur,+Madhya+Pradesh/@23.1759488,79.8286628,11z/data=!3m1!4b1!4m5!3m4!1s0x3981ae1a0fb6a97d:0x44020616bc43e3b9!8m2!3d23.181467!4d79.9864071\n",
      "Latitude = 23.1759488, Longitude = 79.8286628\n"
     ]
    }
   ],
   "source": [
    "# opening google maps\n",
    "driver=webdriver.Chrome(r\"E:\\chrome driver\\chromedriver.exe\")\n",
    "driver.get(\"https://www.google.co.in/maps\")\n",
    "time.sleep(3)\n",
    "\n",
    "city = input('Enter City Name : ')                                       \n",
    "search = driver.find_element_by_id(\"searchboxinput\")                    \n",
    "search.clear()                                                             \n",
    "time.sleep(2)\n",
    "search.send_keys(city)                                                    \n",
    "button = driver.find_element_by_id(\"searchbox-searchbutton\")              \n",
    "button.click()                                                          \n",
    "time.sleep(3)\n",
    "\n",
    "try:\n",
    "    url_string = driver.current_url\n",
    "    print(\"URL Extracted: \", url_string)\n",
    "    lat_lng = re.findall(r'@(.*)data',url_string)\n",
    "    if len(lat_lng):\n",
    "        lat_lng_list = lat_lng[0].split(\",\")\n",
    "        if len(lat_lng_list)>=2:\n",
    "            lat = lat_lng_list[0]\n",
    "            lng = lat_lng_list[1]\n",
    "        print(\"Latitude = {}, Longitude = {}\".format(lat, lng))\n",
    "\n",
    "except Exception as e:\n",
    "        print(\"Error: \", str(e))"
   ]
  },
  {
   "cell_type": "markdown",
   "id": "6f4116c9",
   "metadata": {},
   "source": [
    "# 6)Write a program to scrap details of all the funding deals for second quarter (i.e Jan 21 – March 21) from trak.in."
   ]
  },
  {
   "cell_type": "code",
   "execution_count": 28,
   "id": "f788f810",
   "metadata": {},
   "outputs": [],
   "source": [
    "#importing all the required libraries\n",
    "import pandas as pd\n",
    "import selenium\n",
    "from selenium import webdriver\n",
    "import re\n",
    "import requests\n",
    "from selenium.common.exceptions import StaleElementReferenceException, NoSuchElementException"
   ]
  },
  {
   "cell_type": "code",
   "execution_count": 29,
   "id": "c6b51335",
   "metadata": {},
   "outputs": [],
   "source": [
    "driver=webdriver.Chrome(r\"E:\\chrome driver\\chromedriver.exe\")\n",
    "driver.get(\"https://trak.in\")\n",
    "time.sleep(3)"
   ]
  },
  {
   "cell_type": "code",
   "execution_count": 30,
   "id": "cca843af",
   "metadata": {},
   "outputs": [],
   "source": [
    "#Selecting Search Button.\n",
    "search_button = driver.find_element_by_xpath('//li[@id=\"menu-item-51510\"]/a').get_attribute('href')\n",
    "driver.get(search_button)"
   ]
  },
  {
   "cell_type": "code",
   "execution_count": 31,
   "id": "64ae78e1",
   "metadata": {},
   "outputs": [
    {
     "data": {
      "text/html": [
       "<div>\n",
       "<style scoped>\n",
       "    .dataframe tbody tr th:only-of-type {\n",
       "        vertical-align: middle;\n",
       "    }\n",
       "\n",
       "    .dataframe tbody tr th {\n",
       "        vertical-align: top;\n",
       "    }\n",
       "\n",
       "    .dataframe thead th {\n",
       "        text-align: right;\n",
       "    }\n",
       "</style>\n",
       "<table border=\"1\" class=\"dataframe\">\n",
       "  <thead>\n",
       "    <tr style=\"text-align: right;\">\n",
       "      <th></th>\n",
       "      <th>Date</th>\n",
       "      <th>Startup Name</th>\n",
       "      <th>Industry/Vertical</th>\n",
       "      <th>Sub-Vertical</th>\n",
       "      <th>Location</th>\n",
       "      <th>Investor</th>\n",
       "      <th>Investment Type</th>\n",
       "      <th>Amount(in USD)</th>\n",
       "    </tr>\n",
       "  </thead>\n",
       "  <tbody>\n",
       "    <tr>\n",
       "      <th>0</th>\n",
       "      <td>13/11/2019</td>\n",
       "      <td>Freshworks</td>\n",
       "      <td>Software</td>\n",
       "      <td>Business and customer engagement tools</td>\n",
       "      <td>San Francisco</td>\n",
       "      <td>Sequoia, CapitalG, Accel</td>\n",
       "      <td>Series H</td>\n",
       "      <td>15,000,0000</td>\n",
       "    </tr>\n",
       "    <tr>\n",
       "      <th>1</th>\n",
       "      <td>14/11/2019</td>\n",
       "      <td>Misters</td>\n",
       "      <td>Health and wellness</td>\n",
       "      <td>Men's Health and Wellness brand</td>\n",
       "      <td>Gurgaon</td>\n",
       "      <td>Sauce.vc, Rainforest Ventures</td>\n",
       "      <td>Series B</td>\n",
       "      <td>486,000</td>\n",
       "    </tr>\n",
       "    <tr>\n",
       "      <th>2</th>\n",
       "      <td>13/11/2019</td>\n",
       "      <td>Sunstone Eduversity Pvt. Ltd</td>\n",
       "      <td>Education</td>\n",
       "      <td>Elearning</td>\n",
       "      <td>Gurgaon</td>\n",
       "      <td>Prime Venture Partners, LetsVenture, PS1 Ventu...</td>\n",
       "      <td>Seed</td>\n",
       "      <td>1,500,000</td>\n",
       "    </tr>\n",
       "    <tr>\n",
       "      <th>3</th>\n",
       "      <td>17/11/2019</td>\n",
       "      <td>Burger Singh</td>\n",
       "      <td>Food and Beverage</td>\n",
       "      <td>Indian Burger Brand</td>\n",
       "      <td>Gurgaon</td>\n",
       "      <td>RB Investments</td>\n",
       "      <td>Venture</td>\n",
       "      <td>undisclosed</td>\n",
       "    </tr>\n",
       "    <tr>\n",
       "      <th>4</th>\n",
       "      <td>18/11/2019</td>\n",
       "      <td>Healthians</td>\n",
       "      <td>Health and Wellness</td>\n",
       "      <td>Healthcare services</td>\n",
       "      <td>Gurgaon</td>\n",
       "      <td>DG Daiwa Ventures, DG Incubation</td>\n",
       "      <td>Series B</td>\n",
       "      <td>12,000,000</td>\n",
       "    </tr>\n",
       "  </tbody>\n",
       "</table>\n",
       "</div>"
      ],
      "text/plain": [
       "         Date                  Startup Name    Industry/Vertical  \\\n",
       "0  13/11/2019                    Freshworks             Software   \n",
       "1  14/11/2019                       Misters  Health and wellness   \n",
       "2  13/11/2019  Sunstone Eduversity Pvt. Ltd            Education   \n",
       "3  17/11/2019                  Burger Singh    Food and Beverage   \n",
       "4  18/11/2019                    Healthians  Health and Wellness   \n",
       "\n",
       "                             Sub-Vertical       Location  \\\n",
       "0  Business and customer engagement tools  San Francisco   \n",
       "1         Men's Health and Wellness brand        Gurgaon   \n",
       "2                               Elearning        Gurgaon   \n",
       "3                     Indian Burger Brand        Gurgaon   \n",
       "4                     Healthcare services        Gurgaon   \n",
       "\n",
       "                                            Investor Investment Type  \\\n",
       "0                           Sequoia, CapitalG, Accel        Series H   \n",
       "1                      Sauce.vc, Rainforest Ventures        Series B   \n",
       "2  Prime Venture Partners, LetsVenture, PS1 Ventu...            Seed   \n",
       "3                                     RB Investments         Venture   \n",
       "4                   DG Daiwa Ventures, DG Incubation        Series B   \n",
       "\n",
       "  Amount(in USD)  \n",
       "0    15,000,0000  \n",
       "1        486,000  \n",
       "2      1,500,000  \n",
       "3    undisclosed  \n",
       "4     12,000,000  "
      ]
     },
     "execution_count": 31,
     "metadata": {},
     "output_type": "execute_result"
    }
   ],
   "source": [
    "#creating Empty List:\n",
    "trade_dict = {}\n",
    "trade_dict['Date'] = []\n",
    "trade_dict['Startup Name'] = []\n",
    "trade_dict['Industry/Vertical'] = []\n",
    "trade_dict['Sub-Vertical'] = []\n",
    "trade_dict['Location'] = []\n",
    "trade_dict['Investor'] = []\n",
    "trade_dict['Investment Type'] = []\n",
    "trade_dict['Amount(in USD)'] = []\n",
    "for i in range(40,51):\n",
    "    driver.find_element_by_xpath('//div[@id=\"tablepress-{}_wrapper\"]/div/label/select/option[4]'.format(i)).click()\n",
    "\n",
    "    # Date\n",
    "    dt = driver.find_elements_by_xpath('//table[@id=\"tablepress-{}\"]/tbody/tr/td[2]'.format(i))\n",
    "    for d in dt:\n",
    "        trade_dict['Date'].append(d.text)\n",
    "\n",
    "    # Startup Name\n",
    "    sn = driver.find_elements_by_xpath('//table[@id=\"tablepress-{}\"]/tbody/tr/td[3]'.format(i))\n",
    "    for n in sn:\n",
    "        trade_dict['Startup Name'].append(n.text)\n",
    "    \n",
    "    # Industry/Vertical\n",
    "    ind = driver.find_elements_by_xpath('//table[@id=\"tablepress-{}\"]/tbody/tr/td[4]'.format(i))\n",
    "    for n in ind:\n",
    "        trade_dict['Industry/Vertical'].append(n.text)\n",
    "    \n",
    "    # Sub-Vertical\n",
    "    sv = driver.find_elements_by_xpath('//table[@id=\"tablepress-{}\"]/tbody/tr/td[5]'.format(i))\n",
    "    for s in sv:\n",
    "        trade_dict['Sub-Vertical'].append(s.text)\n",
    "\n",
    "    # Location\n",
    "    loc = driver.find_elements_by_xpath('//table[@id=\"tablepress-{}\"]/tbody/tr/td[6]'.format(i))\n",
    "    for l in loc:\n",
    "        trade_dict['Location'].append(l.text)\n",
    "    \n",
    "    # Investor\n",
    "    inv = driver.find_elements_by_xpath('//table[@id=\"tablepress-{}\"]/tbody/tr/td[7]'.format(i))\n",
    "    for n in inv:\n",
    "        trade_dict['Investor'].append(n.text)\n",
    "    \n",
    "    # Investment Type\n",
    "    invt = driver.find_elements_by_xpath('//table[@id=\"tablepress-{}\"]/tbody/tr/td[8]'.format(i))\n",
    "    for n in invt:\n",
    "        trade_dict['Investment Type'].append(n.text)\n",
    "    \n",
    "    # Amount\n",
    "    amt = driver.find_elements_by_xpath('//table[@id=\"tablepress-{}\"]/tbody/tr/td[9]'.format(i))\n",
    "    for a in amt:\n",
    "        trade_dict['Amount(in USD)'].append(a.text)\n",
    "    \n",
    "trade_df = pd.DataFrame(trade_dict)\n",
    "trade_df.head()"
   ]
  },
  {
   "cell_type": "markdown",
   "id": "5f4e81ec",
   "metadata": {},
   "source": [
    "# 7. Write a program to scrap all the available details of best gaming laptops from digit.in"
   ]
  },
  {
   "cell_type": "code",
   "execution_count": 32,
   "id": "3482634c",
   "metadata": {},
   "outputs": [],
   "source": [
    "#importing all the required libraries\n",
    "import pandas as pd\n",
    "import selenium\n",
    "from selenium import webdriver\n",
    "import re\n",
    "import requests\n",
    "from selenium.common.exceptions import StaleElementReferenceException, NoSuchElementException\n",
    "from bs4 import BeautifulSoup\n",
    "\n",
    "driver=webdriver.Chrome(r\"E:\\chrome driver\\chromedriver.exe\")\n",
    "time.sleep(6)\n",
    "\n",
    "url = \"https://www.digit.in\"\n",
    "driver.get(url)\n",
    "driver.maximize_window()"
   ]
  },
  {
   "cell_type": "code",
   "execution_count": 33,
   "id": "6d019eec",
   "metadata": {},
   "outputs": [
    {
     "data": {
      "text/plain": [
       "<Response [200]>"
      ]
     },
     "execution_count": 33,
     "metadata": {},
     "output_type": "execute_result"
    }
   ],
   "source": [
    "url = 'https://www.digit.in/top-products/best-gaming-laptops-40.html'\n",
    "page = requests.get(url)\n",
    "page"
   ]
  },
  {
   "cell_type": "code",
   "execution_count": 34,
   "id": "30d8d585",
   "metadata": {},
   "outputs": [],
   "source": [
    "htmlContent= page.content\n",
    "soup= BeautifulSoup(htmlContent,'html.parser')"
   ]
  },
  {
   "cell_type": "code",
   "execution_count": 35,
   "id": "7927ba9e",
   "metadata": {},
   "outputs": [],
   "source": [
    "laptopdetails=[]\n",
    "for i in soup.find_all(\"div\", class_='value'):\n",
    "    laptopdetails.append(i.text)\n",
    "    \n",
    "laptopname=[]\n",
    "for i in soup.find_all(\"div\", class_='Top10-Seller'):\n",
    "    laptopname.append(i.text.replace('\\n',','))"
   ]
  },
  {
   "cell_type": "code",
   "execution_count": 36,
   "id": "e73c825e",
   "metadata": {},
   "outputs": [
    {
     "data": {
      "text/plain": [
       "[', List Of Best Gaming Laptops In India  (Jan 2022),,,,Product Name,Seller,Price,,,,,Acer Nitro 5,,Flipkart,,,₹ 129,990,,,,MSI Stealth 15M,,Flipkart,,,₹ 134,990,,,,ASUS ROG Strix Scar 15,,Flipkart,,,₹ 268,990,,,,Alienware Area 51M R2,,N/A,,,₹ 342,989,,,,Alienware m15 R3,,Amazon,,,₹ 319,990,,,,ASUS ROG Strix Scar 15,,Flipkart,,,₹ 215,990,,,,ASUS ZEPHYRUS G14,,Amazon,,,₹ 164,990,,,,Lenovo Legion 5i,,Amazon,,,₹ 76,988,,,,ASUS ROG ZEPHYRUS DUO 15,,Amazon,,,₹ 185,000,,,,Acer Aspire 7 gaming laptop,,Amazon,,,₹ 57,990,,,,,']"
      ]
     },
     "execution_count": 36,
     "metadata": {},
     "output_type": "execute_result"
    }
   ],
   "source": [
    "laptopname"
   ]
  },
  {
   "cell_type": "code",
   "execution_count": 37,
   "id": "90f10743",
   "metadata": {},
   "outputs": [
    {
     "data": {
      "text/plain": [
       "['Windows 10',\n",
       " '15.6\" (1920 x 1080)',\n",
       " 'AMD Ryzen 9 Octa Core | 2.4 GHz',\n",
       " '1 TB HDD/16 GBGB DDR4',\n",
       " 'Windows 10',\n",
       " '15.6\" (1920 x 1080)',\n",
       " 'Intel Core i7 11th Gen - 11375H  | NA',\n",
       " '1 TB SSD/16 GBGB DDR4',\n",
       " 'Windows 10',\n",
       " '15.6\" (2560 x 1440)',\n",
       " 'AMD Ryzen 9 Octa Core - 5900HX | 3.3 GHz',\n",
       " '2 TB SSD/32 GBGB DDR4',\n",
       " 'Windows 10 Home',\n",
       " '17.3\" (1920 x 1080)',\n",
       " '10th Gen Intel® Core™ i7-10700 | 2.90 GHz',\n",
       " '1 TB SSD/16 GBGB DDR4',\n",
       " 'Windows 10 Home',\n",
       " '15.6\" (3840 x 2160)',\n",
       " '10th Gen Intel® Core™ i9-10980HK  | NA',\n",
       " '1 TB SSD/16 GBGB DDR4',\n",
       " 'Windows 10 Home',\n",
       " '15.6\" (1920 x 1080)',\n",
       " 'AMD Ryzen™ 9 5900HX | 3.3 GHz',\n",
       " '1 TB SSD/16 GBGB DDR4',\n",
       " 'Windows 10 Home',\n",
       " '14\" (1920 x 1080)',\n",
       " 'AMD 3rd Gen Ryzen 9 | 3.3 GHz',\n",
       " '1 TB SSD/16 GBGB DDR4',\n",
       " 'Windows 10 Pro',\n",
       " '15.6\" (1920 x 1080)',\n",
       " '10th Gen Intel® Core™ i5-10300H | 2.50 GHz',\n",
       " '1 TB SSD/16 GBGB DDR4',\n",
       " 'Windows 10',\n",
       " '15.6\" (3840 x 1100)',\n",
       " 'Intel Core i7 10th Gen 10875H  | NA',\n",
       " '512 GB SSD/4 GBGB DDR4',\n",
       " 'Windows 10 Home',\n",
       " '15.6\" (1920 x 1080)',\n",
       " 'AMD Ryzen™ 5-5500U hexa-core  | NA',\n",
       " '512 GB SSD/8 GBGB DDR4']"
      ]
     },
     "execution_count": 37,
     "metadata": {},
     "output_type": "execute_result"
    }
   ],
   "source": [
    "laptopdetails"
   ]
  },
  {
   "cell_type": "markdown",
   "id": "d1d5edc9",
   "metadata": {},
   "source": [
    "# 8.Write a python program to scrape the details for all billionaires from www.forbes.com.\n",
    "\n",
    "# Details to be scrapped: “Rank”, “Name”, “Net worth”, “Age”, “Citizenship”, “Source”,“Industry”\n"
   ]
  },
  {
   "cell_type": "code",
   "execution_count": null,
   "id": "6381d97a",
   "metadata": {},
   "outputs": [],
   "source": [
    "url = \"https://www.forbes.com/worlds-billionaires/?sh=485632655864\"\n",
    "page2 = requests.get(url)\n",
    "soup2 = BeautifulSoup(page2.content)"
   ]
  },
  {
   "cell_type": "code",
   "execution_count": null,
   "id": "b427b4e2",
   "metadata": {},
   "outputs": [],
   "source": [
    "bill_name = []\n",
    "for i in soup2.find_all(\"div\", class_='personName'):\n",
    "    bill_name.append(i.text)"
   ]
  },
  {
   "cell_type": "code",
   "execution_count": null,
   "id": "35a9afe9",
   "metadata": {},
   "outputs": [],
   "source": [
    "rank_name = []\n",
    "for i in soup2.find_all(\"div\", class_='rank'):\n",
    "    rank_name.append(i.text)"
   ]
  },
  {
   "cell_type": "markdown",
   "id": "d128796b",
   "metadata": {},
   "source": [
    "# 9. Write a program to extract at least 500 Comments, Comment upvote and time when comment\n",
    "was posted from any YouTube Video"
   ]
  },
  {
   "cell_type": "code",
   "execution_count": null,
   "id": "2746efe3",
   "metadata": {},
   "outputs": [],
   "source": [
    "youtube=webdriver.Chrome(r\"E:\\chrome driver\\chromedriver.exe\")\n",
    "time.sleep(6)\n",
    "\n",
    "url = \"https://www.youtube.com/\"\n",
    "youtube.get(url)"
   ]
  },
  {
   "cell_type": "code",
   "execution_count": null,
   "id": "2044ccbe",
   "metadata": {},
   "outputs": [],
   "source": [
    "youtube.maximize_window()"
   ]
  },
  {
   "cell_type": "code",
   "execution_count": null,
   "id": "97c58513",
   "metadata": {},
   "outputs": [],
   "source": [
    "openvideo=youtube.find_element_by_xpath('/html/body/ytd-app/div/div/ytd-masthead/div[3]/div[2]/ytd-searchbox/form/div[1]/div[1]/input')"
   ]
  },
  {
   "cell_type": "code",
   "execution_count": null,
   "id": "abf506a9",
   "metadata": {},
   "outputs": [],
   "source": [
    "from selenium.webdriver.support.ui import WebDriverWait\n",
    "from selenium.webdriver.support import expected_conditions as EC\n",
    "from selenium.webdriver.common.keys import Keys\n",
    "from selenium.webdriver import Chrome\n",
    "from selenium.webdriver.common.by import By\n",
    "comments=[]\n",
    "commentupvote=[]\n",
    "timeofcomment=[]\n",
    "\n",
    "wait = WebDriverWait(youtube,15)\n",
    "for item in range(20): \n",
    "    wait.until(EC.visibility_of_element_located((By.TAG_NAME, \"body\"))).send_keys(Keys.END)\n",
    "    time.sleep(50)\n",
    "\n",
    "for comment in wait.until(EC.presence_of_all_elements_located((By.CSS_SELECTOR, \"#content\"))):\n",
    "    comments.append(comment.text)"
   ]
  },
  {
   "cell_type": "code",
   "execution_count": null,
   "id": "6ec69190",
   "metadata": {},
   "outputs": [],
   "source": [
    "for upvote in wait.until(EC.presence_of_all_elements_located((By.CSS_SELECTOR, \"#vote-count-middle\"))):\n",
    "    commentupvote.append(upvote.text)\n",
    "    \n",
    "for tt in wait.until(EC.presence_of_all_elements_located((By.CSS_SELECTOR, \"#header-author\"))):\n",
    "    timeofcomment.append(tt.text)"
   ]
  },
  {
   "cell_type": "code",
   "execution_count": null,
   "id": "58141c62",
   "metadata": {},
   "outputs": [],
   "source": [
    "com =[comments[x] for x in range(0,500)]\n",
    "times =[timeofcomment[x] for x in range(0,500)]\n",
    "up=[commentupvote[x] for x in range(0,500)]"
   ]
  },
  {
   "cell_type": "code",
   "execution_count": null,
   "id": "44f8095a",
   "metadata": {},
   "outputs": [],
   "source": [
    "youtubecommentsection=pd.DataFrame({'comments':com,'comment_upvote':up,'time_of_comments':times})\n",
    "youtubecommentsection"
   ]
  },
  {
   "cell_type": "markdown",
   "id": "9b18cabb",
   "metadata": {},
   "source": [
    "# 10.Write a python program to scrape a data for all available Hostels from https://www.hostelworld.com/ in “London” location. You have to scrape hostel name,distance from city centre, ratings, total reviews, overall reviews, privates from price, dorms from price, facilities and property description"
   ]
  },
  {
   "cell_type": "code",
   "execution_count": null,
   "id": "5d421600",
   "metadata": {},
   "outputs": [],
   "source": [
    "driver=webdriver.Chrome(r\"E:\\chrome driver\\chromedriver.exe\")\n",
    "time.sleep(5)\n",
    "\n",
    "url = \"https://www.hostelworld.com/\"\n",
    "driver.get(url)\n",
    "sleep.time(5)"
   ]
  },
  {
   "cell_type": "code",
   "execution_count": null,
   "id": "b3dd1237",
   "metadata": {},
   "outputs": [],
   "source": [
    "driver.maximize_window()"
   ]
  },
  {
   "cell_type": "code",
   "execution_count": null,
   "id": "2ea01593",
   "metadata": {},
   "outputs": [],
   "source": [
    "search_bar = driver.find_element_by_xpath(\"/html/body/div[3]/div/div/div[1]/div[1]/div/div[2]/div[4]/div/div[2]/div/div[1]/div/div/div/input\")    # Locating searc_bar by id\n",
    "search_bar.clear()\n",
    "search_bar.send_keys(\"london\")"
   ]
  },
  {
   "cell_type": "code",
   "execution_count": null,
   "id": "f45319aa",
   "metadata": {},
   "outputs": [],
   "source": [
    "londonselect = driver.find_element_by_xpath(\"/html/body/div[3]/div/div/div[1]/div[1]/div/div[2]/div[4]/div/div[2]/div/div[1]/div/div/ul/li[2]\").click()      "
   ]
  },
  {
   "cell_type": "code",
   "execution_count": null,
   "id": "8b42185d",
   "metadata": {},
   "outputs": [],
   "source": [
    "search_btn = driver.find_element_by_id('search-button').click()\n"
   ]
  },
  {
   "cell_type": "code",
   "execution_count": null,
   "id": "a8e98a0c",
   "metadata": {},
   "outputs": [],
   "source": [
    "hostelname=[]\n",
    "distancecc=[]\n",
    "ratings=[]\n",
    "totalreviews=[]\n",
    "overallreviews=[]\n",
    "pvtfromprice=[]\n",
    "dormsfromprice=[]\n",
    "facilitiesNpropDescr=[]\n",
    "\n",
    "time.sleep(3)\n",
    "#Scrapping hostel name\n",
    "hn=driver.find_elements_by_xpath(\"//h2[@class='title title-6']\")\n",
    "for i in hn:\n",
    "    hostelname.append(i.text)"
   ]
  },
  {
   "cell_type": "code",
   "execution_count": null,
   "id": "4503be0d",
   "metadata": {},
   "outputs": [],
   "source": [
    "dcc=driver.find_elements_by_xpath(\"//span[@class='description']\")\n",
    "for i in dcc:\n",
    "    distancecc.append(i.text)\n",
    "    \n",
    "totrs=driver.find_elements_by_xpath(\"//div[@class='reviews']\")\n",
    "for i in totrs:\n",
    "    totalreviews.append(i.text)\n",
    "    \n",
    "ovrs=driver.find_elements_by_xpath(\"/html/body/div[3]/div/div/div[1]/div[4]/div/div/div[3]/div[2]/div[2]/a/div/div[2]/div[1]/span\")\n",
    "for i in ovrs:\n",
    "    overallreviews.append(i.text)\n",
    "    \n",
    "fac=driver.find_elements_by_xpath(\"//div[@class='rating-factors prop-card-tablet rating-factors small']\")\n",
    "for i in fac:\n",
    "    facilitiesNpropDescr.append(i.text)"
   ]
  },
  {
   "cell_type": "code",
   "execution_count": null,
   "id": "2f28843e",
   "metadata": {},
   "outputs": [],
   "source": [
    "try:                                                                  \n",
    "    rating=driver.find_elements_by_xpath(\"//div[@class='score orange big']\")\n",
    "    ratings.append(rating.text)\n",
    "        \n",
    "except:\n",
    "    r1=driver.find_elements_by_xpath(\"//div[@class='score grey big']\")\n",
    "    ratings.append(\"r1.text\")"
   ]
  },
  {
   "cell_type": "code",
   "execution_count": null,
   "id": "97b444e0",
   "metadata": {},
   "outputs": [],
   "source": [
    "pvts=driver.find_elements_by_xpath(\"//div[@class='price-col']\")\n",
    "for i in pvts:\n",
    "    pvtfromprice.append(i.text)"
   ]
  },
  {
   "cell_type": "code",
   "execution_count": null,
   "id": "d60bac56",
   "metadata": {},
   "outputs": [],
   "source": [
    "pvts1=[pvtfromprice[x] for x in range(0,len(pvtfromprice),2)]\n",
    "dormsfromprice=[pvtfromprice[x] for x in range(1,len(pvtfromprice),2)]"
   ]
  },
  {
   "cell_type": "code",
   "execution_count": null,
   "id": "7d838f8a",
   "metadata": {},
   "outputs": [],
   "source": [
    "ovrs=driver.find_elements_by_xpath(\"//div[@class='keyword']\")\n",
    "for i in ovrs:\n",
    "    overallreviews.append(i.text)"
   ]
  },
  {
   "cell_type": "code",
   "execution_count": null,
   "id": "c8526cbd",
   "metadata": {},
   "outputs": [],
   "source": [
    "ovrs1=[overallreviews[x] for x in range(0,30)]\n",
    "Ratings=[ratings[x] for x in range (0,30)]"
   ]
  },
  {
   "cell_type": "code",
   "execution_count": null,
   "id": "f928eb7f",
   "metadata": {},
   "outputs": [],
   "source": [
    "london_hostels=pd.DataFrame({'hostel_name':hostelname,'distance_from_citycenter':distancecc,'Ratings':Ratings,'Total_Reviews':totalreviews,\n",
    "                 'OverallReviews':ovrs1,'DormsFromPrice':dormsfromprice,'PrivateFromPrice':pvts1,'Facilities_and_Properties_Description':facilitiesNpropDescr})\n",
    "london_hostels.head()"
   ]
  },
  {
   "cell_type": "raw",
   "id": "ec4c2993",
   "metadata": {},
   "source": []
  },
  {
   "cell_type": "raw",
   "id": "dd393b78",
   "metadata": {},
   "source": []
  },
  {
   "cell_type": "code",
   "execution_count": null,
   "id": "cdfbea4a",
   "metadata": {},
   "outputs": [],
   "source": []
  }
 ],
 "metadata": {
  "kernelspec": {
   "display_name": "Python 3 (ipykernel)",
   "language": "python",
   "name": "python3"
  },
  "language_info": {
   "codemirror_mode": {
    "name": "ipython",
    "version": 3
   },
   "file_extension": ".py",
   "mimetype": "text/x-python",
   "name": "python",
   "nbconvert_exporter": "python",
   "pygments_lexer": "ipython3",
   "version": "3.9.8"
  }
 },
 "nbformat": 4,
 "nbformat_minor": 5
}
