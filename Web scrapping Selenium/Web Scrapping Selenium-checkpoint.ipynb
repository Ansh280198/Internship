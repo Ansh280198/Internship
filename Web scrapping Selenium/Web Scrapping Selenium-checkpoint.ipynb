{
 "cells": [
  {
   "cell_type": "markdown",
   "id": "95de232a",
   "metadata": {},
   "source": [
    "# Fliprobo Assignment 2"
   ]
  },
  {
   "cell_type": "markdown",
   "id": "22a1ff4f",
   "metadata": {},
   "source": [
    "# Q1.Write a python program to scrape data for “Data Analyst” Job position in “Bangalore” location. You have to scrape the job-title, job-location, company_name, experience_required. You have to scrape first 10 jobs data.\n",
    "This task will be done in following steps:\n",
    "1. First get the webpage https://www.naukri.com/\n",
    "2. Enter “Data Analyst” in “Skill, Designations, Companies” field and enter “Bangalore” in “enter the\n",
    "location” field.\n",
    "3. Then click the search button.\n",
    "4. Then scrape the data for the first 10 jobs results you get.\n",
    "5. Finally create a dataframe of the scraped data.\n",
    "Note: All of the above steps have to be done in code. No step is to be done manually. "
   ]
  },
  {
   "cell_type": "code",
   "execution_count": 1,
   "id": "d4314897",
   "metadata": {},
   "outputs": [
    {
     "name": "stdout",
     "output_type": "stream",
     "text": [
      "Requirement already satisfied: pandas in c:\\users\\anshul\\appdata\\local\\programs\\python\\python39\\lib\\site-packages (1.3.4)"
     ]
    },
    {
     "name": "stderr",
     "output_type": "stream",
     "text": [
      "WARNING: You are using pip version 21.2.4; however, version 21.3.1 is available.\n",
      "You should consider upgrading via the 'C:\\Users\\anshul\\AppData\\Local\\Programs\\Python\\Python39\\python.exe -m pip install --upgrade pip' command.\n"
     ]
    },
    {
     "name": "stdout",
     "output_type": "stream",
     "text": [
      "\n",
      "Requirement already satisfied: numpy>=1.17.3 in c:\\users\\anshul\\appdata\\local\\programs\\python\\python39\\lib\\site-packages (from pandas) (1.21.4)\n",
      "Requirement already satisfied: pytz>=2017.3 in c:\\users\\anshul\\appdata\\local\\programs\\python\\python39\\lib\\site-packages (from pandas) (2021.3)\n",
      "Requirement already satisfied: python-dateutil>=2.7.3 in c:\\users\\anshul\\appdata\\local\\programs\\python\\python39\\lib\\site-packages (from pandas) (2.8.2)\n",
      "Requirement already satisfied: six>=1.5 in c:\\users\\anshul\\appdata\\local\\programs\\python\\python39\\lib\\site-packages (from python-dateutil>=2.7.3->pandas) (1.16.0)\n",
      "Requirement already satisfied: selenium in c:\\users\\anshul\\appdata\\local\\programs\\python\\python39\\lib\\site-packages (4.1.0)"
     ]
    },
    {
     "name": "stderr",
     "output_type": "stream",
     "text": [
      "WARNING: You are using pip version 21.2.4; however, version 21.3.1 is available.\n",
      "You should consider upgrading via the 'C:\\Users\\anshul\\AppData\\Local\\Programs\\Python\\Python39\\python.exe -m pip install --upgrade pip' command.\n"
     ]
    },
    {
     "name": "stdout",
     "output_type": "stream",
     "text": [
      "\n",
      "Requirement already satisfied: trio-websocket~=0.9 in c:\\users\\anshul\\appdata\\local\\programs\\python\\python39\\lib\\site-packages (from selenium) (0.9.2)\n",
      "Requirement already satisfied: urllib3[secure]~=1.26 in c:\\users\\anshul\\appdata\\local\\programs\\python\\python39\\lib\\site-packages (from selenium) (1.26.7)\n",
      "Requirement already satisfied: trio~=0.17 in c:\\users\\anshul\\appdata\\local\\programs\\python\\python39\\lib\\site-packages (from selenium) (0.19.0)\n",
      "Requirement already satisfied: idna in c:\\users\\anshul\\appdata\\local\\programs\\python\\python39\\lib\\site-packages (from trio~=0.17->selenium) (3.3)\n",
      "Requirement already satisfied: async-generator>=1.9 in c:\\users\\anshul\\appdata\\local\\programs\\python\\python39\\lib\\site-packages (from trio~=0.17->selenium) (1.10)\n",
      "Requirement already satisfied: attrs>=19.2.0 in c:\\users\\anshul\\appdata\\local\\programs\\python\\python39\\lib\\site-packages (from trio~=0.17->selenium) (21.2.0)\n",
      "Requirement already satisfied: cffi>=1.14 in c:\\users\\anshul\\appdata\\local\\programs\\python\\python39\\lib\\site-packages (from trio~=0.17->selenium) (1.15.0)\n",
      "Requirement already satisfied: outcome in c:\\users\\anshul\\appdata\\local\\programs\\python\\python39\\lib\\site-packages (from trio~=0.17->selenium) (1.1.0)\n",
      "Requirement already satisfied: sortedcontainers in c:\\users\\anshul\\appdata\\local\\programs\\python\\python39\\lib\\site-packages (from trio~=0.17->selenium) (2.4.0)\n",
      "Requirement already satisfied: sniffio in c:\\users\\anshul\\appdata\\local\\programs\\python\\python39\\lib\\site-packages (from trio~=0.17->selenium) (1.2.0)\n",
      "Requirement already satisfied: pycparser in c:\\users\\anshul\\appdata\\local\\programs\\python\\python39\\lib\\site-packages (from cffi>=1.14->trio~=0.17->selenium) (2.21)\n",
      "Requirement already satisfied: wsproto>=0.14 in c:\\users\\anshul\\appdata\\local\\programs\\python\\python39\\lib\\site-packages (from trio-websocket~=0.9->selenium) (1.0.0)\n",
      "Requirement already satisfied: cryptography>=1.3.4 in c:\\users\\anshul\\appdata\\local\\programs\\python\\python39\\lib\\site-packages (from urllib3[secure]~=1.26->selenium) (36.0.1)\n",
      "Requirement already satisfied: certifi in c:\\users\\anshul\\appdata\\local\\programs\\python\\python39\\lib\\site-packages (from urllib3[secure]~=1.26->selenium) (2021.10.8)\n",
      "Requirement already satisfied: pyOpenSSL>=0.14 in c:\\users\\anshul\\appdata\\local\\programs\\python\\python39\\lib\\site-packages (from urllib3[secure]~=1.26->selenium) (21.0.0)\n",
      "Requirement already satisfied: six>=1.5.2 in c:\\users\\anshul\\appdata\\local\\programs\\python\\python39\\lib\\site-packages (from pyOpenSSL>=0.14->urllib3[secure]~=1.26->selenium) (1.16.0)\n",
      "Requirement already satisfied: h11<1,>=0.9.0 in c:\\users\\anshul\\appdata\\local\\programs\\python\\python39\\lib\\site-packages (from wsproto>=0.14->trio-websocket~=0.9->selenium) (0.12.0)\n"
     ]
    }
   ],
   "source": [
    "!pip install pandas\n",
    "!pip install selenium"
   ]
  },
  {
   "cell_type": "code",
   "execution_count": 2,
   "id": "dbc04c6f",
   "metadata": {},
   "outputs": [],
   "source": [
    "import pandas as pd\n",
    "import selenium\n",
    "from selenium import webdriver\n",
    "from selenium.webdriver.common.keys import Keys\n",
    "import warnings\n",
    "warnings.filterwarnings(\"ignore\")"
   ]
  },
  {
   "cell_type": "code",
   "execution_count": 4,
   "id": "0dcc23ac",
   "metadata": {},
   "outputs": [],
   "source": [
    "#Connect to the driver\n",
    "driver=webdriver.Chrome(r'E:\\chrome driver\\chromedriver.exe')"
   ]
  },
  {
   "cell_type": "code",
   "execution_count": 5,
   "id": "f0f741ec",
   "metadata": {},
   "outputs": [],
   "source": [
    "url ='https://www.naukri.com/'\n",
    "driver.get(url)"
   ]
  },
  {
   "cell_type": "code",
   "execution_count": 6,
   "id": "32e0b03d",
   "metadata": {
    "scrolled": true
   },
   "outputs": [
    {
     "data": {
      "text/plain": [
       "<selenium.webdriver.remote.webelement.WebElement (session=\"651ac5cdb087faf200ae45cb7855a841\", element=\"89965905-d974-4b17-8b70-d684c7316507\")>"
      ]
     },
     "execution_count": 6,
     "metadata": {},
     "output_type": "execute_result"
    }
   ],
   "source": [
    "#Finding web element for search job Bar using class \n",
    "search_job = driver.find_element_by_class_name(\"suggestor-input\")\n",
    "search_job"
   ]
  },
  {
   "cell_type": "code",
   "execution_count": 7,
   "id": "2cde385f",
   "metadata": {},
   "outputs": [],
   "source": [
    "#Write on search bar \n",
    "search_job.send_keys(\"Data Analyst\")"
   ]
  },
  {
   "cell_type": "code",
   "execution_count": 8,
   "id": "35c40029",
   "metadata": {},
   "outputs": [
    {
     "data": {
      "text/plain": [
       "<selenium.webdriver.remote.webelement.WebElement (session=\"651ac5cdb087faf200ae45cb7855a841\", element=\"3ebba851-f39c-4566-a45f-dd859329d869\")>"
      ]
     },
     "execution_count": 8,
     "metadata": {},
     "output_type": "execute_result"
    }
   ],
   "source": [
    "#Finding web element for search loc bar using relative X path\n",
    "search_locn=driver.find_element_by_xpath('//*[@id=\"root\"]/div[2]/div[3]/div/div/div[3]/div/div/div/input')\n",
    "search_locn"
   ]
  },
  {
   "cell_type": "code",
   "execution_count": 9,
   "id": "9f5b6adf",
   "metadata": {},
   "outputs": [],
   "source": [
    "#Finding Web element for job location bar\n",
    "search_locn.send_keys(\"Bangalore\")"
   ]
  },
  {
   "cell_type": "code",
   "execution_count": 10,
   "id": "1353e85c",
   "metadata": {},
   "outputs": [
    {
     "data": {
      "text/plain": [
       "<selenium.webdriver.remote.webelement.WebElement (session=\"651ac5cdb087faf200ae45cb7855a841\", element=\"106e0a2b-138b-47d1-b07c-7df116f308cb\")>"
      ]
     },
     "execution_count": 10,
     "metadata": {},
     "output_type": "execute_result"
    }
   ],
   "source": [
    "#Clicking using absolute xpath function\n",
    "search_btn=driver.find_element_by_xpath('/html/body/div/div[2]/div[3]/div/div/div[6]')\n",
    "search_btn"
   ]
  },
  {
   "cell_type": "code",
   "execution_count": 11,
   "id": "d77947bc",
   "metadata": {},
   "outputs": [],
   "source": [
    "search_btn.click()"
   ]
  },
  {
   "cell_type": "markdown",
   "id": "7ce54825",
   "metadata": {},
   "source": [
    "# Extracting Job Title"
   ]
  },
  {
   "cell_type": "code",
   "execution_count": 23,
   "id": "b2d576da",
   "metadata": {},
   "outputs": [
    {
     "data": {
      "text/plain": [
       "10"
      ]
     },
     "execution_count": 23,
     "metadata": {},
     "output_type": "execute_result"
    }
   ],
   "source": [
    "#Extracting all the element having job titles\n",
    "titles_job= driver.find_elements_by_xpath('//a[@class=\"title fw500 ellipsis\"]')\n",
    "#Now the titles is inside the title tag so we need to extract using iterative \n",
    "job_titles=[]\n",
    "\n",
    "for i in titles_job:\n",
    "    job_titles.append(i.text)\n",
    "    job_titles=job_titles[:10]\n",
    "len(job_titles)"
   ]
  },
  {
   "cell_type": "markdown",
   "id": "78072a69",
   "metadata": {},
   "source": [
    "# Extracting Job location"
   ]
  },
  {
   "cell_type": "code",
   "execution_count": 19,
   "id": "1e494ffc",
   "metadata": {},
   "outputs": [
    {
     "data": {
      "text/plain": [
       "10"
      ]
     },
     "execution_count": 19,
     "metadata": {},
     "output_type": "execute_result"
    }
   ],
   "source": [
    "#Extarcting all the elements having job location\n",
    "titles_loc=driver.find_elements_by_xpath('//li[@class=\"fleft grey-text br2 placeHolderLi location\"]')\n",
    "#Now the location is inside the tag so we need to extract using iterative function\n",
    "job_Location=[]\n",
    "\n",
    "for i in titles_loc:\n",
    "    job_Location.append(i.text)\n",
    "    job_Location=job_Location[:10]\n",
    "len(job_Location)"
   ]
  },
  {
   "cell_type": "markdown",
   "id": "6dde9f28",
   "metadata": {},
   "source": [
    "# Extracting Company name"
   ]
  },
  {
   "cell_type": "code",
   "execution_count": 18,
   "id": "b55d859c",
   "metadata": {},
   "outputs": [
    {
     "data": {
      "text/plain": [
       "10"
      ]
     },
     "execution_count": 18,
     "metadata": {},
     "output_type": "execute_result"
    }
   ],
   "source": [
    "#Extarcting all the elements having Comapny Name\n",
    "titles_company=driver.find_elements_by_xpath('//a[@class=\"subTitle ellipsis fleft\"]')\n",
    "#Now the location is inside the tag so we need to extract using iterative function\n",
    "Company_Name=[]\n",
    "\n",
    "for i in titles_company:\n",
    "    Company_Name.append(i.text)\n",
    "    Company_Name=Company_Name[:10]\n",
    "len(Company_Name)"
   ]
  },
  {
   "cell_type": "markdown",
   "id": "4ef5e664",
   "metadata": {},
   "source": [
    "# Experience Required\n"
   ]
  },
  {
   "cell_type": "code",
   "execution_count": 16,
   "id": "d9406d80",
   "metadata": {},
   "outputs": [
    {
     "data": {
      "text/plain": [
       "10"
      ]
     },
     "execution_count": 16,
     "metadata": {},
     "output_type": "execute_result"
    }
   ],
   "source": [
    "#Extarcting all the elements of experience required\n",
    "titles_Exp=driver.find_elements_by_xpath('//li[@class=\"fleft grey-text br2 placeHolderLi experience\"]')\n",
    "#Now the location is inside the tag so we need to extract using iterative function\n",
    "Exp_req=[]\n",
    "\n",
    "for i in titles_Exp:\n",
    "    Exp_req.append(i.text)\n",
    "    Exp_req=Exp_req[:10]\n",
    "len(Exp_req)"
   ]
  },
  {
   "cell_type": "markdown",
   "id": "23078272",
   "metadata": {},
   "source": [
    "# Creating Dataframe "
   ]
  },
  {
   "cell_type": "code",
   "execution_count": 24,
   "id": "05f774ce",
   "metadata": {},
   "outputs": [
    {
     "data": {
      "text/html": [
       "<div>\n",
       "<style scoped>\n",
       "    .dataframe tbody tr th:only-of-type {\n",
       "        vertical-align: middle;\n",
       "    }\n",
       "\n",
       "    .dataframe tbody tr th {\n",
       "        vertical-align: top;\n",
       "    }\n",
       "\n",
       "    .dataframe thead th {\n",
       "        text-align: right;\n",
       "    }\n",
       "</style>\n",
       "<table border=\"1\" class=\"dataframe\">\n",
       "  <thead>\n",
       "    <tr style=\"text-align: right;\">\n",
       "      <th></th>\n",
       "      <th>Job Titles</th>\n",
       "      <th>job Location</th>\n",
       "      <th>Company Name</th>\n",
       "      <th>Experience</th>\n",
       "    </tr>\n",
       "  </thead>\n",
       "  <tbody>\n",
       "    <tr>\n",
       "      <th>0</th>\n",
       "      <td>Senior Data Analyst</td>\n",
       "      <td>Bengaluru/Bangalore</td>\n",
       "      <td>Flipkart</td>\n",
       "      <td>4-6 Yrs</td>\n",
       "    </tr>\n",
       "    <tr>\n",
       "      <th>1</th>\n",
       "      <td>Junior Data Analyst/ Scientist- Fresher Position</td>\n",
       "      <td>Kolkata, Gurgaon/Gurugram, Bangalore/Bengaluru...</td>\n",
       "      <td>Sejal Consulting Hub</td>\n",
       "      <td>0-3 Yrs</td>\n",
       "    </tr>\n",
       "    <tr>\n",
       "      <th>2</th>\n",
       "      <td>Assistant Clinical Data Analyst</td>\n",
       "      <td>Bangalore/Bengaluru</td>\n",
       "      <td>Labcorp Drug Development India Private Limited</td>\n",
       "      <td>0-2 Yrs</td>\n",
       "    </tr>\n",
       "    <tr>\n",
       "      <th>3</th>\n",
       "      <td>Senior Data Analyst - CRM</td>\n",
       "      <td>Bangalore/Bengaluru</td>\n",
       "      <td>Gojek Tech</td>\n",
       "      <td>2-5 Yrs</td>\n",
       "    </tr>\n",
       "    <tr>\n",
       "      <th>4</th>\n",
       "      <td>Lead - Data Analyst / Scientist</td>\n",
       "      <td>Bangalore/Bengaluru</td>\n",
       "      <td>Axim Technologies</td>\n",
       "      <td>12-14 Yrs</td>\n",
       "    </tr>\n",
       "    <tr>\n",
       "      <th>5</th>\n",
       "      <td>Data Analyst</td>\n",
       "      <td>Bengaluru/Bangalore</td>\n",
       "      <td>Flipkart</td>\n",
       "      <td>1-2 Yrs</td>\n",
       "    </tr>\n",
       "    <tr>\n",
       "      <th>6</th>\n",
       "      <td>Consultant - Data Analyst</td>\n",
       "      <td>Bengaluru/Bangalore</td>\n",
       "      <td>Flipkart</td>\n",
       "      <td>1-3 Yrs</td>\n",
       "    </tr>\n",
       "    <tr>\n",
       "      <th>7</th>\n",
       "      <td>Hiring For Data Analyst</td>\n",
       "      <td>Bangalore/Bengaluru</td>\n",
       "      <td>Flipkart</td>\n",
       "      <td>4-8 Yrs</td>\n",
       "    </tr>\n",
       "    <tr>\n",
       "      <th>8</th>\n",
       "      <td>Senior Data Analyst</td>\n",
       "      <td>Bangalore/Bengaluru</td>\n",
       "      <td>Walmart</td>\n",
       "      <td>4-7 Yrs</td>\n",
       "    </tr>\n",
       "    <tr>\n",
       "      <th>9</th>\n",
       "      <td>Senior Data Analyst</td>\n",
       "      <td>Bangalore/Bengaluru\\n(WFH during Covid)</td>\n",
       "      <td>SMEDC SERVICES PRIVATE LIMITED</td>\n",
       "      <td>4-8 Yrs</td>\n",
       "    </tr>\n",
       "  </tbody>\n",
       "</table>\n",
       "</div>"
      ],
      "text/plain": [
       "                                         Job Titles  \\\n",
       "0                               Senior Data Analyst   \n",
       "1  Junior Data Analyst/ Scientist- Fresher Position   \n",
       "2                   Assistant Clinical Data Analyst   \n",
       "3                         Senior Data Analyst - CRM   \n",
       "4                   Lead - Data Analyst / Scientist   \n",
       "5                                      Data Analyst   \n",
       "6                         Consultant - Data Analyst   \n",
       "7                           Hiring For Data Analyst   \n",
       "8                               Senior Data Analyst   \n",
       "9                               Senior Data Analyst   \n",
       "\n",
       "                                        job Location  \\\n",
       "0                                Bengaluru/Bangalore   \n",
       "1  Kolkata, Gurgaon/Gurugram, Bangalore/Bengaluru...   \n",
       "2                                Bangalore/Bengaluru   \n",
       "3                                Bangalore/Bengaluru   \n",
       "4                                Bangalore/Bengaluru   \n",
       "5                                Bengaluru/Bangalore   \n",
       "6                                Bengaluru/Bangalore   \n",
       "7                                Bangalore/Bengaluru   \n",
       "8                                Bangalore/Bengaluru   \n",
       "9            Bangalore/Bengaluru\\n(WFH during Covid)   \n",
       "\n",
       "                                     Company Name Experience  \n",
       "0                                        Flipkart    4-6 Yrs  \n",
       "1                            Sejal Consulting Hub    0-3 Yrs  \n",
       "2  Labcorp Drug Development India Private Limited    0-2 Yrs  \n",
       "3                                      Gojek Tech    2-5 Yrs  \n",
       "4                               Axim Technologies  12-14 Yrs  \n",
       "5                                        Flipkart    1-2 Yrs  \n",
       "6                                        Flipkart    1-3 Yrs  \n",
       "7                                        Flipkart    4-8 Yrs  \n",
       "8                                         Walmart    4-7 Yrs  \n",
       "9                  SMEDC SERVICES PRIVATE LIMITED    4-8 Yrs  "
      ]
     },
     "execution_count": 24,
     "metadata": {},
     "output_type": "execute_result"
    }
   ],
   "source": [
    "df=pd.DataFrame({'Job Titles':job_titles,'job Location':job_Location,'Company Name':Company_Name,'Experience':Exp_req})\n",
    "df"
   ]
  },
  {
   "cell_type": "markdown",
   "id": "f6a64643",
   "metadata": {},
   "source": [
    "# Q2: Write a python program to scrape data for “Data Scientist” Job position in “Bangalore” location. You have to scrape the job-title, job-location, company_name. You have to scrape first 10 jobs data.\n",
    "This task will be done in following steps:\n",
    "1. First get the webpage https://www.naukri.com/\n",
    "2. Enter “Data Scientist” in “Skill, Designations, Companies” field and enter “Bangalore” in “enter the\n",
    "location” field.\n",
    "3. Then click the search button.\n",
    "4. Then scrape the data for the first 10 jobs results you get.\n",
    "5. Finally create a dataframe of the scraped data.\n",
    "Note: All of the above steps have to be done in code. No step is to be done manually. "
   ]
  },
  {
   "cell_type": "code",
   "execution_count": 25,
   "id": "c9a670c3",
   "metadata": {},
   "outputs": [],
   "source": [
    "#Connect to the driver\n",
    "driver=webdriver.Chrome(r'E:\\chrome driver\\chromedriver.exe')"
   ]
  },
  {
   "cell_type": "code",
   "execution_count": 26,
   "id": "17575744",
   "metadata": {},
   "outputs": [],
   "source": [
    "url ='https://www.naukri.com/'\n",
    "driver.get(url)"
   ]
  },
  {
   "cell_type": "code",
   "execution_count": 27,
   "id": "3ec2e237",
   "metadata": {},
   "outputs": [
    {
     "data": {
      "text/plain": [
       "<selenium.webdriver.remote.webelement.WebElement (session=\"665dd1a49cc71b28338916c429b39dfb\", element=\"bd17a9ef-7a16-4dac-9314-0745c801bca6\")>"
      ]
     },
     "execution_count": 27,
     "metadata": {},
     "output_type": "execute_result"
    }
   ],
   "source": [
    "#Finding web element for search job Bar using class \n",
    "search_job = driver.find_element_by_class_name(\"suggestor-input\")\n",
    "search_job"
   ]
  },
  {
   "cell_type": "code",
   "execution_count": 28,
   "id": "1f7cb52d",
   "metadata": {},
   "outputs": [],
   "source": [
    "#Write on search bar \n",
    "search_job.send_keys(\"Data Scientist\")"
   ]
  },
  {
   "cell_type": "code",
   "execution_count": 29,
   "id": "c7044be1",
   "metadata": {},
   "outputs": [
    {
     "data": {
      "text/plain": [
       "<selenium.webdriver.remote.webelement.WebElement (session=\"665dd1a49cc71b28338916c429b39dfb\", element=\"bac47a0f-8033-41ab-8c65-e6b84a425e86\")>"
      ]
     },
     "execution_count": 29,
     "metadata": {},
     "output_type": "execute_result"
    }
   ],
   "source": [
    "#Finding web element for search loc bar using relative X path\n",
    "search_locn=driver.find_element_by_xpath('//*[@id=\"root\"]/div[2]/div[3]/div/div/div[3]/div/div/div/input')\n",
    "search_locn"
   ]
  },
  {
   "cell_type": "code",
   "execution_count": 30,
   "id": "c1174447",
   "metadata": {},
   "outputs": [],
   "source": [
    "#Finding Web element for job location bar\n",
    "search_locn.send_keys(\"Bangalore\")"
   ]
  },
  {
   "cell_type": "code",
   "execution_count": 34,
   "id": "329420f1",
   "metadata": {},
   "outputs": [
    {
     "data": {
      "text/plain": [
       "<selenium.webdriver.remote.webelement.WebElement (session=\"665dd1a49cc71b28338916c429b39dfb\", element=\"756e2a0b-c83c-451c-9360-b5f47418e235\")>"
      ]
     },
     "execution_count": 34,
     "metadata": {},
     "output_type": "execute_result"
    }
   ],
   "source": [
    "#Clicking using absolute xpath function\n",
    "search_btn=driver.find_element_by_xpath('//*[@id=\"root\"]/div[2]/div[3]/div/div/div[6]')\n",
    "search_btn"
   ]
  },
  {
   "cell_type": "code",
   "execution_count": 35,
   "id": "b3f2a623",
   "metadata": {},
   "outputs": [],
   "source": [
    "search_btn.click()"
   ]
  },
  {
   "cell_type": "markdown",
   "id": "8e83c22c",
   "metadata": {},
   "source": [
    "# Extracting Job title"
   ]
  },
  {
   "cell_type": "code",
   "execution_count": 37,
   "id": "0194b639",
   "metadata": {},
   "outputs": [
    {
     "data": {
      "text/plain": [
       "10"
      ]
     },
     "execution_count": 37,
     "metadata": {},
     "output_type": "execute_result"
    }
   ],
   "source": [
    "#Extracting all the element having job titles\n",
    "titles_job= driver.find_elements_by_xpath('//a[@class=\"title fw500 ellipsis\"]')\n",
    "#Now the titles is inside the title tag so we need to extract using iterative \n",
    "job_titles=[]\n",
    "\n",
    "for i in titles_job:\n",
    "    job_titles.append(i.text)\n",
    "    job_titles=job_titles[:10]\n",
    "len(job_titles)"
   ]
  },
  {
   "cell_type": "markdown",
   "id": "4df41148",
   "metadata": {},
   "source": [
    "# Extracting Job Location"
   ]
  },
  {
   "cell_type": "code",
   "execution_count": 38,
   "id": "256ee35f",
   "metadata": {},
   "outputs": [
    {
     "data": {
      "text/plain": [
       "10"
      ]
     },
     "execution_count": 38,
     "metadata": {},
     "output_type": "execute_result"
    }
   ],
   "source": [
    "#Extarcting all the elements having job location\n",
    "titles_loc=driver.find_elements_by_xpath('//li[@class=\"fleft grey-text br2 placeHolderLi location\"]')\n",
    "#Now the location is inside the tag so we need to extract using iterative function\n",
    "job_Location=[]\n",
    "\n",
    "for i in titles_loc:\n",
    "    job_Location.append(i.text)\n",
    "    job_Location=job_Location[:10]\n",
    "len(job_Location)"
   ]
  },
  {
   "cell_type": "markdown",
   "id": "40059b8b",
   "metadata": {},
   "source": [
    "# Extracting Company Name"
   ]
  },
  {
   "cell_type": "code",
   "execution_count": 39,
   "id": "8f497c04",
   "metadata": {},
   "outputs": [
    {
     "data": {
      "text/plain": [
       "10"
      ]
     },
     "execution_count": 39,
     "metadata": {},
     "output_type": "execute_result"
    }
   ],
   "source": [
    "#Extarcting all the elements having Comapny Name\n",
    "titles_company=driver.find_elements_by_xpath('//a[@class=\"subTitle ellipsis fleft\"]')\n",
    "#Now the location is inside the tag so we need to extract using iterative function\n",
    "Company_Name=[]\n",
    "\n",
    "for i in titles_company:\n",
    "    Company_Name.append(i.text)\n",
    "    Company_Name=Company_Name[:10]\n",
    "len(Company_Name)"
   ]
  },
  {
   "cell_type": "markdown",
   "id": "3c4fa44b",
   "metadata": {},
   "source": [
    "# Creating DataFrame"
   ]
  },
  {
   "cell_type": "code",
   "execution_count": 40,
   "id": "f8f02b8d",
   "metadata": {},
   "outputs": [
    {
     "data": {
      "text/html": [
       "<div>\n",
       "<style scoped>\n",
       "    .dataframe tbody tr th:only-of-type {\n",
       "        vertical-align: middle;\n",
       "    }\n",
       "\n",
       "    .dataframe tbody tr th {\n",
       "        vertical-align: top;\n",
       "    }\n",
       "\n",
       "    .dataframe thead th {\n",
       "        text-align: right;\n",
       "    }\n",
       "</style>\n",
       "<table border=\"1\" class=\"dataframe\">\n",
       "  <thead>\n",
       "    <tr style=\"text-align: right;\">\n",
       "      <th></th>\n",
       "      <th>Job Titles</th>\n",
       "      <th>job Location</th>\n",
       "      <th>Company Name</th>\n",
       "    </tr>\n",
       "  </thead>\n",
       "  <tbody>\n",
       "    <tr>\n",
       "      <th>0</th>\n",
       "      <td>Sr Data Scientist</td>\n",
       "      <td>Bangalore/Bengaluru</td>\n",
       "      <td>Siemens</td>\n",
       "    </tr>\n",
       "    <tr>\n",
       "      <th>1</th>\n",
       "      <td>Senior/Lead Data Scientist - (Revenue Management)</td>\n",
       "      <td>Bangalore/Bengaluru</td>\n",
       "      <td>o9 Solutions Management India Private Limited</td>\n",
       "    </tr>\n",
       "    <tr>\n",
       "      <th>2</th>\n",
       "      <td>Senior/Lead - Data Scientist (Supply Chain)</td>\n",
       "      <td>Bangalore/Bengaluru</td>\n",
       "      <td>o9 Solutions Management India Private Limited</td>\n",
       "    </tr>\n",
       "    <tr>\n",
       "      <th>3</th>\n",
       "      <td>Associate Data Scientist</td>\n",
       "      <td>Chennai, Bangalore/Bengaluru</td>\n",
       "      <td>Shell</td>\n",
       "    </tr>\n",
       "    <tr>\n",
       "      <th>4</th>\n",
       "      <td>Junior Programmer - Data Scientist</td>\n",
       "      <td>Bangalore/Bengaluru</td>\n",
       "      <td>GSK India</td>\n",
       "    </tr>\n",
       "    <tr>\n",
       "      <th>5</th>\n",
       "      <td>Lead/Senior Data Scientist (NLP)</td>\n",
       "      <td>Bangalore/Bengaluru\\n(WFH during Covid)</td>\n",
       "      <td>Samya.AI A FRACTAL Entity</td>\n",
       "    </tr>\n",
       "    <tr>\n",
       "      <th>6</th>\n",
       "      <td>Sr . Data Scientist</td>\n",
       "      <td>Mumbai, Bangalore/Bengaluru</td>\n",
       "      <td>RKSV</td>\n",
       "    </tr>\n",
       "    <tr>\n",
       "      <th>7</th>\n",
       "      <td>Sr. Data Scientist</td>\n",
       "      <td>Pune, Bangalore/Bengaluru, Mumbai (All Areas)\\...</td>\n",
       "      <td>NutaNXT Technologies</td>\n",
       "    </tr>\n",
       "    <tr>\n",
       "      <th>8</th>\n",
       "      <td>Senior Data Scientist, Data Sciences</td>\n",
       "      <td>Bangalore/Bengaluru</td>\n",
       "      <td>Vmware</td>\n",
       "    </tr>\n",
       "    <tr>\n",
       "      <th>9</th>\n",
       "      <td>Lead Data Scientist</td>\n",
       "      <td>Bangalore/Bengaluru\\n(WFH during Covid)</td>\n",
       "      <td>Gadgeon Smart Systems</td>\n",
       "    </tr>\n",
       "  </tbody>\n",
       "</table>\n",
       "</div>"
      ],
      "text/plain": [
       "                                          Job Titles  \\\n",
       "0                                  Sr Data Scientist   \n",
       "1  Senior/Lead Data Scientist - (Revenue Management)   \n",
       "2        Senior/Lead - Data Scientist (Supply Chain)   \n",
       "3                           Associate Data Scientist   \n",
       "4                 Junior Programmer - Data Scientist   \n",
       "5                   Lead/Senior Data Scientist (NLP)   \n",
       "6                                Sr . Data Scientist   \n",
       "7                                 Sr. Data Scientist   \n",
       "8               Senior Data Scientist, Data Sciences   \n",
       "9                                Lead Data Scientist   \n",
       "\n",
       "                                        job Location  \\\n",
       "0                                Bangalore/Bengaluru   \n",
       "1                                Bangalore/Bengaluru   \n",
       "2                                Bangalore/Bengaluru   \n",
       "3                       Chennai, Bangalore/Bengaluru   \n",
       "4                                Bangalore/Bengaluru   \n",
       "5            Bangalore/Bengaluru\\n(WFH during Covid)   \n",
       "6                        Mumbai, Bangalore/Bengaluru   \n",
       "7  Pune, Bangalore/Bengaluru, Mumbai (All Areas)\\...   \n",
       "8                                Bangalore/Bengaluru   \n",
       "9            Bangalore/Bengaluru\\n(WFH during Covid)   \n",
       "\n",
       "                                    Company Name  \n",
       "0                                        Siemens  \n",
       "1  o9 Solutions Management India Private Limited  \n",
       "2  o9 Solutions Management India Private Limited  \n",
       "3                                          Shell  \n",
       "4                                      GSK India  \n",
       "5                      Samya.AI A FRACTAL Entity  \n",
       "6                                           RKSV  \n",
       "7                           NutaNXT Technologies  \n",
       "8                                         Vmware  \n",
       "9                          Gadgeon Smart Systems  "
      ]
     },
     "execution_count": 40,
     "metadata": {},
     "output_type": "execute_result"
    }
   ],
   "source": [
    "df=pd.DataFrame({'Job Titles':job_titles,'job Location':job_Location,'Company Name':Company_Name})\n",
    "df"
   ]
  },
  {
   "cell_type": "markdown",
   "id": "125a2b95",
   "metadata": {},
   "source": [
    "# Q3: In this question you have to scrape data using the filters available on the webpage as shown below:\n",
    "You have to use the location and salary filter.\n",
    "You have to scrape data for “Data Scientist” designation for first 10 job results.\n",
    "You have to scrape the job-title, job-location, company name, experience required.\n",
    "The location filter to be used is “Delhi/NCR”. The salary filter to be used is “3-6” lakhs"
   ]
  },
  {
   "cell_type": "code",
   "execution_count": 41,
   "id": "cf0af2ac",
   "metadata": {},
   "outputs": [],
   "source": [
    "#Connect to the driver\n",
    "driver=webdriver.Chrome(r'E:\\chrome driver\\chromedriver.exe')"
   ]
  },
  {
   "cell_type": "code",
   "execution_count": 42,
   "id": "aa62fcab",
   "metadata": {},
   "outputs": [],
   "source": [
    "url ='https://www.naukri.com/'\n",
    "driver.get(url)"
   ]
  },
  {
   "cell_type": "code",
   "execution_count": 43,
   "id": "19448644",
   "metadata": {},
   "outputs": [
    {
     "data": {
      "text/plain": [
       "<selenium.webdriver.remote.webelement.WebElement (session=\"a461dc3de117e7424caa8141f39d34ae\", element=\"79ff873c-7303-4684-8d1c-f65f36483fc8\")>"
      ]
     },
     "execution_count": 43,
     "metadata": {},
     "output_type": "execute_result"
    }
   ],
   "source": [
    "#Finding web element for search job Bar using class \n",
    "search_job = driver.find_element_by_class_name(\"suggestor-input\")\n",
    "search_job"
   ]
  },
  {
   "cell_type": "code",
   "execution_count": 44,
   "id": "39ee6879",
   "metadata": {},
   "outputs": [],
   "source": [
    "#Write on search bar \n",
    "search_job.send_keys(\"Data Scientist\")"
   ]
  },
  {
   "cell_type": "code",
   "execution_count": 47,
   "id": "0c4ddba0",
   "metadata": {},
   "outputs": [
    {
     "data": {
      "text/plain": [
       "<selenium.webdriver.remote.webelement.WebElement (session=\"a461dc3de117e7424caa8141f39d34ae\", element=\"6b200c0f-9854-4fbe-b722-8f0e10fc96c8\")>"
      ]
     },
     "execution_count": 47,
     "metadata": {},
     "output_type": "execute_result"
    }
   ],
   "source": [
    "#Clicking using absolute xpath function\n",
    "search_btn=driver.find_element_by_xpath('/html/body/div/div[2]/div[3]/div/div/div[6]')\n",
    "search_btn"
   ]
  },
  {
   "cell_type": "code",
   "execution_count": 48,
   "id": "18f3e46a",
   "metadata": {},
   "outputs": [],
   "source": [
    "search_btn.click()"
   ]
  },
  {
   "cell_type": "code",
   "execution_count": 49,
   "id": "a736c394",
   "metadata": {},
   "outputs": [],
   "source": [
    "#Clicking Filter by selecting check boxes using absolute xpath\n",
    "Salary_check = driver.find_element_by_xpath(\"/html/body/div[1]/div[3]/div[2]/section[1]/div[2]/div[4]/div[2]/div[2]/label/i\")"
   ]
  },
  {
   "cell_type": "code",
   "execution_count": 50,
   "id": "407b3f52",
   "metadata": {},
   "outputs": [],
   "source": [
    "Salary_check.click()"
   ]
  },
  {
   "cell_type": "code",
   "execution_count": 51,
   "id": "58eb5dce",
   "metadata": {},
   "outputs": [],
   "source": [
    "Location_check = driver.find_element_by_xpath(\"/html/body/div[1]/div[3]/div[2]/section[1]/div[2]/div[4]/div[2]/div[3]/label/i\")"
   ]
  },
  {
   "cell_type": "code",
   "execution_count": 52,
   "id": "378cac5d",
   "metadata": {},
   "outputs": [],
   "source": [
    "Location_check.click()"
   ]
  },
  {
   "cell_type": "markdown",
   "id": "6579029c",
   "metadata": {},
   "source": [
    "# Extracting Job Title"
   ]
  },
  {
   "cell_type": "code",
   "execution_count": 53,
   "id": "4521c524",
   "metadata": {},
   "outputs": [
    {
     "data": {
      "text/plain": [
       "10"
      ]
     },
     "execution_count": 53,
     "metadata": {},
     "output_type": "execute_result"
    }
   ],
   "source": [
    "#Extracting all the element having job titles\n",
    "titles_job= driver.find_elements_by_xpath('//a[@class=\"title fw500 ellipsis\"]')\n",
    "#Now the titles is inside the title tag so we need to extract using iterative \n",
    "job_titles=[]\n",
    "\n",
    "for i in titles_job:\n",
    "    job_titles.append(i.text)\n",
    "    job_titles=job_titles[:10]\n",
    "len(job_titles)"
   ]
  },
  {
   "cell_type": "markdown",
   "id": "a0d380cc",
   "metadata": {},
   "source": [
    "# Extracting job Location "
   ]
  },
  {
   "cell_type": "code",
   "execution_count": 54,
   "id": "1fd780ca",
   "metadata": {},
   "outputs": [
    {
     "data": {
      "text/plain": [
       "10"
      ]
     },
     "execution_count": 54,
     "metadata": {},
     "output_type": "execute_result"
    }
   ],
   "source": [
    "#Extarcting all the elements having job location\n",
    "titles_loc=driver.find_elements_by_xpath('//li[@class=\"fleft grey-text br2 placeHolderLi location\"]')\n",
    "#Now the location is inside the tag so we need to extract using iterative function\n",
    "job_Location=[]\n",
    "\n",
    "for i in titles_loc:\n",
    "    job_Location.append(i.text)\n",
    "    job_Location=job_Location[:10]\n",
    "len(job_Location)"
   ]
  },
  {
   "cell_type": "markdown",
   "id": "c4c4858a",
   "metadata": {},
   "source": [
    "# Extracting Company Name"
   ]
  },
  {
   "cell_type": "code",
   "execution_count": 55,
   "id": "7c1cfee4",
   "metadata": {},
   "outputs": [
    {
     "data": {
      "text/plain": [
       "10"
      ]
     },
     "execution_count": 55,
     "metadata": {},
     "output_type": "execute_result"
    }
   ],
   "source": [
    "#Extarcting all the elements having Comapny Name\n",
    "titles_company=driver.find_elements_by_xpath('//a[@class=\"subTitle ellipsis fleft\"]')\n",
    "#Now the location is inside the tag so we need to extract using iterative function\n",
    "Company_Name=[]\n",
    "\n",
    "for i in titles_company:\n",
    "    Company_Name.append(i.text)\n",
    "    Company_Name=Company_Name[:10]\n",
    "len(Company_Name)"
   ]
  },
  {
   "cell_type": "markdown",
   "id": "084db844",
   "metadata": {},
   "source": [
    "# Extracting Experience"
   ]
  },
  {
   "cell_type": "code",
   "execution_count": 56,
   "id": "3412bcdc",
   "metadata": {},
   "outputs": [
    {
     "data": {
      "text/plain": [
       "10"
      ]
     },
     "execution_count": 56,
     "metadata": {},
     "output_type": "execute_result"
    }
   ],
   "source": [
    "#Extarcting all the elements of experience required\n",
    "titles_Exp=driver.find_elements_by_xpath('//li[@class=\"fleft grey-text br2 placeHolderLi experience\"]')\n",
    "#Now the location is inside the tag so we need to extract using iterative function\n",
    "Exp_req=[]\n",
    "\n",
    "for i in titles_Exp:\n",
    "    Exp_req.append(i.text)\n",
    "    Exp_req=Exp_req[:10]\n",
    "len(Exp_req)"
   ]
  },
  {
   "cell_type": "markdown",
   "id": "ee448b67",
   "metadata": {},
   "source": [
    "# Creating DataFrame"
   ]
  },
  {
   "cell_type": "code",
   "execution_count": 57,
   "id": "77df4120",
   "metadata": {},
   "outputs": [
    {
     "data": {
      "text/html": [
       "<div>\n",
       "<style scoped>\n",
       "    .dataframe tbody tr th:only-of-type {\n",
       "        vertical-align: middle;\n",
       "    }\n",
       "\n",
       "    .dataframe tbody tr th {\n",
       "        vertical-align: top;\n",
       "    }\n",
       "\n",
       "    .dataframe thead th {\n",
       "        text-align: right;\n",
       "    }\n",
       "</style>\n",
       "<table border=\"1\" class=\"dataframe\">\n",
       "  <thead>\n",
       "    <tr style=\"text-align: right;\">\n",
       "      <th></th>\n",
       "      <th>Job Titles</th>\n",
       "      <th>job Location</th>\n",
       "      <th>Company Name</th>\n",
       "    </tr>\n",
       "  </thead>\n",
       "  <tbody>\n",
       "    <tr>\n",
       "      <th>0</th>\n",
       "      <td>Data Scientist | Python | Machine Learning | D...</td>\n",
       "      <td>Noida, Gurgaon/Gurugram, Delhi / NCR</td>\n",
       "      <td>Schlesinger Group</td>\n",
       "    </tr>\n",
       "    <tr>\n",
       "      <th>1</th>\n",
       "      <td>Senior Data Scientist I</td>\n",
       "      <td>Gurgaon/Gurugram</td>\n",
       "      <td>Delhivery</td>\n",
       "    </tr>\n",
       "    <tr>\n",
       "      <th>2</th>\n",
       "      <td>Data Scientist</td>\n",
       "      <td>Gurgaon/Gurugram</td>\n",
       "      <td>T &amp; A Solutions</td>\n",
       "    </tr>\n",
       "    <tr>\n",
       "      <th>3</th>\n",
       "      <td>Job Opportunity || Data Scientist || HCL Techn...</td>\n",
       "      <td>Delhi / NCR</td>\n",
       "      <td>HCL</td>\n",
       "    </tr>\n",
       "    <tr>\n",
       "      <th>4</th>\n",
       "      <td>Openings For Jr/mid/Sr level data Scientists</td>\n",
       "      <td>Kolkata, Hyderabad/Secunderabad, Pune, Ahmedab...</td>\n",
       "      <td>Pluto seven business solutions (p) limited</td>\n",
       "    </tr>\n",
       "    <tr>\n",
       "      <th>5</th>\n",
       "      <td>Data Scientist role</td>\n",
       "      <td>Noida, Hyderabad/Secunderabad, Pune, Gurgaon/G...</td>\n",
       "      <td>Mount Talent Consulting Private Limited</td>\n",
       "    </tr>\n",
       "    <tr>\n",
       "      <th>6</th>\n",
       "      <td>Urgent Hiring For Data Scientist</td>\n",
       "      <td>Gurgaon/Gurugram, Bangalore/Bengaluru</td>\n",
       "      <td>Mount Talent Consulting Private Limited</td>\n",
       "    </tr>\n",
       "    <tr>\n",
       "      <th>7</th>\n",
       "      <td>Urgent Hiring For Data Scientist</td>\n",
       "      <td>Gurgaon/Gurugram, Bangalore/Bengaluru</td>\n",
       "      <td>Mount Talent Consulting Private Limited</td>\n",
       "    </tr>\n",
       "    <tr>\n",
       "      <th>8</th>\n",
       "      <td>Data Scientist role</td>\n",
       "      <td>Noida, Hyderabad/Secunderabad, Pune, Gurgaon/G...</td>\n",
       "      <td>Mount Talent Consulting Private Limited</td>\n",
       "    </tr>\n",
       "    <tr>\n",
       "      <th>9</th>\n",
       "      <td>Data Scientist role</td>\n",
       "      <td>Noida, Hyderabad/Secunderabad, Pune, Gurgaon/G...</td>\n",
       "      <td>Mount Talent Consulting Private Limited</td>\n",
       "    </tr>\n",
       "  </tbody>\n",
       "</table>\n",
       "</div>"
      ],
      "text/plain": [
       "                                          Job Titles  \\\n",
       "0  Data Scientist | Python | Machine Learning | D...   \n",
       "1                            Senior Data Scientist I   \n",
       "2                                     Data Scientist   \n",
       "3  Job Opportunity || Data Scientist || HCL Techn...   \n",
       "4       Openings For Jr/mid/Sr level data Scientists   \n",
       "5                                Data Scientist role   \n",
       "6                   Urgent Hiring For Data Scientist   \n",
       "7                   Urgent Hiring For Data Scientist   \n",
       "8                                Data Scientist role   \n",
       "9                                Data Scientist role   \n",
       "\n",
       "                                        job Location  \\\n",
       "0               Noida, Gurgaon/Gurugram, Delhi / NCR   \n",
       "1                                   Gurgaon/Gurugram   \n",
       "2                                   Gurgaon/Gurugram   \n",
       "3                                        Delhi / NCR   \n",
       "4  Kolkata, Hyderabad/Secunderabad, Pune, Ahmedab...   \n",
       "5  Noida, Hyderabad/Secunderabad, Pune, Gurgaon/G...   \n",
       "6              Gurgaon/Gurugram, Bangalore/Bengaluru   \n",
       "7              Gurgaon/Gurugram, Bangalore/Bengaluru   \n",
       "8  Noida, Hyderabad/Secunderabad, Pune, Gurgaon/G...   \n",
       "9  Noida, Hyderabad/Secunderabad, Pune, Gurgaon/G...   \n",
       "\n",
       "                                 Company Name  \n",
       "0                           Schlesinger Group  \n",
       "1                                   Delhivery  \n",
       "2                             T & A Solutions  \n",
       "3                                         HCL  \n",
       "4  Pluto seven business solutions (p) limited  \n",
       "5     Mount Talent Consulting Private Limited  \n",
       "6     Mount Talent Consulting Private Limited  \n",
       "7     Mount Talent Consulting Private Limited  \n",
       "8     Mount Talent Consulting Private Limited  \n",
       "9     Mount Talent Consulting Private Limited  "
      ]
     },
     "execution_count": 57,
     "metadata": {},
     "output_type": "execute_result"
    }
   ],
   "source": [
    "df=pd.DataFrame({'Job Titles':job_titles,'job Location':job_Location,'Company Name':Company_Name})\n",
    "df"
   ]
  },
  {
   "cell_type": "markdown",
   "id": "c417a3ad",
   "metadata": {},
   "source": [
    "# Q4: Scrape data of first 100 sunglasses listings on flipkart.com. You have to scrape four attributes:\n",
    "1. Brand\n",
    "2. Product Description\n",
    "3. Price\n",
    "The attributes which you have to scrape is ticked marked in the below image"
   ]
  },
  {
   "cell_type": "code",
   "execution_count": 4,
   "id": "e2cbd1a0",
   "metadata": {},
   "outputs": [],
   "source": [
    "#Connect to the driver\n",
    "driver=webdriver.Chrome(r'E:\\chrome driver\\chromedriver.exe')"
   ]
  },
  {
   "cell_type": "code",
   "execution_count": 5,
   "id": "61089950",
   "metadata": {},
   "outputs": [],
   "source": [
    "url ='https://www.flipkart.com/'\n",
    "driver.get(url)"
   ]
  },
  {
   "cell_type": "code",
   "execution_count": 6,
   "id": "9cae6168",
   "metadata": {},
   "outputs": [
    {
     "data": {
      "text/plain": [
       "<selenium.webdriver.remote.webelement.WebElement (session=\"e71eb95068d4d7cce03036bb804b5ca1\", element=\"6578e2ef-2163-4957-88d4-dd513469026d\")>"
      ]
     },
     "execution_count": 6,
     "metadata": {},
     "output_type": "execute_result"
    }
   ],
   "source": [
    "#Search using The Xpath\n",
    "search_eng=driver.find_element_by_xpath('/html/body/div[1]/div/div[1]/div[1]/div[2]/div[2]/form/div/div/input')\n",
    "search_eng"
   ]
  },
  {
   "cell_type": "code",
   "execution_count": 7,
   "id": "9f5ce11e",
   "metadata": {},
   "outputs": [],
   "source": [
    "search_eng.send_keys(\"sunglasses\")"
   ]
  },
  {
   "cell_type": "code",
   "execution_count": 10,
   "id": "16b942af",
   "metadata": {},
   "outputs": [
    {
     "data": {
      "text/plain": [
       "<selenium.webdriver.remote.webelement.WebElement (session=\"e71eb95068d4d7cce03036bb804b5ca1\", element=\"d691bc01-8e13-4992-98cc-08997f93c2af\")>"
      ]
     },
     "execution_count": 10,
     "metadata": {},
     "output_type": "execute_result"
    }
   ],
   "source": [
    "search_btn=driver.find_element_by_xpath('/html/body/div[1]/div/div[1]/div[1]/div[2]/div[2]/form/div/button')\n",
    "search_btn"
   ]
  },
  {
   "cell_type": "code",
   "execution_count": 11,
   "id": "d461ba7d",
   "metadata": {},
   "outputs": [],
   "source": [
    "search_btn.click()"
   ]
  },
  {
   "cell_type": "markdown",
   "id": "d531c0fe",
   "metadata": {},
   "source": [
    "# Extracting Brand Name"
   ]
  },
  {
   "cell_type": "code",
   "execution_count": 12,
   "id": "954941e6",
   "metadata": {},
   "outputs": [
    {
     "name": "stdout",
     "output_type": "stream",
     "text": [
      "40\n",
      "['Kanishka Aviator Sunglasses', 'Kanishka Round Sunglasses', 'Elligator Round Sunglasses', 'SRPM Wayfarer Sunglasses', 'PIRASO Aviator Sunglasses', 'kingsunglasses Round Sunglasses', 'Fastrack Wayfarer Sunglasses', 'Singco India Retro Square, Over-sized Sunglasses', 'SHAAH COLLECTIONS Rectangular Sunglasses', 'PHENOMENAL Retro Square Sunglasses', 'New Specs Round Sunglasses', 'VINCENT CHASE by Lenskart Wayfarer Sunglasses', 'PIRASO Aviator Sunglasses', 'SUNBEE Round Sunglasses', 'New Specs Rectangular Sunglasses', 'VINCENT CHASE by Lenskart Aviator Sunglasses', 'kingsunglasses Wayfarer Sunglasses', 'ROZZETTA CRAFT Retro Square Sunglasses', 'SHAAH COLLECTIONS Rectangular Sunglasses', 'ROZZETTA CRAFT Retro Square Sunglasses', 'Fastrack Wayfarer Sunglasses', 'ROZZETTA CRAFT Rectangular Sunglasses', 'PIRASO Wayfarer Sunglasses', 'VINCENT CHASE by Lenskart Wayfarer Sunglasses', 'New Specs Round Sunglasses', 'kingsunglasses Wayfarer Sunglasses', 'DAHAAZIL Wayfarer, Wayfarer, Wayfarer Sunglasses', 'VINCENT CHASE by Lenskart Aviator Sunglasses', 'Rich Club Round Sunglasses', 'SUNBEE Wayfarer Sunglasses', 'Elligator Round Sunglasses', 'ROZZETTA CRAFT Round Sunglasses', 'Dcmr Retro Square Sunglasses', 'IZAAN MART Aviator Sunglasses', 'EMDEE COLLECTION Retro Square Sunglasses', 'VINCENT CHASE by Lenskart Wayfarer Sunglasses', 'PHENOMENAL Retro Square Sunglasses', 'PIRASO Aviator Sunglasses', 'chawla fashion Round Sunglasses', 'ROZZETTA CRAFT Wayfarer Sunglasses']\n"
     ]
    }
   ],
   "source": [
    "#Extracting all the element having job titles\n",
    "titles_Brand= driver.find_elements_by_xpath('//a[@class=\"s1Q9rs\"]')\n",
    "#Now the titles is inside the title tag so we need to extract using iterative \n",
    "Brand_titles=[]\n",
    "\n",
    "for i in titles_Brand:\n",
    "    Brand_titles.append(i.text)\n",
    "    \n",
    "print(len(Brand_titles))\n",
    "print(Brand_titles)"
   ]
  },
  {
   "cell_type": "markdown",
   "id": "3ef7f0f2",
   "metadata": {},
   "source": [
    "# Extracting Product Descripition"
   ]
  },
  {
   "cell_type": "code",
   "execution_count": 13,
   "id": "6ecc92d2",
   "metadata": {},
   "outputs": [
    {
     "name": "stdout",
     "output_type": "stream",
     "text": [
      "40\n",
      "['For Boys & Girls, Clear', 'For Boys & Girls, Clear', 'For Men & Women, Multicolor', 'For Men & Women, Clear, Black, Brown', 'For Men & Women, Black', 'For Men & Women, Clear', 'For Men, Green', 'For Men & Women, Blue', 'For Men & Women, Black', 'For Men & Women, Yellow, Red', 'For Men & Women, Black, Blue, Red, Yellow, Blue', 'For Men & Women, Grey', 'For Men & Women, Black, Golden', 'For Men & Women, Red, Blue, Pink, Blue, Yellow, Black', 'For Men & Women, Red, Black, Yellow, Blue, Black', 'For Men & Women, Blue', 'For Men & Women, Blue, Clear, Green, Black, Brown, Silver', 'For Men & Women, Blue', 'For Men & Women, Black', 'For Women, Black', 'For Men, Green', 'For Men & Women, Blue', 'For Men & Women, Black', 'For Men & Women, Green', 'For Men & Women, Red, Black, Silver, Blue', 'For Men & Women, Red, Blue, Black, Green, Brown, Green, Clear', 'For Boys & Girls, Black, Clear, Brown', 'For Men & Women, Blue', 'For Boys & Girls, Clear', 'For Men, Red, Brown, Clear, Green, Blue, Black, Violet', 'For Men & Women, Red, Yellow, Blue', 'For Men & Women, Grey', 'For Men, Red, Yellow, Black', 'For Men & Women, Blue, Clear', 'For Boys & Girls, Black', 'For Men & Women, Brown', 'For Men & Women, Black', 'For Men & Women, Green', 'For Men & Women, Clear', 'For Men & Women, Blue']\n"
     ]
    }
   ],
   "source": [
    "#Extracting all the element having job titles\n",
    "titles_Product= driver.find_elements_by_xpath('//div[@class=\"_3Djpdu\"]')\n",
    "#Now the titles is inside the title tag so we need to extract using iterative \n",
    "Product_titles=[]\n",
    "\n",
    "for i in titles_Product:\n",
    "    Product_titles.append(i.text)\n",
    "    Product_titles=Product_titles[:100]\n",
    "print(len(Product_titles))\n",
    "print(Product_titles)"
   ]
  },
  {
   "cell_type": "markdown",
   "id": "b17e2069",
   "metadata": {},
   "source": [
    "# Extracting Price"
   ]
  },
  {
   "cell_type": "code",
   "execution_count": 14,
   "id": "3155684c",
   "metadata": {},
   "outputs": [
    {
     "name": "stdout",
     "output_type": "stream",
     "text": [
      "40\n",
      "['₹145', '₹143', '₹248', '₹198', '₹200', '₹188', '₹720', '₹599', '₹165', '₹309', '₹262', '₹799', '₹200', '₹271', '₹259', '₹999', '₹273', '₹474', '₹181', '₹349', '₹483', '₹383', '₹190', '₹799', '₹233', '₹273', '₹176', '₹999', '₹165', '₹243', '₹189', '₹426', '₹421', '₹395', '₹399', '₹999', '₹299', '₹200', '₹165', '₹475']\n"
     ]
    }
   ],
   "source": [
    "#Extracting all the element having job titles\n",
    "titles_Price= driver.find_elements_by_xpath('//div[@class=\"_30jeq3\"]')\n",
    "#Now the titles is inside the title tag so we need to extract using iterative \n",
    "Price_titles=[]\n",
    "\n",
    "for i in titles_Price:\n",
    "    Price_titles.append(i.text)\n",
    "    Price_titles=Price_titles[:100]\n",
    "print(len(Price_titles))\n",
    "print(Price_titles)"
   ]
  },
  {
   "cell_type": "code",
   "execution_count": 15,
   "id": "0e7852be",
   "metadata": {},
   "outputs": [
    {
     "data": {
      "text/plain": [
       "<selenium.webdriver.remote.webelement.WebElement (session=\"e71eb95068d4d7cce03036bb804b5ca1\", element=\"35be0ab0-bca6-41aa-8e94-bbae708a1dc8\")>"
      ]
     },
     "execution_count": 15,
     "metadata": {},
     "output_type": "execute_result"
    }
   ],
   "source": [
    "#Clicking Next Button\n",
    "Next_button=driver.find_element_by_xpath('/html/body/div[1]/div/div[3]/div[1]/div[2]/div[12]/div/div/nav/a[11]/span')\n",
    "Next_button"
   ]
  },
  {
   "cell_type": "code",
   "execution_count": 16,
   "id": "5e1a297b",
   "metadata": {},
   "outputs": [],
   "source": [
    "Next_button.click()"
   ]
  },
  {
   "cell_type": "code",
   "execution_count": 17,
   "id": "be6babd2",
   "metadata": {},
   "outputs": [
    {
     "data": {
      "text/plain": [
       "80"
      ]
     },
     "execution_count": 17,
     "metadata": {},
     "output_type": "execute_result"
    }
   ],
   "source": [
    "#Extracting From 40-80\n",
    "titles_Brand=driver.find_elements_by_xpath('//a[@class=\"s1Q9rs\"]')\n",
    "for i in titles_Brand:\n",
    "    Brand_titles.append(i.text)\n",
    "len(Brand_titles)\n",
    "    "
   ]
  },
  {
   "cell_type": "code",
   "execution_count": 18,
   "id": "893a4adc",
   "metadata": {},
   "outputs": [
    {
     "data": {
      "text/plain": [
       "80"
      ]
     },
     "execution_count": 18,
     "metadata": {},
     "output_type": "execute_result"
    }
   ],
   "source": [
    "#Extracting from 40-80 product\n",
    "titles_Product= driver.find_elements_by_xpath('//div[@class=\"_3Djpdu\"]')\n",
    "for i in titles_Product:\n",
    "    Product_titles.append(i.text)\n",
    "len(Product_titles)\n",
    "    "
   ]
  },
  {
   "cell_type": "code",
   "execution_count": 23,
   "id": "45e4a8b4",
   "metadata": {},
   "outputs": [
    {
     "data": {
      "text/plain": [
       "80"
      ]
     },
     "execution_count": 23,
     "metadata": {},
     "output_type": "execute_result"
    }
   ],
   "source": [
    "#Extracting from 40-80 price\n",
    "titles_Price= driver.find_elements_by_xpath('//div[@class=\"_30jeq3\"]')\n",
    "for i in titles_Price:\n",
    "    Price_titles.append(i.text)\n",
    "    Price_titles=Price_titles\n",
    "len(Price_titles)"
   ]
  },
  {
   "cell_type": "code",
   "execution_count": 24,
   "id": "e48a97fd",
   "metadata": {},
   "outputs": [
    {
     "data": {
      "text/plain": [
       "<selenium.webdriver.remote.webelement.WebElement (session=\"e71eb95068d4d7cce03036bb804b5ca1\", element=\"35be0ab0-bca6-41aa-8e94-bbae708a1dc8\")>"
      ]
     },
     "execution_count": 24,
     "metadata": {},
     "output_type": "execute_result"
    }
   ],
   "source": [
    "next_button=driver.find_element_by_xpath(\"/html/body/div[1]/div/div[3]/div[1]/div[2]/div[12]/div/div/nav/a[12]/span\")\n",
    "next_button"
   ]
  },
  {
   "cell_type": "code",
   "execution_count": 25,
   "id": "5fc2fc42",
   "metadata": {},
   "outputs": [],
   "source": [
    "next_button.click()"
   ]
  },
  {
   "cell_type": "code",
   "execution_count": 26,
   "id": "2f541170",
   "metadata": {},
   "outputs": [
    {
     "data": {
      "text/plain": [
       "120"
      ]
     },
     "execution_count": 26,
     "metadata": {},
     "output_type": "execute_result"
    }
   ],
   "source": [
    "#extracting from 80-100\n",
    "titles_Brand=driver.find_elements_by_xpath('//a[@class=\"s1Q9rs\"]')\n",
    "for i in titles_Brand:\n",
    "    Brand_titles.append(i.text)\n",
    "len(Brand_titles)"
   ]
  },
  {
   "cell_type": "code",
   "execution_count": 27,
   "id": "d839998a",
   "metadata": {},
   "outputs": [
    {
     "data": {
      "text/plain": [
       "120"
      ]
     },
     "execution_count": 27,
     "metadata": {},
     "output_type": "execute_result"
    }
   ],
   "source": [
    "#Extracting from 80-100 product\n",
    "titles_Product= driver.find_elements_by_xpath('//div[@class=\"_3Djpdu\"]')\n",
    "for i in titles_Product:\n",
    "    Product_titles.append(i.text)\n",
    "len(Product_titles)"
   ]
  },
  {
   "cell_type": "code",
   "execution_count": 28,
   "id": "104e2bd0",
   "metadata": {},
   "outputs": [
    {
     "data": {
      "text/plain": [
       "120"
      ]
     },
     "execution_count": 28,
     "metadata": {},
     "output_type": "execute_result"
    }
   ],
   "source": [
    "#Extracting from 80-100 price\n",
    "titles_Price= driver.find_elements_by_xpath('//div[@class=\"_30jeq3\"]')\n",
    "for i in titles_Price:\n",
    "    Price_titles.append(i.text)\n",
    "    Price_titles=Price_titles\n",
    "len(Price_titles)"
   ]
  },
  {
   "cell_type": "code",
   "execution_count": 29,
   "id": "7a304dff",
   "metadata": {},
   "outputs": [],
   "source": [
    "Brand_titles=Brand_titles[:100]\n",
    "Product_titles=Product_titles[:100]\n",
    "Price_titles=Price_titles[:100]"
   ]
  },
  {
   "cell_type": "markdown",
   "id": "f7eec7f7",
   "metadata": {},
   "source": [
    "# Creating Dataframe"
   ]
  },
  {
   "cell_type": "code",
   "execution_count": 30,
   "id": "f9f5771b",
   "metadata": {},
   "outputs": [
    {
     "data": {
      "text/html": [
       "<div>\n",
       "<style scoped>\n",
       "    .dataframe tbody tr th:only-of-type {\n",
       "        vertical-align: middle;\n",
       "    }\n",
       "\n",
       "    .dataframe tbody tr th {\n",
       "        vertical-align: top;\n",
       "    }\n",
       "\n",
       "    .dataframe thead th {\n",
       "        text-align: right;\n",
       "    }\n",
       "</style>\n",
       "<table border=\"1\" class=\"dataframe\">\n",
       "  <thead>\n",
       "    <tr style=\"text-align: right;\">\n",
       "      <th></th>\n",
       "      <th>Brand</th>\n",
       "      <th>Product Details</th>\n",
       "      <th>Price</th>\n",
       "    </tr>\n",
       "  </thead>\n",
       "  <tbody>\n",
       "    <tr>\n",
       "      <th>0</th>\n",
       "      <td>Kanishka Aviator Sunglasses</td>\n",
       "      <td>For Boys &amp; Girls, Clear</td>\n",
       "      <td>₹145</td>\n",
       "    </tr>\n",
       "    <tr>\n",
       "      <th>1</th>\n",
       "      <td>Kanishka Round Sunglasses</td>\n",
       "      <td>For Boys &amp; Girls, Clear</td>\n",
       "      <td>₹143</td>\n",
       "    </tr>\n",
       "    <tr>\n",
       "      <th>2</th>\n",
       "      <td>Elligator Round Sunglasses</td>\n",
       "      <td>For Men &amp; Women, Multicolor</td>\n",
       "      <td>₹248</td>\n",
       "    </tr>\n",
       "    <tr>\n",
       "      <th>3</th>\n",
       "      <td>SRPM Wayfarer Sunglasses</td>\n",
       "      <td>For Men &amp; Women, Clear, Black, Brown</td>\n",
       "      <td>₹198</td>\n",
       "    </tr>\n",
       "    <tr>\n",
       "      <th>4</th>\n",
       "      <td>PIRASO Aviator Sunglasses</td>\n",
       "      <td>For Men &amp; Women, Black</td>\n",
       "      <td>₹200</td>\n",
       "    </tr>\n",
       "    <tr>\n",
       "      <th>...</th>\n",
       "      <td>...</td>\n",
       "      <td>...</td>\n",
       "      <td>...</td>\n",
       "    </tr>\n",
       "    <tr>\n",
       "      <th>95</th>\n",
       "      <td>DAHAAZIL Aviator Sunglasses</td>\n",
       "      <td>For Men &amp; Women, Blue</td>\n",
       "      <td>₹128</td>\n",
       "    </tr>\n",
       "    <tr>\n",
       "      <th>96</th>\n",
       "      <td>Lee Topper Retro Square, Spectacle Sunglasses</td>\n",
       "      <td>For Men &amp; Women, Silver, Clear</td>\n",
       "      <td>₹375</td>\n",
       "    </tr>\n",
       "    <tr>\n",
       "      <th>97</th>\n",
       "      <td>Fastrack Aviator Sunglasses</td>\n",
       "      <td>For Men &amp; Women, Grey</td>\n",
       "      <td>₹1,030</td>\n",
       "    </tr>\n",
       "    <tr>\n",
       "      <th>98</th>\n",
       "      <td>chawla fashion Round Sunglasses</td>\n",
       "      <td>For Men &amp; Women, Black, Clear</td>\n",
       "      <td>₹151</td>\n",
       "    </tr>\n",
       "    <tr>\n",
       "      <th>99</th>\n",
       "      <td>Elligator Rectangular, Retro Square, Wayfarer ...</td>\n",
       "      <td>For Men &amp; Women, Red, Yellow</td>\n",
       "      <td>₹305</td>\n",
       "    </tr>\n",
       "  </tbody>\n",
       "</table>\n",
       "<p>100 rows × 3 columns</p>\n",
       "</div>"
      ],
      "text/plain": [
       "                                                Brand  \\\n",
       "0                         Kanishka Aviator Sunglasses   \n",
       "1                           Kanishka Round Sunglasses   \n",
       "2                          Elligator Round Sunglasses   \n",
       "3                            SRPM Wayfarer Sunglasses   \n",
       "4                           PIRASO Aviator Sunglasses   \n",
       "..                                                ...   \n",
       "95                        DAHAAZIL Aviator Sunglasses   \n",
       "96      Lee Topper Retro Square, Spectacle Sunglasses   \n",
       "97                        Fastrack Aviator Sunglasses   \n",
       "98                    chawla fashion Round Sunglasses   \n",
       "99  Elligator Rectangular, Retro Square, Wayfarer ...   \n",
       "\n",
       "                         Product Details   Price  \n",
       "0                For Boys & Girls, Clear    ₹145  \n",
       "1                For Boys & Girls, Clear    ₹143  \n",
       "2            For Men & Women, Multicolor    ₹248  \n",
       "3   For Men & Women, Clear, Black, Brown    ₹198  \n",
       "4                 For Men & Women, Black    ₹200  \n",
       "..                                   ...     ...  \n",
       "95                 For Men & Women, Blue    ₹128  \n",
       "96        For Men & Women, Silver, Clear    ₹375  \n",
       "97                 For Men & Women, Grey  ₹1,030  \n",
       "98         For Men & Women, Black, Clear    ₹151  \n",
       "99          For Men & Women, Red, Yellow    ₹305  \n",
       "\n",
       "[100 rows x 3 columns]"
      ]
     },
     "execution_count": 30,
     "metadata": {},
     "output_type": "execute_result"
    }
   ],
   "source": [
    "df=pd.DataFrame({'Brand':Brand_titles,'Product Details':Product_titles,'Price':Price_titles})\n",
    "df"
   ]
  },
  {
   "cell_type": "markdown",
   "id": "157992db",
   "metadata": {},
   "source": [
    "# Q5: Scrape 100 reviews data from flipkart.com for iphone11 phone. You have to go the link: https://www.flipkart.com/apple-iphone-11-black-64-gb-includes- earpods-power\u0002adapter/p/itm0f37c2240b217?pid=MOBFKCTSVZAXUHGR&lid=LSTMOBFKCTSVZAXUHGREPBFGI&marketplace\n",
    "As shown in the above page you have to scrape the tick marked attributes.These are:\n",
    "1. Rating\n",
    "2. Review summary\n",
    "3. Full review\n",
    "4. You have to scrape this data for first 100 reviews.\n",
    "Note: All the steps required during scraping should be done through code only and not manually"
   ]
  },
  {
   "cell_type": "code",
   "execution_count": 31,
   "id": "32a07496",
   "metadata": {},
   "outputs": [],
   "source": [
    "#Connect to the driver\n",
    "driver=webdriver.Chrome(r'E:\\chrome driver\\chromedriver.exe')"
   ]
  },
  {
   "cell_type": "code",
   "execution_count": 33,
   "id": "6dbfa5e6",
   "metadata": {},
   "outputs": [],
   "source": [
    "url = 'https://www.flipkart.com/apple-iphone-11-black-64-gb-includes-earpods-power%02adapter/p/itm0f37c2240b217?pid=MOBFKCTSVZAXUHGR&lid=LSTMOBFKCTSVZAXUHGREPBFGI&marketplace'\n",
    "driver.get(url)"
   ]
  },
  {
   "cell_type": "code",
   "execution_count": 35,
   "id": "c46f6cff",
   "metadata": {},
   "outputs": [
    {
     "data": {
      "text/plain": [
       "<selenium.webdriver.remote.webelement.WebElement (session=\"7a567e15bd0ee448bf9af0eaafabe96b\", element=\"0aebdbaf-4362-4287-a750-7275c50ebb64\")>"
      ]
     },
     "execution_count": 35,
     "metadata": {},
     "output_type": "execute_result"
    }
   ],
   "source": [
    "#Review Button finding by Xpath\n",
    "rev_btn = driver.find_element_by_xpath('/html/body/div[1]/div/div[3]/div[1]/div[2]/div[8]/div/div/div[5]/div/a/div/span')\n",
    "rev_btn"
   ]
  },
  {
   "cell_type": "code",
   "execution_count": 36,
   "id": "306061c0",
   "metadata": {},
   "outputs": [],
   "source": [
    "rev_btn.click()"
   ]
  },
  {
   "cell_type": "markdown",
   "id": "64da65be",
   "metadata": {},
   "source": [
    "# Rating"
   ]
  },
  {
   "cell_type": "code",
   "execution_count": 40,
   "id": "1aad46ce",
   "metadata": {},
   "outputs": [
    {
     "name": "stdout",
     "output_type": "stream",
     "text": [
      "100\n",
      "['5', '5', '5', '5', '5', '5', '5', '4', '5', '5', '5', '5', '5', '5', '5', '5', '5', '4', '5', '5', '5', '5', '5', '5', '5', '5', '5', '4', '5', '5', '5', '5', '5', '5', '5', '5', '5', '4', '5', '5', '5', '5', '5', '5', '5', '5', '5', '4', '5', '5', '5', '5', '5', '5', '5', '5', '5', '4', '5', '5', '5', '5', '5', '5', '5', '5', '5', '4', '5', '5', '5', '5', '5', '5', '5', '5', '5', '4', '5', '5', '5', '5', '5', '5', '5', '5', '5', '4', '5', '5', '5', '5', '5', '5', '5', '5', '5', '4', '5', '5']\n"
     ]
    }
   ],
   "source": [
    "Rating=[]\n",
    "for i in range(0,10,1):\n",
    "    Rating_iphone = driver.find_elements_by_xpath('//div[@class=\"_3LWZlK _1BLPMq\"]')\n",
    "    for j in Rating_iphone:\n",
    "        Rating.append(j.text)\n",
    "print(len(Rating))\n",
    "print(Rating)"
   ]
  },
  {
   "cell_type": "markdown",
   "id": "a10dcb75",
   "metadata": {},
   "source": [
    "# Review"
   ]
  },
  {
   "cell_type": "code",
   "execution_count": 41,
   "id": "0f8e02a8",
   "metadata": {},
   "outputs": [
    {
     "name": "stdout",
     "output_type": "stream",
     "text": [
      "100\n",
      "['Brilliant', 'Simply awesome', 'Perfect product!', 'Best in the market!', 'Worth every penny', 'Fabulous!', 'Great product', 'Good choice', 'Highly recommended', 'Worth every penny', 'Brilliant', 'Simply awesome', 'Perfect product!', 'Best in the market!', 'Worth every penny', 'Fabulous!', 'Great product', 'Good choice', 'Highly recommended', 'Worth every penny', 'Brilliant', 'Simply awesome', 'Perfect product!', 'Best in the market!', 'Worth every penny', 'Fabulous!', 'Great product', 'Good choice', 'Highly recommended', 'Worth every penny', 'Brilliant', 'Simply awesome', 'Perfect product!', 'Best in the market!', 'Worth every penny', 'Fabulous!', 'Great product', 'Good choice', 'Highly recommended', 'Worth every penny', 'Brilliant', 'Simply awesome', 'Perfect product!', 'Best in the market!', 'Worth every penny', 'Fabulous!', 'Great product', 'Good choice', 'Highly recommended', 'Worth every penny', 'Brilliant', 'Simply awesome', 'Perfect product!', 'Best in the market!', 'Worth every penny', 'Fabulous!', 'Great product', 'Good choice', 'Highly recommended', 'Worth every penny', 'Brilliant', 'Simply awesome', 'Perfect product!', 'Best in the market!', 'Worth every penny', 'Fabulous!', 'Great product', 'Good choice', 'Highly recommended', 'Worth every penny', 'Brilliant', 'Simply awesome', 'Perfect product!', 'Best in the market!', 'Worth every penny', 'Fabulous!', 'Great product', 'Good choice', 'Highly recommended', 'Worth every penny', 'Brilliant', 'Simply awesome', 'Perfect product!', 'Best in the market!', 'Worth every penny', 'Fabulous!', 'Great product', 'Good choice', 'Highly recommended', 'Worth every penny', 'Brilliant', 'Simply awesome', 'Perfect product!', 'Best in the market!', 'Worth every penny', 'Fabulous!', 'Great product', 'Good choice', 'Highly recommended', 'Worth every penny']\n"
     ]
    }
   ],
   "source": [
    "Reviews = []\n",
    "for i in range(0,10,1):\n",
    "    Review_iphone = driver.find_elements_by_xpath('//p[@class=\"_2-N8zT\"]')\n",
    "    for j in Review_iphone:\n",
    "        Reviews.append(j.text)\n",
    "print(len(Reviews))\n",
    "print(Reviews)"
   ]
  },
  {
   "cell_type": "markdown",
   "id": "b920726a",
   "metadata": {},
   "source": [
    "# Full Review"
   ]
  },
  {
   "cell_type": "code",
   "execution_count": 43,
   "id": "fb6c9e91",
   "metadata": {},
   "outputs": [
    {
     "name": "stdout",
     "output_type": "stream",
     "text": [
      "100\n",
      "[['The Best Phone for the Money', '', 'The iPhone 11 offers superb cameras, a more durable design and excellent battery life for an affordable price.', '', 'Compelling ultra-wide camera', 'New Night mode is excellent', 'Long battery life'], ['Really satisfied with the Product I received... It’s totally genuine and the packaging was also really good so if ur planning to buy just go for it.'], ['Amazing phone with great cameras and better battery which gives you the best performance. I just love the camera .'], ['Great iPhone very snappy experience as apple kind. Upgraded from iPhone 7.', 'Pros', '-Camera top class', '- Battery top performed', '-Chipset no need to say as apple kind', '-Security as you expect from apple', '- Display super bright industry leading colour', 'accuracy and super responsive', '-Build quality as expect from apple sturdy', 'premium durable beautiful stylish.', '-Os most stable os in smartphone industry', '', 'Cons', '-No 5G', '-Display is not based on OLED technology', '-Charger headphones and 1 apple stic...', 'READ MORE'], ['Previously I was using one plus 3t it was a great phone', 'And then I decided to upgrade I am stuck between Samsung s10 plus or iPhone 11', 'I have seen the specs and everything were good except the display it’s somewhere between 720-1080 and it’s not even an amoled it’s an LCD display', 'But I decided to go with iPhone because I have never used an IOS device I have Been an android user from the past 9 years I ordered IPhone 11 (128gb) product red', 'My experience after using 3 weeks', '1. The delivery ...', 'READ MORE'], ['This is my first iOS phone. I am very happy with this product. Very much satisfied with this. I love this phone.'], ['Amazing Powerful and Durable Gadget.', '', 'I’m am very happy with the camera picture quality, Amazing face id unlocked in dark room, Strong battery with perfect screen size as you can carry easily in pocket. This is my third iPhone.', '', 'I shifted from android Samsung Note series to iPhone because of the strong build quality and peace of mind for next 3-4 years.', '', 'Don’t think to much just go for it and I suggest you to go for minimum 128gb variant or more 256gb.', '', 'I’ve attached my puppy pics and no fi...', 'READ MORE'], ['So far it’s been an AMAZING experience coming back to iOS after nearly a decade but it’s not as versatile as android though phone is sturdy dropped it accidentally a couple of times and nothing happened fortunately camera is awesome'], ['What a camera .....just awesome ..you can feel this iPhone just awesome . Good for gaming also ...try pubg in hd it’s just wow'], ['i11 is worthy to buy, too much happy with the product. Thank u flipkart I received the item on time..loved it..'], ['The Best Phone for the Money', '', 'The iPhone 11 offers superb cameras, a more durable design and excellent battery life for an affordable price.', '', 'Compelling ultra-wide camera', 'New Night mode is excellent', 'Long battery life'], ['Really satisfied with the Product I received... It’s totally genuine and the packaging was also really good so if ur planning to buy just go for it.'], ['Amazing phone with great cameras and better battery which gives you the best performance. I just love the camera .'], ['Great iPhone very snappy experience as apple kind. Upgraded from iPhone 7.', 'Pros', '-Camera top class', '- Battery top performed', '-Chipset no need to say as apple kind', '-Security as you expect from apple', '- Display super bright industry leading colour', 'accuracy and super responsive', '-Build quality as expect from apple sturdy', 'premium durable beautiful stylish.', '-Os most stable os in smartphone industry', '', 'Cons', '-No 5G', '-Display is not based on OLED technology', '-Charger headphones and 1 apple stic...', 'READ MORE'], ['Previously I was using one plus 3t it was a great phone', 'And then I decided to upgrade I am stuck between Samsung s10 plus or iPhone 11', 'I have seen the specs and everything were good except the display it’s somewhere between 720-1080 and it’s not even an amoled it’s an LCD display', 'But I decided to go with iPhone because I have never used an IOS device I have Been an android user from the past 9 years I ordered IPhone 11 (128gb) product red', 'My experience after using 3 weeks', '1. The delivery ...', 'READ MORE'], ['This is my first iOS phone. I am very happy with this product. Very much satisfied with this. I love this phone.'], ['Amazing Powerful and Durable Gadget.', '', 'I’m am very happy with the camera picture quality, Amazing face id unlocked in dark room, Strong battery with perfect screen size as you can carry easily in pocket. This is my third iPhone.', '', 'I shifted from android Samsung Note series to iPhone because of the strong build quality and peace of mind for next 3-4 years.', '', 'Don’t think to much just go for it and I suggest you to go for minimum 128gb variant or more 256gb.', '', 'I’ve attached my puppy pics and no fi...', 'READ MORE'], ['So far it’s been an AMAZING experience coming back to iOS after nearly a decade but it’s not as versatile as android though phone is sturdy dropped it accidentally a couple of times and nothing happened fortunately camera is awesome'], ['What a camera .....just awesome ..you can feel this iPhone just awesome . Good for gaming also ...try pubg in hd it’s just wow'], ['i11 is worthy to buy, too much happy with the product. Thank u flipkart I received the item on time..loved it..'], ['The Best Phone for the Money', '', 'The iPhone 11 offers superb cameras, a more durable design and excellent battery life for an affordable price.', '', 'Compelling ultra-wide camera', 'New Night mode is excellent', 'Long battery life'], ['Really satisfied with the Product I received... It’s totally genuine and the packaging was also really good so if ur planning to buy just go for it.'], ['Amazing phone with great cameras and better battery which gives you the best performance. I just love the camera .'], ['Great iPhone very snappy experience as apple kind. Upgraded from iPhone 7.', 'Pros', '-Camera top class', '- Battery top performed', '-Chipset no need to say as apple kind', '-Security as you expect from apple', '- Display super bright industry leading colour', 'accuracy and super responsive', '-Build quality as expect from apple sturdy', 'premium durable beautiful stylish.', '-Os most stable os in smartphone industry', '', 'Cons', '-No 5G', '-Display is not based on OLED technology', '-Charger headphones and 1 apple stic...', 'READ MORE'], ['Previously I was using one plus 3t it was a great phone', 'And then I decided to upgrade I am stuck between Samsung s10 plus or iPhone 11', 'I have seen the specs and everything were good except the display it’s somewhere between 720-1080 and it’s not even an amoled it’s an LCD display', 'But I decided to go with iPhone because I have never used an IOS device I have Been an android user from the past 9 years I ordered IPhone 11 (128gb) product red', 'My experience after using 3 weeks', '1. The delivery ...', 'READ MORE'], ['This is my first iOS phone. I am very happy with this product. Very much satisfied with this. I love this phone.'], ['Amazing Powerful and Durable Gadget.', '', 'I’m am very happy with the camera picture quality, Amazing face id unlocked in dark room, Strong battery with perfect screen size as you can carry easily in pocket. This is my third iPhone.', '', 'I shifted from android Samsung Note series to iPhone because of the strong build quality and peace of mind for next 3-4 years.', '', 'Don’t think to much just go for it and I suggest you to go for minimum 128gb variant or more 256gb.', '', 'I’ve attached my puppy pics and no fi...', 'READ MORE'], ['So far it’s been an AMAZING experience coming back to iOS after nearly a decade but it’s not as versatile as android though phone is sturdy dropped it accidentally a couple of times and nothing happened fortunately camera is awesome'], ['What a camera .....just awesome ..you can feel this iPhone just awesome . Good for gaming also ...try pubg in hd it’s just wow'], ['i11 is worthy to buy, too much happy with the product. Thank u flipkart I received the item on time..loved it..'], ['The Best Phone for the Money', '', 'The iPhone 11 offers superb cameras, a more durable design and excellent battery life for an affordable price.', '', 'Compelling ultra-wide camera', 'New Night mode is excellent', 'Long battery life'], ['Really satisfied with the Product I received... It’s totally genuine and the packaging was also really good so if ur planning to buy just go for it.'], ['Amazing phone with great cameras and better battery which gives you the best performance. I just love the camera .'], ['Great iPhone very snappy experience as apple kind. Upgraded from iPhone 7.', 'Pros', '-Camera top class', '- Battery top performed', '-Chipset no need to say as apple kind', '-Security as you expect from apple', '- Display super bright industry leading colour', 'accuracy and super responsive', '-Build quality as expect from apple sturdy', 'premium durable beautiful stylish.', '-Os most stable os in smartphone industry', '', 'Cons', '-No 5G', '-Display is not based on OLED technology', '-Charger headphones and 1 apple stic...', 'READ MORE'], ['Previously I was using one plus 3t it was a great phone', 'And then I decided to upgrade I am stuck between Samsung s10 plus or iPhone 11', 'I have seen the specs and everything were good except the display it’s somewhere between 720-1080 and it’s not even an amoled it’s an LCD display', 'But I decided to go with iPhone because I have never used an IOS device I have Been an android user from the past 9 years I ordered IPhone 11 (128gb) product red', 'My experience after using 3 weeks', '1. The delivery ...', 'READ MORE'], ['This is my first iOS phone. I am very happy with this product. Very much satisfied with this. I love this phone.'], ['Amazing Powerful and Durable Gadget.', '', 'I’m am very happy with the camera picture quality, Amazing face id unlocked in dark room, Strong battery with perfect screen size as you can carry easily in pocket. This is my third iPhone.', '', 'I shifted from android Samsung Note series to iPhone because of the strong build quality and peace of mind for next 3-4 years.', '', 'Don’t think to much just go for it and I suggest you to go for minimum 128gb variant or more 256gb.', '', 'I’ve attached my puppy pics and no fi...', 'READ MORE'], ['So far it’s been an AMAZING experience coming back to iOS after nearly a decade but it’s not as versatile as android though phone is sturdy dropped it accidentally a couple of times and nothing happened fortunately camera is awesome'], ['What a camera .....just awesome ..you can feel this iPhone just awesome . Good for gaming also ...try pubg in hd it’s just wow'], ['i11 is worthy to buy, too much happy with the product. Thank u flipkart I received the item on time..loved it..'], ['The Best Phone for the Money', '', 'The iPhone 11 offers superb cameras, a more durable design and excellent battery life for an affordable price.', '', 'Compelling ultra-wide camera', 'New Night mode is excellent', 'Long battery life'], ['Really satisfied with the Product I received... It’s totally genuine and the packaging was also really good so if ur planning to buy just go for it.'], ['Amazing phone with great cameras and better battery which gives you the best performance. I just love the camera .'], ['Great iPhone very snappy experience as apple kind. Upgraded from iPhone 7.', 'Pros', '-Camera top class', '- Battery top performed', '-Chipset no need to say as apple kind', '-Security as you expect from apple', '- Display super bright industry leading colour', 'accuracy and super responsive', '-Build quality as expect from apple sturdy', 'premium durable beautiful stylish.', '-Os most stable os in smartphone industry', '', 'Cons', '-No 5G', '-Display is not based on OLED technology', '-Charger headphones and 1 apple stic...', 'READ MORE'], ['Previously I was using one plus 3t it was a great phone', 'And then I decided to upgrade I am stuck between Samsung s10 plus or iPhone 11', 'I have seen the specs and everything were good except the display it’s somewhere between 720-1080 and it’s not even an amoled it’s an LCD display', 'But I decided to go with iPhone because I have never used an IOS device I have Been an android user from the past 9 years I ordered IPhone 11 (128gb) product red', 'My experience after using 3 weeks', '1. The delivery ...', 'READ MORE'], ['This is my first iOS phone. I am very happy with this product. Very much satisfied with this. I love this phone.'], ['Amazing Powerful and Durable Gadget.', '', 'I’m am very happy with the camera picture quality, Amazing face id unlocked in dark room, Strong battery with perfect screen size as you can carry easily in pocket. This is my third iPhone.', '', 'I shifted from android Samsung Note series to iPhone because of the strong build quality and peace of mind for next 3-4 years.', '', 'Don’t think to much just go for it and I suggest you to go for minimum 128gb variant or more 256gb.', '', 'I’ve attached my puppy pics and no fi...', 'READ MORE'], ['So far it’s been an AMAZING experience coming back to iOS after nearly a decade but it’s not as versatile as android though phone is sturdy dropped it accidentally a couple of times and nothing happened fortunately camera is awesome'], ['What a camera .....just awesome ..you can feel this iPhone just awesome . Good for gaming also ...try pubg in hd it’s just wow'], ['i11 is worthy to buy, too much happy with the product. Thank u flipkart I received the item on time..loved it..'], ['The Best Phone for the Money', '', 'The iPhone 11 offers superb cameras, a more durable design and excellent battery life for an affordable price.', '', 'Compelling ultra-wide camera', 'New Night mode is excellent', 'Long battery life'], ['Really satisfied with the Product I received... It’s totally genuine and the packaging was also really good so if ur planning to buy just go for it.'], ['Amazing phone with great cameras and better battery which gives you the best performance. I just love the camera .'], ['Great iPhone very snappy experience as apple kind. Upgraded from iPhone 7.', 'Pros', '-Camera top class', '- Battery top performed', '-Chipset no need to say as apple kind', '-Security as you expect from apple', '- Display super bright industry leading colour', 'accuracy and super responsive', '-Build quality as expect from apple sturdy', 'premium durable beautiful stylish.', '-Os most stable os in smartphone industry', '', 'Cons', '-No 5G', '-Display is not based on OLED technology', '-Charger headphones and 1 apple stic...', 'READ MORE'], ['Previously I was using one plus 3t it was a great phone', 'And then I decided to upgrade I am stuck between Samsung s10 plus or iPhone 11', 'I have seen the specs and everything were good except the display it’s somewhere between 720-1080 and it’s not even an amoled it’s an LCD display', 'But I decided to go with iPhone because I have never used an IOS device I have Been an android user from the past 9 years I ordered IPhone 11 (128gb) product red', 'My experience after using 3 weeks', '1. The delivery ...', 'READ MORE'], ['This is my first iOS phone. I am very happy with this product. Very much satisfied with this. I love this phone.'], ['Amazing Powerful and Durable Gadget.', '', 'I’m am very happy with the camera picture quality, Amazing face id unlocked in dark room, Strong battery with perfect screen size as you can carry easily in pocket. This is my third iPhone.', '', 'I shifted from android Samsung Note series to iPhone because of the strong build quality and peace of mind for next 3-4 years.', '', 'Don’t think to much just go for it and I suggest you to go for minimum 128gb variant or more 256gb.', '', 'I’ve attached my puppy pics and no fi...', 'READ MORE'], ['So far it’s been an AMAZING experience coming back to iOS after nearly a decade but it’s not as versatile as android though phone is sturdy dropped it accidentally a couple of times and nothing happened fortunately camera is awesome'], ['What a camera .....just awesome ..you can feel this iPhone just awesome . Good for gaming also ...try pubg in hd it’s just wow'], ['i11 is worthy to buy, too much happy with the product. Thank u flipkart I received the item on time..loved it..'], ['The Best Phone for the Money', '', 'The iPhone 11 offers superb cameras, a more durable design and excellent battery life for an affordable price.', '', 'Compelling ultra-wide camera', 'New Night mode is excellent', 'Long battery life'], ['Really satisfied with the Product I received... It’s totally genuine and the packaging was also really good so if ur planning to buy just go for it.'], ['Amazing phone with great cameras and better battery which gives you the best performance. I just love the camera .'], ['Great iPhone very snappy experience as apple kind. Upgraded from iPhone 7.', 'Pros', '-Camera top class', '- Battery top performed', '-Chipset no need to say as apple kind', '-Security as you expect from apple', '- Display super bright industry leading colour', 'accuracy and super responsive', '-Build quality as expect from apple sturdy', 'premium durable beautiful stylish.', '-Os most stable os in smartphone industry', '', 'Cons', '-No 5G', '-Display is not based on OLED technology', '-Charger headphones and 1 apple stic...', 'READ MORE'], ['Previously I was using one plus 3t it was a great phone', 'And then I decided to upgrade I am stuck between Samsung s10 plus or iPhone 11', 'I have seen the specs and everything were good except the display it’s somewhere between 720-1080 and it’s not even an amoled it’s an LCD display', 'But I decided to go with iPhone because I have never used an IOS device I have Been an android user from the past 9 years I ordered IPhone 11 (128gb) product red', 'My experience after using 3 weeks', '1. The delivery ...', 'READ MORE'], ['This is my first iOS phone. I am very happy with this product. Very much satisfied with this. I love this phone.'], ['Amazing Powerful and Durable Gadget.', '', 'I’m am very happy with the camera picture quality, Amazing face id unlocked in dark room, Strong battery with perfect screen size as you can carry easily in pocket. This is my third iPhone.', '', 'I shifted from android Samsung Note series to iPhone because of the strong build quality and peace of mind for next 3-4 years.', '', 'Don’t think to much just go for it and I suggest you to go for minimum 128gb variant or more 256gb.', '', 'I’ve attached my puppy pics and no fi...', 'READ MORE'], ['So far it’s been an AMAZING experience coming back to iOS after nearly a decade but it’s not as versatile as android though phone is sturdy dropped it accidentally a couple of times and nothing happened fortunately camera is awesome'], ['What a camera .....just awesome ..you can feel this iPhone just awesome . Good for gaming also ...try pubg in hd it’s just wow'], ['i11 is worthy to buy, too much happy with the product. Thank u flipkart I received the item on time..loved it..'], ['The Best Phone for the Money', '', 'The iPhone 11 offers superb cameras, a more durable design and excellent battery life for an affordable price.', '', 'Compelling ultra-wide camera', 'New Night mode is excellent', 'Long battery life'], ['Really satisfied with the Product I received... It’s totally genuine and the packaging was also really good so if ur planning to buy just go for it.'], ['Amazing phone with great cameras and better battery which gives you the best performance. I just love the camera .'], ['Great iPhone very snappy experience as apple kind. Upgraded from iPhone 7.', 'Pros', '-Camera top class', '- Battery top performed', '-Chipset no need to say as apple kind', '-Security as you expect from apple', '- Display super bright industry leading colour', 'accuracy and super responsive', '-Build quality as expect from apple sturdy', 'premium durable beautiful stylish.', '-Os most stable os in smartphone industry', '', 'Cons', '-No 5G', '-Display is not based on OLED technology', '-Charger headphones and 1 apple stic...', 'READ MORE'], ['Previously I was using one plus 3t it was a great phone', 'And then I decided to upgrade I am stuck between Samsung s10 plus or iPhone 11', 'I have seen the specs and everything were good except the display it’s somewhere between 720-1080 and it’s not even an amoled it’s an LCD display', 'But I decided to go with iPhone because I have never used an IOS device I have Been an android user from the past 9 years I ordered IPhone 11 (128gb) product red', 'My experience after using 3 weeks', '1. The delivery ...', 'READ MORE'], ['This is my first iOS phone. I am very happy with this product. Very much satisfied with this. I love this phone.'], ['Amazing Powerful and Durable Gadget.', '', 'I’m am very happy with the camera picture quality, Amazing face id unlocked in dark room, Strong battery with perfect screen size as you can carry easily in pocket. This is my third iPhone.', '', 'I shifted from android Samsung Note series to iPhone because of the strong build quality and peace of mind for next 3-4 years.', '', 'Don’t think to much just go for it and I suggest you to go for minimum 128gb variant or more 256gb.', '', 'I’ve attached my puppy pics and no fi...', 'READ MORE'], ['So far it’s been an AMAZING experience coming back to iOS after nearly a decade but it’s not as versatile as android though phone is sturdy dropped it accidentally a couple of times and nothing happened fortunately camera is awesome'], ['What a camera .....just awesome ..you can feel this iPhone just awesome . Good for gaming also ...try pubg in hd it’s just wow'], ['i11 is worthy to buy, too much happy with the product. Thank u flipkart I received the item on time..loved it..'], ['The Best Phone for the Money', '', 'The iPhone 11 offers superb cameras, a more durable design and excellent battery life for an affordable price.', '', 'Compelling ultra-wide camera', 'New Night mode is excellent', 'Long battery life'], ['Really satisfied with the Product I received... It’s totally genuine and the packaging was also really good so if ur planning to buy just go for it.'], ['Amazing phone with great cameras and better battery which gives you the best performance. I just love the camera .'], ['Great iPhone very snappy experience as apple kind. Upgraded from iPhone 7.', 'Pros', '-Camera top class', '- Battery top performed', '-Chipset no need to say as apple kind', '-Security as you expect from apple', '- Display super bright industry leading colour', 'accuracy and super responsive', '-Build quality as expect from apple sturdy', 'premium durable beautiful stylish.', '-Os most stable os in smartphone industry', '', 'Cons', '-No 5G', '-Display is not based on OLED technology', '-Charger headphones and 1 apple stic...', 'READ MORE'], ['Previously I was using one plus 3t it was a great phone', 'And then I decided to upgrade I am stuck between Samsung s10 plus or iPhone 11', 'I have seen the specs and everything were good except the display it’s somewhere between 720-1080 and it’s not even an amoled it’s an LCD display', 'But I decided to go with iPhone because I have never used an IOS device I have Been an android user from the past 9 years I ordered IPhone 11 (128gb) product red', 'My experience after using 3 weeks', '1. The delivery ...', 'READ MORE'], ['This is my first iOS phone. I am very happy with this product. Very much satisfied with this. I love this phone.'], ['Amazing Powerful and Durable Gadget.', '', 'I’m am very happy with the camera picture quality, Amazing face id unlocked in dark room, Strong battery with perfect screen size as you can carry easily in pocket. This is my third iPhone.', '', 'I shifted from android Samsung Note series to iPhone because of the strong build quality and peace of mind for next 3-4 years.', '', 'Don’t think to much just go for it and I suggest you to go for minimum 128gb variant or more 256gb.', '', 'I’ve attached my puppy pics and no fi...', 'READ MORE'], ['So far it’s been an AMAZING experience coming back to iOS after nearly a decade but it’s not as versatile as android though phone is sturdy dropped it accidentally a couple of times and nothing happened fortunately camera is awesome'], ['What a camera .....just awesome ..you can feel this iPhone just awesome . Good for gaming also ...try pubg in hd it’s just wow'], ['i11 is worthy to buy, too much happy with the product. Thank u flipkart I received the item on time..loved it..'], ['The Best Phone for the Money', '', 'The iPhone 11 offers superb cameras, a more durable design and excellent battery life for an affordable price.', '', 'Compelling ultra-wide camera', 'New Night mode is excellent', 'Long battery life'], ['Really satisfied with the Product I received... It’s totally genuine and the packaging was also really good so if ur planning to buy just go for it.'], ['Amazing phone with great cameras and better battery which gives you the best performance. I just love the camera .'], ['Great iPhone very snappy experience as apple kind. Upgraded from iPhone 7.', 'Pros', '-Camera top class', '- Battery top performed', '-Chipset no need to say as apple kind', '-Security as you expect from apple', '- Display super bright industry leading colour', 'accuracy and super responsive', '-Build quality as expect from apple sturdy', 'premium durable beautiful stylish.', '-Os most stable os in smartphone industry', '', 'Cons', '-No 5G', '-Display is not based on OLED technology', '-Charger headphones and 1 apple stic...', 'READ MORE'], ['Previously I was using one plus 3t it was a great phone', 'And then I decided to upgrade I am stuck between Samsung s10 plus or iPhone 11', 'I have seen the specs and everything were good except the display it’s somewhere between 720-1080 and it’s not even an amoled it’s an LCD display', 'But I decided to go with iPhone because I have never used an IOS device I have Been an android user from the past 9 years I ordered IPhone 11 (128gb) product red', 'My experience after using 3 weeks', '1. The delivery ...', 'READ MORE'], ['This is my first iOS phone. I am very happy with this product. Very much satisfied with this. I love this phone.'], ['Amazing Powerful and Durable Gadget.', '', 'I’m am very happy with the camera picture quality, Amazing face id unlocked in dark room, Strong battery with perfect screen size as you can carry easily in pocket. This is my third iPhone.', '', 'I shifted from android Samsung Note series to iPhone because of the strong build quality and peace of mind for next 3-4 years.', '', 'Don’t think to much just go for it and I suggest you to go for minimum 128gb variant or more 256gb.', '', 'I’ve attached my puppy pics and no fi...', 'READ MORE'], ['So far it’s been an AMAZING experience coming back to iOS after nearly a decade but it’s not as versatile as android though phone is sturdy dropped it accidentally a couple of times and nothing happened fortunately camera is awesome'], ['What a camera .....just awesome ..you can feel this iPhone just awesome . Good for gaming also ...try pubg in hd it’s just wow'], ['i11 is worthy to buy, too much happy with the product. Thank u flipkart I received the item on time..loved it..']]\n"
     ]
    }
   ],
   "source": [
    "full_reviews = []\n",
    "for i in range(0,10,1):\n",
    "    full_review_iphone = driver.find_elements_by_xpath('//div[@class=\"t-ZTKy\"]')\n",
    "    for j in full_review_iphone:\n",
    "        full_reviews.append(j.text.split('\\n'))\n",
    "print(len(full_reviews))\n",
    "print(full_reviews)"
   ]
  },
  {
   "cell_type": "markdown",
   "id": "a8efc00b",
   "metadata": {},
   "source": [
    "# Creating DataFrame"
   ]
  },
  {
   "cell_type": "code",
   "execution_count": 44,
   "id": "461d5872",
   "metadata": {},
   "outputs": [
    {
     "data": {
      "text/html": [
       "<div>\n",
       "<style scoped>\n",
       "    .dataframe tbody tr th:only-of-type {\n",
       "        vertical-align: middle;\n",
       "    }\n",
       "\n",
       "    .dataframe tbody tr th {\n",
       "        vertical-align: top;\n",
       "    }\n",
       "\n",
       "    .dataframe thead th {\n",
       "        text-align: right;\n",
       "    }\n",
       "</style>\n",
       "<table border=\"1\" class=\"dataframe\">\n",
       "  <thead>\n",
       "    <tr style=\"text-align: right;\">\n",
       "      <th></th>\n",
       "      <th>Rating</th>\n",
       "      <th>Review</th>\n",
       "      <th>Full review</th>\n",
       "    </tr>\n",
       "  </thead>\n",
       "  <tbody>\n",
       "    <tr>\n",
       "      <th>0</th>\n",
       "      <td>5</td>\n",
       "      <td>Brilliant</td>\n",
       "      <td>[The Best Phone for the Money, , The iPhone 11...</td>\n",
       "    </tr>\n",
       "    <tr>\n",
       "      <th>1</th>\n",
       "      <td>5</td>\n",
       "      <td>Simply awesome</td>\n",
       "      <td>[Really satisfied with the Product I received....</td>\n",
       "    </tr>\n",
       "    <tr>\n",
       "      <th>2</th>\n",
       "      <td>5</td>\n",
       "      <td>Perfect product!</td>\n",
       "      <td>[Amazing phone with great cameras and better b...</td>\n",
       "    </tr>\n",
       "    <tr>\n",
       "      <th>3</th>\n",
       "      <td>5</td>\n",
       "      <td>Best in the market!</td>\n",
       "      <td>[Great iPhone very snappy experience as apple ...</td>\n",
       "    </tr>\n",
       "    <tr>\n",
       "      <th>4</th>\n",
       "      <td>5</td>\n",
       "      <td>Worth every penny</td>\n",
       "      <td>[Previously I was using one plus 3t it was a g...</td>\n",
       "    </tr>\n",
       "    <tr>\n",
       "      <th>...</th>\n",
       "      <td>...</td>\n",
       "      <td>...</td>\n",
       "      <td>...</td>\n",
       "    </tr>\n",
       "    <tr>\n",
       "      <th>95</th>\n",
       "      <td>5</td>\n",
       "      <td>Fabulous!</td>\n",
       "      <td>[This is my first iOS phone. I am very happy w...</td>\n",
       "    </tr>\n",
       "    <tr>\n",
       "      <th>96</th>\n",
       "      <td>5</td>\n",
       "      <td>Great product</td>\n",
       "      <td>[Amazing Powerful and Durable Gadget., , I’m a...</td>\n",
       "    </tr>\n",
       "    <tr>\n",
       "      <th>97</th>\n",
       "      <td>4</td>\n",
       "      <td>Good choice</td>\n",
       "      <td>[So far it’s been an AMAZING experience coming...</td>\n",
       "    </tr>\n",
       "    <tr>\n",
       "      <th>98</th>\n",
       "      <td>5</td>\n",
       "      <td>Highly recommended</td>\n",
       "      <td>[What a camera .....just awesome ..you can fee...</td>\n",
       "    </tr>\n",
       "    <tr>\n",
       "      <th>99</th>\n",
       "      <td>5</td>\n",
       "      <td>Worth every penny</td>\n",
       "      <td>[i11 is worthy to buy, too much happy with the...</td>\n",
       "    </tr>\n",
       "  </tbody>\n",
       "</table>\n",
       "<p>100 rows × 3 columns</p>\n",
       "</div>"
      ],
      "text/plain": [
       "   Rating               Review  \\\n",
       "0       5            Brilliant   \n",
       "1       5       Simply awesome   \n",
       "2       5     Perfect product!   \n",
       "3       5  Best in the market!   \n",
       "4       5    Worth every penny   \n",
       "..    ...                  ...   \n",
       "95      5            Fabulous!   \n",
       "96      5        Great product   \n",
       "97      4          Good choice   \n",
       "98      5   Highly recommended   \n",
       "99      5    Worth every penny   \n",
       "\n",
       "                                          Full review  \n",
       "0   [The Best Phone for the Money, , The iPhone 11...  \n",
       "1   [Really satisfied with the Product I received....  \n",
       "2   [Amazing phone with great cameras and better b...  \n",
       "3   [Great iPhone very snappy experience as apple ...  \n",
       "4   [Previously I was using one plus 3t it was a g...  \n",
       "..                                                ...  \n",
       "95  [This is my first iOS phone. I am very happy w...  \n",
       "96  [Amazing Powerful and Durable Gadget., , I’m a...  \n",
       "97  [So far it’s been an AMAZING experience coming...  \n",
       "98  [What a camera .....just awesome ..you can fee...  \n",
       "99  [i11 is worthy to buy, too much happy with the...  \n",
       "\n",
       "[100 rows x 3 columns]"
      ]
     },
     "execution_count": 44,
     "metadata": {},
     "output_type": "execute_result"
    }
   ],
   "source": [
    "df=pd.DataFrame({'Rating':Rating,'Review':Reviews,'Full review':full_reviews})\n",
    "df"
   ]
  },
  {
   "cell_type": "markdown",
   "id": "ccea6063",
   "metadata": {},
   "source": [
    "# Q6: Scrape data for first 100 sneakers you find when you visit flipkart.com andsearch for “sneakers” in the\n",
    "search field.\n",
    "You have to scrape 4 attributes of each sneaker:\n",
    "1. Brand\n",
    "2. Product Description\n",
    "3. Price\n",
    "As shown in the below image, you have to scrape the tick marked attributes"
   ]
  },
  {
   "cell_type": "code",
   "execution_count": 45,
   "id": "24a337f8",
   "metadata": {},
   "outputs": [],
   "source": [
    "#Connect to the driver\n",
    "driver=webdriver.Chrome(r'E:\\chrome driver\\chromedriver.exe')"
   ]
  },
  {
   "cell_type": "code",
   "execution_count": 46,
   "id": "8c49eb83",
   "metadata": {},
   "outputs": [],
   "source": [
    "url ='https://www.flipkart.com/'\n",
    "driver.get(url)"
   ]
  },
  {
   "cell_type": "code",
   "execution_count": 47,
   "id": "4dfa38a8",
   "metadata": {},
   "outputs": [
    {
     "data": {
      "text/plain": [
       "<selenium.webdriver.remote.webelement.WebElement (session=\"71359d4c4e469577c9f1990d8a4f2374\", element=\"3f6430c5-8479-4459-a7b7-68495cda0de5\")>"
      ]
     },
     "execution_count": 47,
     "metadata": {},
     "output_type": "execute_result"
    }
   ],
   "source": [
    "#Search using The Xpath\n",
    "search_eng=driver.find_element_by_xpath('/html/body/div[1]/div/div[1]/div[1]/div[2]/div[2]/form/div/div/input')\n",
    "search_eng"
   ]
  },
  {
   "cell_type": "code",
   "execution_count": 48,
   "id": "26ca010d",
   "metadata": {},
   "outputs": [],
   "source": [
    "search_eng.send_keys(\"sneakers\")"
   ]
  },
  {
   "cell_type": "code",
   "execution_count": 49,
   "id": "eafc7c4d",
   "metadata": {},
   "outputs": [
    {
     "data": {
      "text/plain": [
       "<selenium.webdriver.remote.webelement.WebElement (session=\"71359d4c4e469577c9f1990d8a4f2374\", element=\"5f7eb9ff-6bbf-4e9a-ab09-8e4732cfab83\")>"
      ]
     },
     "execution_count": 49,
     "metadata": {},
     "output_type": "execute_result"
    }
   ],
   "source": [
    "search_btn=driver.find_element_by_xpath('/html/body/div[1]/div/div[1]/div[1]/div[2]/div[2]/form/div/button')\n",
    "search_btn"
   ]
  },
  {
   "cell_type": "code",
   "execution_count": 50,
   "id": "fdff0a5d",
   "metadata": {},
   "outputs": [],
   "source": [
    "search_btn.click()"
   ]
  },
  {
   "cell_type": "markdown",
   "id": "98d6cefd",
   "metadata": {},
   "source": [
    "# Extracting Brand"
   ]
  },
  {
   "cell_type": "code",
   "execution_count": 51,
   "id": "1c0c2475",
   "metadata": {},
   "outputs": [
    {
     "name": "stdout",
     "output_type": "stream",
     "text": [
      "100\n",
      "['ALICON', 'tigonis', 'luxury fashion', 'Magnolia', 'URBANBOX', 'Labbin', 'Stefano Rads', 'RapidBox', 'Extoes', 'D-SNEAKERZ', 'SCATCHITE', 'Brothers Gift', 'ASTEROID', 'Shoes Bank', 'Numenzo', 'AMICO', 'Trendmode', 'HOTSTYLE', 'ganpati traders', 'AMICO', 'BIRDE', 'Kraasa', 'Rzisbo', 'PACIFIER', 'Echor', 'TR', 'Numenzo', 'RapidBox', 'ASTEROID', 'PUMA', 'Robbie jones', 'RAIYKU', 'CLYMB', 'Kraasa', 'BRUTON', 'Robbie jones', 'Lee Won', 'World Wear Footwear', 'Robbie jones', 'sixXplus', 'ALICON', 'tigonis', 'luxury fashion', 'Magnolia', 'URBANBOX', 'Labbin', 'Stefano Rads', 'RapidBox', 'Extoes', 'D-SNEAKERZ', 'SCATCHITE', 'Brothers Gift', 'ASTEROID', 'Shoes Bank', 'Numenzo', 'AMICO', 'Trendmode', 'HOTSTYLE', 'ganpati traders', 'AMICO', 'BIRDE', 'Kraasa', 'Rzisbo', 'PACIFIER', 'Echor', 'TR', 'Numenzo', 'RapidBox', 'ASTEROID', 'PUMA', 'Robbie jones', 'RAIYKU', 'CLYMB', 'Kraasa', 'BRUTON', 'Robbie jones', 'Lee Won', 'World Wear Footwear', 'Robbie jones', 'sixXplus', 'ALICON', 'tigonis', 'luxury fashion', 'Magnolia', 'URBANBOX', 'Labbin', 'Stefano Rads', 'RapidBox', 'Extoes', 'D-SNEAKERZ', 'SCATCHITE', 'Brothers Gift', 'ASTEROID', 'Shoes Bank', 'Numenzo', 'AMICO', 'Trendmode', 'HOTSTYLE', 'ganpati traders', 'AMICO']\n"
     ]
    }
   ],
   "source": [
    "Brand_sneakers = []\n",
    "for i in 0,1,2:\n",
    "    brand = driver.find_elements_by_xpath('//div[@class=\"_2WkVRV\"]')\n",
    "    for j in brand:\n",
    "        Brand_sneakers.append(j.text)\n",
    "        i=+1\n",
    "Brand_sneakers = Brand_sneakers[:100]\n",
    "print(len(Brand_sneakers))\n",
    "print(Brand_sneakers)"
   ]
  },
  {
   "cell_type": "markdown",
   "id": "e45fd99d",
   "metadata": {},
   "source": [
    "# Product Descripition"
   ]
  },
  {
   "cell_type": "code",
   "execution_count": 63,
   "id": "6b4515c1",
   "metadata": {},
   "outputs": [
    {
     "name": "stdout",
     "output_type": "stream",
     "text": [
      "100\n",
      "['Sneakers For Men', 'Sneakers Sneakers For Men', 'Classy Sneakers For Men', 'Stylish & Trendy Sneakers For Men', 'Brothers Luxury Fashionable Casual Sneakers Shoes For M...', 'Sneakers For Men', 'Stylish & Trendy Sneakers For Men', 'FASHION Sneakers For Men', 'Casual Sneakers black Shoes For Men Sneakers For Men', 'Sneakers For Men', 'Sneakers Sneakers For Men', 'Classy Sneakers For Men', 'Stylish & Trendy Sneakers For Men', 'Brothers Luxury Fashionable Casual Sneakers Shoes For M...', 'Sneakers For Men', 'Stylish & Trendy Sneakers For Men', 'FASHION Sneakers For Men', 'Casual Sneakers black Shoes For Men Sneakers For Men', 'Sneakers For Men', 'Sneakers Sneakers For Men', 'Classy Sneakers For Men', 'Stylish & Trendy Sneakers For Men', 'Brothers Luxury Fashionable Casual Sneakers Shoes For M...', 'Sneakers For Men', 'Stylish & Trendy Sneakers For Men', 'FASHION Sneakers For Men', 'Casual Sneakers black Shoes For Men Sneakers For Men', 'Sneakers For Men', 'Sneakers Sneakers For Men', 'Classy Sneakers For Men', 'Stylish & Trendy Sneakers For Men', 'Brothers Luxury Fashionable Casual Sneakers Shoes For M...', 'Sneakers For Men', 'Stylish & Trendy Sneakers For Men', 'FASHION Sneakers For Men', 'Casual Sneakers black Shoes For Men Sneakers For Men', 'Sneakers For Men', 'Sneakers Sneakers For Men', 'Classy Sneakers For Men', 'Stylish & Trendy Sneakers For Men', 'Brothers Luxury Fashionable Casual Sneakers Shoes For M...', 'Sneakers For Men', 'Stylish & Trendy Sneakers For Men', 'FASHION Sneakers For Men', 'Casual Sneakers black Shoes For Men Sneakers For Men', 'Sneakers For Men', 'Sneakers Sneakers For Men', 'Classy Sneakers For Men', 'Stylish & Trendy Sneakers For Men', 'Brothers Luxury Fashionable Casual Sneakers Shoes For M...', 'Sneakers For Men', 'Stylish & Trendy Sneakers For Men', 'FASHION Sneakers For Men', 'Casual Sneakers black Shoes For Men Sneakers For Men', 'Sneakers For Men', 'Sneakers Sneakers For Men', 'Classy Sneakers For Men', 'Stylish & Trendy Sneakers For Men', 'Brothers Luxury Fashionable Casual Sneakers Shoes For M...', 'Sneakers For Men', 'Stylish & Trendy Sneakers For Men', 'FASHION Sneakers For Men', 'Casual Sneakers black Shoes For Men Sneakers For Men', 'Sneakers For Men', 'Sneakers Sneakers For Men', 'Classy Sneakers For Men', 'Stylish & Trendy Sneakers For Men', 'Brothers Luxury Fashionable Casual Sneakers Shoes For M...', 'Sneakers For Men', 'Stylish & Trendy Sneakers For Men', 'FASHION Sneakers For Men', 'Casual Sneakers black Shoes For Men Sneakers For Men', 'Sneakers For Men', 'Sneakers Sneakers For Men', 'Classy Sneakers For Men', 'Stylish & Trendy Sneakers For Men', 'Brothers Luxury Fashionable Casual Sneakers Shoes For M...', 'Sneakers For Men', 'Stylish & Trendy Sneakers For Men', 'FASHION Sneakers For Men', 'Casual Sneakers black Shoes For Men Sneakers For Men', 'Sneakers For Men', 'Sneakers Sneakers For Men', 'Classy Sneakers For Men', 'Stylish & Trendy Sneakers For Men', 'Brothers Luxury Fashionable Casual Sneakers Shoes For M...', 'Sneakers For Men', 'Stylish & Trendy Sneakers For Men', 'FASHION Sneakers For Men', 'Casual Sneakers black Shoes For Men Sneakers For Men', 'Sneakers For Men', 'Sneakers Sneakers For Men', 'Classy Sneakers For Men', 'Stylish & Trendy Sneakers For Men', 'Brothers Luxury Fashionable Casual Sneakers Shoes For M...', 'Sneakers For Men', 'Stylish & Trendy Sneakers For Men', 'FASHION Sneakers For Men', 'Casual Sneakers black Shoes For Men Sneakers For Men', 'Sneakers For Men']\n"
     ]
    }
   ],
   "source": [
    "Product_Descr=[]\n",
    "for i in 0,1,2,3,4,5,6,7,8,9,10,11:\n",
    "    Product_desc=driver.find_elements_by_xpath('//a[@class=\"IRpwTa _2-ICcC\"]')\n",
    "    for j in Product_desc:\n",
    "        Product_Descr.append(j.text)\n",
    "        i=+1\n",
    "Product_Descr=Product_Descr[:100]\n",
    "print(len(Product_Descr))\n",
    "print(Product_Descr)"
   ]
  },
  {
   "cell_type": "markdown",
   "id": "d213e552",
   "metadata": {},
   "source": [
    "# Price"
   ]
  },
  {
   "cell_type": "code",
   "execution_count": 65,
   "id": "33bb4dd7",
   "metadata": {},
   "outputs": [
    {
     "name": "stdout",
     "output_type": "stream",
     "text": [
      "100\n",
      "['₹472', '₹449', '₹449', '₹398', '₹220', '₹499', '₹242', '₹630', '₹948', '₹348', '₹398', '₹449', '₹499', '₹345', '₹499', '₹449', '₹359', '₹298', '₹189', '₹449', '₹299', '₹499', '₹574', '₹499', '₹499', '₹599', '₹429', '₹620', '₹499', '₹2,998', '₹499', '₹649', '₹649', '₹499', '₹379', '₹499', '₹299', '₹199', '₹451', '₹474', '₹472', '₹449', '₹449', '₹398', '₹220', '₹499', '₹242', '₹630', '₹948', '₹348', '₹398', '₹449', '₹499', '₹345', '₹499', '₹449', '₹359', '₹298', '₹189', '₹449', '₹299', '₹499', '₹574', '₹499', '₹499', '₹599', '₹429', '₹620', '₹499', '₹2,998', '₹499', '₹649', '₹649', '₹499', '₹379', '₹499', '₹299', '₹199', '₹451', '₹474', '₹472', '₹449', '₹449', '₹398', '₹220', '₹499', '₹242', '₹630', '₹948', '₹348', '₹398', '₹449', '₹499', '₹345', '₹499', '₹449', '₹359', '₹298', '₹189', '₹449']\n"
     ]
    }
   ],
   "source": [
    "Price_Descr=[]\n",
    "for i in 0,1,2:\n",
    "    Price_desc=driver.find_elements_by_xpath('//div[@class=\"_30jeq3\"]')\n",
    "    for j in Price_desc:\n",
    "        Price_Descr.append(j.text)\n",
    "        i=+1\n",
    "Price_Descr=Price_Descr[:100]\n",
    "print(len(Price_Descr))\n",
    "print(Price_Descr)"
   ]
  },
  {
   "cell_type": "markdown",
   "id": "84ed8093",
   "metadata": {},
   "source": [
    "# Creating DataFrame"
   ]
  },
  {
   "cell_type": "code",
   "execution_count": 66,
   "id": "ca7f20d6",
   "metadata": {},
   "outputs": [
    {
     "data": {
      "text/html": [
       "<div>\n",
       "<style scoped>\n",
       "    .dataframe tbody tr th:only-of-type {\n",
       "        vertical-align: middle;\n",
       "    }\n",
       "\n",
       "    .dataframe tbody tr th {\n",
       "        vertical-align: top;\n",
       "    }\n",
       "\n",
       "    .dataframe thead th {\n",
       "        text-align: right;\n",
       "    }\n",
       "</style>\n",
       "<table border=\"1\" class=\"dataframe\">\n",
       "  <thead>\n",
       "    <tr style=\"text-align: right;\">\n",
       "      <th></th>\n",
       "      <th>Brand</th>\n",
       "      <th>Product Descripition</th>\n",
       "      <th>Price</th>\n",
       "    </tr>\n",
       "  </thead>\n",
       "  <tbody>\n",
       "    <tr>\n",
       "      <th>0</th>\n",
       "      <td>ALICON</td>\n",
       "      <td>Sneakers For Men</td>\n",
       "      <td>₹472</td>\n",
       "    </tr>\n",
       "    <tr>\n",
       "      <th>1</th>\n",
       "      <td>tigonis</td>\n",
       "      <td>Sneakers Sneakers For Men</td>\n",
       "      <td>₹449</td>\n",
       "    </tr>\n",
       "    <tr>\n",
       "      <th>2</th>\n",
       "      <td>luxury fashion</td>\n",
       "      <td>Classy Sneakers For Men</td>\n",
       "      <td>₹449</td>\n",
       "    </tr>\n",
       "    <tr>\n",
       "      <th>3</th>\n",
       "      <td>Magnolia</td>\n",
       "      <td>Stylish &amp; Trendy Sneakers For Men</td>\n",
       "      <td>₹398</td>\n",
       "    </tr>\n",
       "    <tr>\n",
       "      <th>4</th>\n",
       "      <td>URBANBOX</td>\n",
       "      <td>Brothers Luxury Fashionable Casual Sneakers Sh...</td>\n",
       "      <td>₹220</td>\n",
       "    </tr>\n",
       "    <tr>\n",
       "      <th>...</th>\n",
       "      <td>...</td>\n",
       "      <td>...</td>\n",
       "      <td>...</td>\n",
       "    </tr>\n",
       "    <tr>\n",
       "      <th>95</th>\n",
       "      <td>AMICO</td>\n",
       "      <td>Sneakers For Men</td>\n",
       "      <td>₹449</td>\n",
       "    </tr>\n",
       "    <tr>\n",
       "      <th>96</th>\n",
       "      <td>Trendmode</td>\n",
       "      <td>Stylish &amp; Trendy Sneakers For Men</td>\n",
       "      <td>₹359</td>\n",
       "    </tr>\n",
       "    <tr>\n",
       "      <th>97</th>\n",
       "      <td>HOTSTYLE</td>\n",
       "      <td>FASHION Sneakers For Men</td>\n",
       "      <td>₹298</td>\n",
       "    </tr>\n",
       "    <tr>\n",
       "      <th>98</th>\n",
       "      <td>ganpati traders</td>\n",
       "      <td>Casual Sneakers black Shoes For Men Sneakers F...</td>\n",
       "      <td>₹189</td>\n",
       "    </tr>\n",
       "    <tr>\n",
       "      <th>99</th>\n",
       "      <td>AMICO</td>\n",
       "      <td>Sneakers For Men</td>\n",
       "      <td>₹449</td>\n",
       "    </tr>\n",
       "  </tbody>\n",
       "</table>\n",
       "<p>100 rows × 3 columns</p>\n",
       "</div>"
      ],
      "text/plain": [
       "              Brand                               Product Descripition Price\n",
       "0            ALICON                                   Sneakers For Men  ₹472\n",
       "1           tigonis                          Sneakers Sneakers For Men  ₹449\n",
       "2    luxury fashion                            Classy Sneakers For Men  ₹449\n",
       "3          Magnolia                  Stylish & Trendy Sneakers For Men  ₹398\n",
       "4          URBANBOX  Brothers Luxury Fashionable Casual Sneakers Sh...  ₹220\n",
       "..              ...                                                ...   ...\n",
       "95            AMICO                                   Sneakers For Men  ₹449\n",
       "96        Trendmode                  Stylish & Trendy Sneakers For Men  ₹359\n",
       "97         HOTSTYLE                           FASHION Sneakers For Men  ₹298\n",
       "98  ganpati traders  Casual Sneakers black Shoes For Men Sneakers F...  ₹189\n",
       "99            AMICO                                   Sneakers For Men  ₹449\n",
       "\n",
       "[100 rows x 3 columns]"
      ]
     },
     "execution_count": 66,
     "metadata": {},
     "output_type": "execute_result"
    }
   ],
   "source": [
    "df=pd.DataFrame({'Brand':Brand_sneakers,'Product Descripition':Product_Descr,'Price':Price_Descr})\n",
    "df"
   ]
  },
  {
   "cell_type": "markdown",
   "id": "d00043f3",
   "metadata": {},
   "source": [
    "# Q7: Go to the link - https://www.myntra.com/shoes Set Price filter to “Rs. 7149 to Rs. 14099 ” , Color filter to “Black”, as shown inthe below image.\n",
    "And then scrape First 100 shoes data you get. The data should include “Brand” of the shoes , Short Shoe\n",
    "description, price of the shoe as shown in the below image "
   ]
  },
  {
   "cell_type": "code",
   "execution_count": 67,
   "id": "860b7fa2",
   "metadata": {},
   "outputs": [],
   "source": [
    "#Connect to the driver\n",
    "driver=webdriver.Chrome(r'E:\\chrome driver\\chromedriver.exe')"
   ]
  },
  {
   "cell_type": "code",
   "execution_count": 68,
   "id": "791b72c6",
   "metadata": {},
   "outputs": [],
   "source": [
    "url = 'https://www.myntra.com/shoes'\n",
    "driver.get(url)"
   ]
  },
  {
   "cell_type": "code",
   "execution_count": 69,
   "id": "b983b485",
   "metadata": {},
   "outputs": [],
   "source": [
    "price_filter = driver.find_element_by_xpath('/html/body/div[2]/div/div[1]/main/div[3]/div[1]/section/div/div[5]/ul/li[2]/label/div')\n",
    "price_filter.click()"
   ]
  },
  {
   "cell_type": "code",
   "execution_count": 70,
   "id": "08efec66",
   "metadata": {},
   "outputs": [],
   "source": [
    "##color filter\n",
    "color_filter = driver.find_element_by_xpath('/html/body/div[2]/div/div[1]/main/div[3]/div[1]/section/div/div[6]/ul/li[1]/label/div')\n",
    "color_filter.click()"
   ]
  },
  {
   "cell_type": "markdown",
   "id": "b1dc8e8e",
   "metadata": {},
   "source": [
    "# Brand"
   ]
  },
  {
   "cell_type": "code",
   "execution_count": 71,
   "id": "c2f2aadf",
   "metadata": {},
   "outputs": [
    {
     "name": "stdout",
     "output_type": "stream",
     "text": [
      "100\n",
      "['Puma', 'Puma', 'Puma', 'Saint G', 'Puma', 'RARE RABBIT', 'Bugatti', 'Cole Haan', 'DAVINCHI', 'ASICS', 'Geox', 'Saint G', 'DAVINCHI', 'Geox', 'Bugatti', 'J.FONTINI', 'RARE RABBIT', 'Saint G', 'Saint G', 'Heel & Buckle London', 'Saint G', 'Puma', 'Tommy Hilfiger', 'Bugatti', 'J.FONTINI', 'Xtep', 'J.FONTINI', 'Geox', 'DAVINCHI', 'DAVINCHI', 'Geox', 'Geox', 'DAVINCHI', 'Pavers England', 'Saint G', 'Louis Philippe', 'Cole Haan', 'Geox', 'Cole Haan', 'DAVINCHI', 'Pavers England', 'Pavers England', 'Saint G', 'Pavers England', 'Saint G', 'Saint G', 'Saint G', 'Saint G', 'Saint G', 'Geox', 'Puma', 'Puma', 'Puma', 'Saint G', 'Puma', 'RARE RABBIT', 'Bugatti', 'Cole Haan', 'DAVINCHI', 'ASICS', 'Geox', 'Saint G', 'DAVINCHI', 'Geox', 'Bugatti', 'J.FONTINI', 'RARE RABBIT', 'Saint G', 'Saint G', 'Heel & Buckle London', 'Saint G', 'Puma', 'Tommy Hilfiger', 'Bugatti', 'J.FONTINI', 'Xtep', 'J.FONTINI', 'Geox', 'DAVINCHI', 'DAVINCHI', 'Geox', 'Geox', 'DAVINCHI', 'Pavers England', 'Saint G', 'Louis Philippe', 'Cole Haan', 'Geox', 'Cole Haan', 'DAVINCHI', 'Pavers England', 'Pavers England', 'Saint G', 'Pavers England', 'Saint G', 'Saint G', 'Saint G', 'Saint G', 'Saint G', 'Geox']\n"
     ]
    }
   ],
   "source": [
    "brand = []\n",
    "for i in range(0,5,1):\n",
    "    brand_tag = driver.find_elements_by_xpath('//h3[@class=\"product-brand\"]')\n",
    "    for j in brand_tag:\n",
    "        brand.append(j.text)\n",
    "brand = brand[:100]\n",
    "print(len(brand))\n",
    "print(brand)"
   ]
  },
  {
   "cell_type": "markdown",
   "id": "0930c2e5",
   "metadata": {},
   "source": [
    "# Description"
   ]
  },
  {
   "cell_type": "code",
   "execution_count": 72,
   "id": "523d8efa",
   "metadata": {},
   "outputs": [
    {
     "name": "stdout",
     "output_type": "stream",
     "text": [
      "100\n",
      "['Men Running Shoes', 'Men Magnify Nitro Running', 'Men Electrify Nitro Running', 'Men Mid-Top Chelsea Boots', 'Women Magnify Nitro Shoes', 'Men Leather Flat Boots', 'Men Running Shoes', 'Men GENERATION ZEROGRAND STITCHLITE', 'Men Textured Formal Leather Loafers', 'Men Colourblocked PU Sneakers', 'Men Leather Flat Boots', 'Men Leather Chelsea Boots', 'Men Solid Leather Formal Derbys', 'Women Leather Pumps', 'Men Textured Leather High-Top Flat Boots', 'Men Textured Leather Loafers', 'Men Textured Leather Loafers', 'Women Leather Loafers', 'Leather Wedge Heeled Boots with Buckles', 'Men Formal Leather Derby', 'Embellished Leather Block Heeled Boots', 'Women Velocity NITRO Runners', 'Women Hybrid Leather Sneakers', 'Men Black Walking Shoes', 'Men Textured Leather Loafers', 'Men Running Shoes', 'Men Black Leather Loafers', 'Men Leather Loafers', 'Ustraa black', 'Men Formal Leather Slip-Ons', 'Women Solid Leather Pumps', 'Women Solid Leather Pumps', 'Men Textured Formal Leather Loafers', 'Men Leather Driving Shoes', 'Women Leather Heeled Boots', 'Men Leather Formal Slip-Ons', 'Women Open Toe Flats', 'Women Solid Leather Ballerinas', 'Women Solid Leather Ballerinas', 'Men Textured Leather Formal Slip-Ons', 'Men Solid Leather Formal Loafers', 'Men Textured Leather Formal Slip-On Shoes', 'Leather Block Heeled Boots', 'Men Solid Leather Formal Derbys', 'Leather Kitten Heeled Boots', 'Leather Block Heeled Boots with Bows', 'Suede Party High-Top Block Heeled Boots', 'Suede High-Top Flatform Heeled Boots', 'Leather Platform Heeled Boots', 'Women Chunky Sneakers', 'Men Running Shoes', 'Men Magnify Nitro Running', 'Men Electrify Nitro Running', 'Men Mid-Top Chelsea Boots', 'Women Magnify Nitro Shoes', 'Men Leather Flat Boots', 'Men Running Shoes', 'Men GENERATION ZEROGRAND STITCHLITE', 'Men Textured Formal Leather Loafers', 'Men Colourblocked PU Sneakers', 'Men Leather Flat Boots', 'Men Leather Chelsea Boots', 'Men Solid Leather Formal Derbys', 'Women Leather Pumps', 'Men Textured Leather High-Top Flat Boots', 'Men Textured Leather Loafers', 'Men Textured Leather Loafers', 'Women Leather Loafers', 'Leather Wedge Heeled Boots with Buckles', 'Men Formal Leather Derby', 'Embellished Leather Block Heeled Boots', 'Women Velocity NITRO Runners', 'Women Hybrid Leather Sneakers', 'Men Black Walking Shoes', 'Men Textured Leather Loafers', 'Men Running Shoes', 'Men Black Leather Loafers', 'Men Leather Loafers', 'Ustraa black', 'Men Formal Leather Slip-Ons', 'Women Solid Leather Pumps', 'Women Solid Leather Pumps', 'Men Textured Formal Leather Loafers', 'Men Leather Driving Shoes', 'Women Leather Heeled Boots', 'Men Leather Formal Slip-Ons', 'Women Open Toe Flats', 'Women Solid Leather Ballerinas', 'Women Solid Leather Ballerinas', 'Men Textured Leather Formal Slip-Ons', 'Men Solid Leather Formal Loafers', 'Men Textured Leather Formal Slip-On Shoes', 'Leather Block Heeled Boots', 'Men Solid Leather Formal Derbys', 'Leather Kitten Heeled Boots', 'Leather Block Heeled Boots with Bows', 'Suede Party High-Top Block Heeled Boots', 'Suede High-Top Flatform Heeled Boots', 'Leather Platform Heeled Boots', 'Women Chunky Sneakers']\n"
     ]
    }
   ],
   "source": [
    "desc = []\n",
    "for i in range(0,5,1):\n",
    "    desc_tag = driver.find_elements_by_xpath('//h4[@class=\"product-product\"]')\n",
    "    for j in desc_tag:\n",
    "        desc.append(j.text)\n",
    "desc = desc[:100]\n",
    "print(len(desc))\n",
    "print(desc)"
   ]
  },
  {
   "cell_type": "markdown",
   "id": "4a8d2cae",
   "metadata": {},
   "source": [
    "# Price"
   ]
  },
  {
   "cell_type": "code",
   "execution_count": 73,
   "id": "f0933033",
   "metadata": {},
   "outputs": [
    {
     "name": "stdout",
     "output_type": "stream",
     "text": [
      "100\n",
      "['7149', '8449', '7499', '9810', '7799', '7999', '7999', '8399', '10710', '8399', '7149', '7500', '13410', '9546', '7149', '7199', '10710', '8550', '8910', '12510', '9450', '12150', '9810', '7149', '8449', '7499', '9810', '7799', '7999', '7999', '8399', '10710', '8399', '7149', '7500', '13410', '9546', '7149', '7199', '10710', '8550', '8910', '12510', '9450', '12150', '9810', '7149', '8449', '7499', '9810', '7799', '7999', '7999', '8399', '10710', '8399', '7149', '7500', '13410', '9546', '7149', '7199', '10710', '8550', '8910', '12510', '9450', '12150', '9810', '7149', '8449', '7499', '9810', '7799', '7999', '7999', '8399', '10710', '8399', '7149', '7500', '13410', '9546', '7149', '7199', '10710', '8550', '8910', '12510', '9450', '12150', '9810', '7149', '8449', '7499', '9810', '7799', '7999', '7999', '8399']\n"
     ]
    }
   ],
   "source": [
    "price = []\n",
    "for i in range(0,5,1):\n",
    "    price_tag = driver.find_elements_by_xpath('//span[@class=\"product-discountedPrice\"]')\n",
    "    for j in price_tag:\n",
    "        price.append(j.text.replace(\"Rs. \",\"\"))\n",
    "price = price[:100]\n",
    "print(len(price))\n",
    "print(price)"
   ]
  },
  {
   "cell_type": "markdown",
   "id": "7e233f9b",
   "metadata": {},
   "source": [
    "# creating DataFrame"
   ]
  },
  {
   "cell_type": "code",
   "execution_count": 74,
   "id": "c3389015",
   "metadata": {},
   "outputs": [
    {
     "data": {
      "text/html": [
       "<div>\n",
       "<style scoped>\n",
       "    .dataframe tbody tr th:only-of-type {\n",
       "        vertical-align: middle;\n",
       "    }\n",
       "\n",
       "    .dataframe tbody tr th {\n",
       "        vertical-align: top;\n",
       "    }\n",
       "\n",
       "    .dataframe thead th {\n",
       "        text-align: right;\n",
       "    }\n",
       "</style>\n",
       "<table border=\"1\" class=\"dataframe\">\n",
       "  <thead>\n",
       "    <tr style=\"text-align: right;\">\n",
       "      <th></th>\n",
       "      <th>Brand</th>\n",
       "      <th>Product Descripition</th>\n",
       "      <th>Price</th>\n",
       "    </tr>\n",
       "  </thead>\n",
       "  <tbody>\n",
       "    <tr>\n",
       "      <th>0</th>\n",
       "      <td>Puma</td>\n",
       "      <td>Men Running Shoes</td>\n",
       "      <td>7149</td>\n",
       "    </tr>\n",
       "    <tr>\n",
       "      <th>1</th>\n",
       "      <td>Puma</td>\n",
       "      <td>Men Magnify Nitro Running</td>\n",
       "      <td>8449</td>\n",
       "    </tr>\n",
       "    <tr>\n",
       "      <th>2</th>\n",
       "      <td>Puma</td>\n",
       "      <td>Men Electrify Nitro Running</td>\n",
       "      <td>7499</td>\n",
       "    </tr>\n",
       "    <tr>\n",
       "      <th>3</th>\n",
       "      <td>Saint G</td>\n",
       "      <td>Men Mid-Top Chelsea Boots</td>\n",
       "      <td>9810</td>\n",
       "    </tr>\n",
       "    <tr>\n",
       "      <th>4</th>\n",
       "      <td>Puma</td>\n",
       "      <td>Women Magnify Nitro Shoes</td>\n",
       "      <td>7799</td>\n",
       "    </tr>\n",
       "    <tr>\n",
       "      <th>...</th>\n",
       "      <td>...</td>\n",
       "      <td>...</td>\n",
       "      <td>...</td>\n",
       "    </tr>\n",
       "    <tr>\n",
       "      <th>95</th>\n",
       "      <td>Saint G</td>\n",
       "      <td>Leather Block Heeled Boots with Bows</td>\n",
       "      <td>9810</td>\n",
       "    </tr>\n",
       "    <tr>\n",
       "      <th>96</th>\n",
       "      <td>Saint G</td>\n",
       "      <td>Suede Party High-Top Block Heeled Boots</td>\n",
       "      <td>7799</td>\n",
       "    </tr>\n",
       "    <tr>\n",
       "      <th>97</th>\n",
       "      <td>Saint G</td>\n",
       "      <td>Suede High-Top Flatform Heeled Boots</td>\n",
       "      <td>7999</td>\n",
       "    </tr>\n",
       "    <tr>\n",
       "      <th>98</th>\n",
       "      <td>Saint G</td>\n",
       "      <td>Leather Platform Heeled Boots</td>\n",
       "      <td>7999</td>\n",
       "    </tr>\n",
       "    <tr>\n",
       "      <th>99</th>\n",
       "      <td>Geox</td>\n",
       "      <td>Women Chunky Sneakers</td>\n",
       "      <td>8399</td>\n",
       "    </tr>\n",
       "  </tbody>\n",
       "</table>\n",
       "<p>100 rows × 3 columns</p>\n",
       "</div>"
      ],
      "text/plain": [
       "      Brand                     Product Descripition Price\n",
       "0      Puma                        Men Running Shoes  7149\n",
       "1      Puma                Men Magnify Nitro Running  8449\n",
       "2      Puma              Men Electrify Nitro Running  7499\n",
       "3   Saint G                Men Mid-Top Chelsea Boots  9810\n",
       "4      Puma                Women Magnify Nitro Shoes  7799\n",
       "..      ...                                      ...   ...\n",
       "95  Saint G     Leather Block Heeled Boots with Bows  9810\n",
       "96  Saint G  Suede Party High-Top Block Heeled Boots  7799\n",
       "97  Saint G     Suede High-Top Flatform Heeled Boots  7999\n",
       "98  Saint G            Leather Platform Heeled Boots  7999\n",
       "99     Geox                    Women Chunky Sneakers  8399\n",
       "\n",
       "[100 rows x 3 columns]"
      ]
     },
     "execution_count": 74,
     "metadata": {},
     "output_type": "execute_result"
    }
   ],
   "source": [
    "df=pd.DataFrame({'Brand':brand,'Product Descripition':desc,'Price':price})\n",
    "df"
   ]
  },
  {
   "cell_type": "markdown",
   "id": "f2513bbb",
   "metadata": {},
   "source": [
    "# Q8  Go to webpage https://www.amazon.in/ Enter “Laptop” in the search field and then click the search icon After setting the filters scrape first 10 laptops data. You have to scrape 3 attributesfor each laptop:\n",
    "1. Title\n",
    "2. Ratings\n",
    "3. Price\n",
    "As shown in the below image as the tick marked attributes"
   ]
  },
  {
   "cell_type": "code",
   "execution_count": 18,
   "id": "f404da13",
   "metadata": {},
   "outputs": [],
   "source": [
    "#Connect to the driver\n",
    "driver=webdriver.Chrome(r'E:\\chrome driver\\chromedriver.exe')"
   ]
  },
  {
   "cell_type": "code",
   "execution_count": 19,
   "id": "c01aab50",
   "metadata": {},
   "outputs": [],
   "source": [
    "url = 'https://www.amazon.in/'\n",
    "driver.get(url)"
   ]
  },
  {
   "cell_type": "code",
   "execution_count": 20,
   "id": "631af532",
   "metadata": {},
   "outputs": [
    {
     "data": {
      "text/plain": [
       "<selenium.webdriver.remote.webelement.WebElement (session=\"0ea67c4b34a6027282cc4d28d6dc9dde\", element=\"e96ae9b8-1292-44a6-b9da-18627b1983e5\")>"
      ]
     },
     "execution_count": 20,
     "metadata": {},
     "output_type": "execute_result"
    }
   ],
   "source": [
    "#Search using The Xpath\n",
    "search_eng=driver.find_element_by_xpath('/html/body/div[1]/header/div/div[1]/div[2]/div/form/div[2]/div[1]/input')\n",
    "search_eng"
   ]
  },
  {
   "cell_type": "code",
   "execution_count": 21,
   "id": "1b2e15ca",
   "metadata": {},
   "outputs": [],
   "source": [
    "search_eng.send_keys(\"Laptop\")"
   ]
  },
  {
   "cell_type": "code",
   "execution_count": 22,
   "id": "3b6daea1",
   "metadata": {},
   "outputs": [
    {
     "data": {
      "text/plain": [
       "<selenium.webdriver.remote.webelement.WebElement (session=\"0ea67c4b34a6027282cc4d28d6dc9dde\", element=\"348a8eb8-60af-40c4-bfa4-3d36c9fb1a83\")>"
      ]
     },
     "execution_count": 22,
     "metadata": {},
     "output_type": "execute_result"
    }
   ],
   "source": [
    "search_btn=driver.find_element_by_xpath('/html/body/div[1]/header/div/div[1]/div[2]/div/form/div[3]/div/span/input')\n",
    "search_btn"
   ]
  },
  {
   "cell_type": "code",
   "execution_count": 23,
   "id": "00b2284f",
   "metadata": {},
   "outputs": [],
   "source": [
    "search_btn.click()"
   ]
  },
  {
   "cell_type": "code",
   "execution_count": 25,
   "id": "d30c9c91",
   "metadata": {},
   "outputs": [],
   "source": [
    "## filter \n",
    "intel_i7 = driver.find_element_by_xpath(\"/html/body/div[1]/div[2]/div[1]/div[2]/div/div[3]/span/div[1]/span/div/div/div[6]/div/div/div[1]/div/span[1]/a[12]/div/span\")\n",
    "intel_i7.click()"
   ]
  },
  {
   "cell_type": "markdown",
   "id": "2887deb1",
   "metadata": {},
   "source": [
    "# Extracting Title"
   ]
  },
  {
   "cell_type": "code",
   "execution_count": 26,
   "id": "3fb3b1da",
   "metadata": {},
   "outputs": [
    {
     "name": "stdout",
     "output_type": "stream",
     "text": [
      "10\n",
      "['Dell 14 (2021) i7-1195G7 2in1 Touch Screen Laptop, 16GB, 512GB SSD, Win 10 + MS Office, 14.0\" (35.56 cms) FHD Display, Backlit KB, FPR + Active Pen, Platinum Silver (Inspiron 5410, D560596WIN9S)', 'LG Gram 17-inches Ultra-Light Intel Evo 11th Gen Core i7,16 GB RAM, 512 GB SSD, New Win-11 Preload, Iris Xe Graphics, USC -C x 2 (with Power), 1.35 kg, 3 Yr Warranty (17Z90P-G.AH85A2, Black)', 'ASUS VivoBook 14 (2021), 14-inch (35.56 cms) FHD, Intel Core i7-1065G7 10th Gen, Thin and Light Laptop (16GB/512GB SSD/Integrated Graphics/Office 2021/Windows 11/Silver/1.6 Kg), X415JA-EK701WS', 'Acer Nitro 5 AN515-57 Gaming Laptop | Intel Core i7-11800H |NVIDIA GeForce RTX 3050 Ti Laptop Graphics |15.6\" FHD 144Hz IPS Display |16GB DDR4 |256GB SSD+1TB HDD |Killer Wi-Fi 6 |RGB Backlit Keyboard', 'ASUS TUF Gaming F15 (2021) 15.6-inch (39.62 cms) FHD 144Hz, Intel Core i7-11800H 11th Gen, RTX 3060 6GB Graphics, Gaming Laptop (16GB/1TB SSD/Windows 10/Gray/2.3 Kg), FX566HM-HN100T', 'HP Pavilion 13, 11th Gen Intel Core i7, 13.3-inch(33.8 cm) FHD,IPS, Micro-Edge Laptop (16GB RAM/ 1TB SSD/ Win 10/ FPR/Audio B&O/Alexa Built-in/MS Office/ Ceramic White/ 1.24 Kg) -13-bb0078TU', 'Mi Notebook - XMA1904-AF', 'ASUS TUF Dash F15 (2021) 15.6-inch (39.62 cms) FHD 144Hz, Intel Core i7-11370H 11th Gen, RTX 3050 4GB Graphics, Gaming Laptop (16GB/512GB SSD/Windows 10/Gray/2 Kg), FX516PCZ-HN091T', 'Fujitsu UH-X 11th Gen Intel Core i7 13.3 inches FHD IPS 400Nits 2-in1 Touch Convertible Business Laptop (16GB/1TB SSD/Windows 11/MS Office 2021/Iris Xe Graphics/Backlit Kb/Black/0.997 kg, 4ZR1F38027)', '(Renewed) Dell Latitude E7470 Intel Core i7 6th Gen 14 inches Laptop /16 GB RAM/512 GB SSD/Windows 10 Pro/MS Office/HD Display/Integrated Graphics, 1.9 kg']\n"
     ]
    }
   ],
   "source": [
    "title_1 = []\n",
    "inteli7 = driver.find_elements_by_xpath('//h2[@class=\"a-size-mini a-spacing-none a-color-base s-line-clamp-2\"]')\n",
    "for i in inteli7:\n",
    "    title_1.append(i.text)\n",
    "title_1 = title_1[:10]\n",
    "print(len(title_1))\n",
    "print(title_1)"
   ]
  },
  {
   "cell_type": "code",
   "execution_count": 27,
   "id": "25322059",
   "metadata": {},
   "outputs": [
    {
     "name": "stdout",
     "output_type": "stream",
     "text": [
      "10\n",
      "['4.7 out of 5 stars', '4.6 out of 5 stars', '5.0 out of 5 stars', '4.5 out of 5 stars', '4.8 out of 5 stars', '4.6 out of 5 stars', '4.2 out of 5 stars', '4.4 out of 5 stars', '4.2 out of 5 stars', '3.5 out of 5 stars']\n"
     ]
    }
   ],
   "source": [
    "Ratings = []\n",
    "rating_tag = driver.find_elements_by_xpath((\"//div[@class='a-row a-size-small']/span\"))\n",
    "for i in rating_tag:\n",
    "    Ratings.append(i.get_attribute('aria-label'))\n",
    "Ratings = Ratings[::2][:10]\n",
    "print(len(Ratings))\n",
    "print(Ratings)"
   ]
  },
  {
   "cell_type": "code",
   "execution_count": 28,
   "id": "64cc9db7",
   "metadata": {},
   "outputs": [
    {
     "name": "stdout",
     "output_type": "stream",
     "text": [
      "10\n",
      "['₹94,490', '₹99,990', '₹59,990', '₹89,990', '₹1,14,990', '₹87,990', '₹57,990', '₹82,990', '₹1,07,490', '₹44,990']\n"
     ]
    }
   ],
   "source": [
    "Price = []\n",
    "price_tag = driver.find_elements_by_xpath('//span[@class=\"a-price\"]')\n",
    "for i in price_tag:\n",
    "    Price.append(i.text)\n",
    "Price = Price[:10]\n",
    "print(len(Price))\n",
    "print(Price)"
   ]
  },
  {
   "cell_type": "markdown",
   "id": "1ae5be08",
   "metadata": {},
   "source": [
    "# Creating DataFrame "
   ]
  },
  {
   "cell_type": "code",
   "execution_count": 30,
   "id": "2069eaca",
   "metadata": {},
   "outputs": [
    {
     "data": {
      "text/html": [
       "<div>\n",
       "<style scoped>\n",
       "    .dataframe tbody tr th:only-of-type {\n",
       "        vertical-align: middle;\n",
       "    }\n",
       "\n",
       "    .dataframe tbody tr th {\n",
       "        vertical-align: top;\n",
       "    }\n",
       "\n",
       "    .dataframe thead th {\n",
       "        text-align: right;\n",
       "    }\n",
       "</style>\n",
       "<table border=\"1\" class=\"dataframe\">\n",
       "  <thead>\n",
       "    <tr style=\"text-align: right;\">\n",
       "      <th></th>\n",
       "      <th>Brand</th>\n",
       "      <th>Rating</th>\n",
       "      <th>Price</th>\n",
       "    </tr>\n",
       "  </thead>\n",
       "  <tbody>\n",
       "    <tr>\n",
       "      <th>0</th>\n",
       "      <td>Dell 14 (2021) i7-1195G7 2in1 Touch Screen Lap...</td>\n",
       "      <td>4.7 out of 5 stars</td>\n",
       "      <td>₹94,490</td>\n",
       "    </tr>\n",
       "    <tr>\n",
       "      <th>1</th>\n",
       "      <td>LG Gram 17-inches Ultra-Light Intel Evo 11th G...</td>\n",
       "      <td>4.6 out of 5 stars</td>\n",
       "      <td>₹99,990</td>\n",
       "    </tr>\n",
       "    <tr>\n",
       "      <th>2</th>\n",
       "      <td>ASUS VivoBook 14 (2021), 14-inch (35.56 cms) F...</td>\n",
       "      <td>5.0 out of 5 stars</td>\n",
       "      <td>₹59,990</td>\n",
       "    </tr>\n",
       "    <tr>\n",
       "      <th>3</th>\n",
       "      <td>Acer Nitro 5 AN515-57 Gaming Laptop | Intel Co...</td>\n",
       "      <td>4.5 out of 5 stars</td>\n",
       "      <td>₹89,990</td>\n",
       "    </tr>\n",
       "    <tr>\n",
       "      <th>4</th>\n",
       "      <td>ASUS TUF Gaming F15 (2021) 15.6-inch (39.62 cm...</td>\n",
       "      <td>4.8 out of 5 stars</td>\n",
       "      <td>₹1,14,990</td>\n",
       "    </tr>\n",
       "    <tr>\n",
       "      <th>5</th>\n",
       "      <td>HP Pavilion 13, 11th Gen Intel Core i7, 13.3-i...</td>\n",
       "      <td>4.6 out of 5 stars</td>\n",
       "      <td>₹87,990</td>\n",
       "    </tr>\n",
       "    <tr>\n",
       "      <th>6</th>\n",
       "      <td>Mi Notebook - XMA1904-AF</td>\n",
       "      <td>4.2 out of 5 stars</td>\n",
       "      <td>₹57,990</td>\n",
       "    </tr>\n",
       "    <tr>\n",
       "      <th>7</th>\n",
       "      <td>ASUS TUF Dash F15 (2021) 15.6-inch (39.62 cms)...</td>\n",
       "      <td>4.4 out of 5 stars</td>\n",
       "      <td>₹82,990</td>\n",
       "    </tr>\n",
       "    <tr>\n",
       "      <th>8</th>\n",
       "      <td>Fujitsu UH-X 11th Gen Intel Core i7 13.3 inche...</td>\n",
       "      <td>4.2 out of 5 stars</td>\n",
       "      <td>₹1,07,490</td>\n",
       "    </tr>\n",
       "    <tr>\n",
       "      <th>9</th>\n",
       "      <td>(Renewed) Dell Latitude E7470 Intel Core i7 6t...</td>\n",
       "      <td>3.5 out of 5 stars</td>\n",
       "      <td>₹44,990</td>\n",
       "    </tr>\n",
       "  </tbody>\n",
       "</table>\n",
       "</div>"
      ],
      "text/plain": [
       "                                               Brand              Rating  \\\n",
       "0  Dell 14 (2021) i7-1195G7 2in1 Touch Screen Lap...  4.7 out of 5 stars   \n",
       "1  LG Gram 17-inches Ultra-Light Intel Evo 11th G...  4.6 out of 5 stars   \n",
       "2  ASUS VivoBook 14 (2021), 14-inch (35.56 cms) F...  5.0 out of 5 stars   \n",
       "3  Acer Nitro 5 AN515-57 Gaming Laptop | Intel Co...  4.5 out of 5 stars   \n",
       "4  ASUS TUF Gaming F15 (2021) 15.6-inch (39.62 cm...  4.8 out of 5 stars   \n",
       "5  HP Pavilion 13, 11th Gen Intel Core i7, 13.3-i...  4.6 out of 5 stars   \n",
       "6                           Mi Notebook - XMA1904-AF  4.2 out of 5 stars   \n",
       "7  ASUS TUF Dash F15 (2021) 15.6-inch (39.62 cms)...  4.4 out of 5 stars   \n",
       "8  Fujitsu UH-X 11th Gen Intel Core i7 13.3 inche...  4.2 out of 5 stars   \n",
       "9  (Renewed) Dell Latitude E7470 Intel Core i7 6t...  3.5 out of 5 stars   \n",
       "\n",
       "       Price  \n",
       "0    ₹94,490  \n",
       "1    ₹99,990  \n",
       "2    ₹59,990  \n",
       "3    ₹89,990  \n",
       "4  ₹1,14,990  \n",
       "5    ₹87,990  \n",
       "6    ₹57,990  \n",
       "7    ₹82,990  \n",
       "8  ₹1,07,490  \n",
       "9    ₹44,990  "
      ]
     },
     "execution_count": 30,
     "metadata": {},
     "output_type": "execute_result"
    }
   ],
   "source": [
    "df=pd.DataFrame({'Brand':title_1,'Rating':Ratings,'Price':Price})\n",
    "df"
   ]
  },
  {
   "cell_type": "markdown",
   "id": "31afe6b3",
   "metadata": {},
   "source": [
    "# Q9: Write a python program to scrape data for first 10 job results for Data Scientist Designation in Noida location. You have to scrape company name, No. of days ago when job was posted, Rating of the company.\n",
    "\n",
    "This task will be done in following steps:\n",
    "1. First get the webpage https://www.ambitionbox.com/\n",
    "2. Click on the Job option as shown in the image\n",
    "3. After reaching to the next webpage, In place of “Search by Designations, Companies, Skills” enter “Data Scientist” and click on search button.\n",
    "4. You will reach to the following web page click on location and in place of “Search location” enter “Noida” and select location “Noida”.\n",
    "5. Then scrape the data for the first 10 jobs results you get on the above shown page.\n",
    "6. Finally create a dataframe of the scraped data."
   ]
  },
  {
   "cell_type": "code",
   "execution_count": 41,
   "id": "a65f4124",
   "metadata": {},
   "outputs": [],
   "source": [
    "#Connect to the driver\n",
    "driver=webdriver.Chrome(r'E:\\chrome driver\\chromedriver.exe')"
   ]
  },
  {
   "cell_type": "code",
   "execution_count": 42,
   "id": "2b148da7",
   "metadata": {},
   "outputs": [],
   "source": [
    "url = 'https://www.ambitionbox.com/'\n",
    "driver.get(url)"
   ]
  },
  {
   "cell_type": "code",
   "execution_count": 43,
   "id": "4348fc9c",
   "metadata": {},
   "outputs": [],
   "source": [
    "driver.maximize_window()"
   ]
  },
  {
   "cell_type": "code",
   "execution_count": 44,
   "id": "8c7b2994",
   "metadata": {},
   "outputs": [],
   "source": [
    "job_opt=driver.find_element_by_xpath('/html/body/div[1]/nav/nav/a[6]')\n",
    "job_opt.click()"
   ]
  },
  {
   "cell_type": "code",
   "execution_count": 45,
   "id": "e662ff30",
   "metadata": {},
   "outputs": [
    {
     "data": {
      "text/plain": [
       "<selenium.webdriver.remote.webelement.WebElement (session=\"b07bd687b71a1dd56f4183285d6ce0f5\", element=\"04997d85-c3e5-4bae-b865-7fb50938de69\")>"
      ]
     },
     "execution_count": 45,
     "metadata": {},
     "output_type": "execute_result"
    }
   ],
   "source": [
    "#Search using The Xpath\n",
    "search_eng=driver.find_element_by_xpath('/html/body/div/div/div/div[2]/div[1]/div/div/div/div/span/input')\n",
    "search_eng"
   ]
  },
  {
   "cell_type": "code",
   "execution_count": 46,
   "id": "61546a63",
   "metadata": {},
   "outputs": [],
   "source": [
    "search_eng.send_keys(\"Data Scientist\")"
   ]
  },
  {
   "cell_type": "code",
   "execution_count": 47,
   "id": "4e3ea0bc",
   "metadata": {},
   "outputs": [
    {
     "data": {
      "text/plain": [
       "<selenium.webdriver.remote.webelement.WebElement (session=\"b07bd687b71a1dd56f4183285d6ce0f5\", element=\"cfcd7acb-1548-4bae-bc52-10306bdeed6b\")>"
      ]
     },
     "execution_count": 47,
     "metadata": {},
     "output_type": "execute_result"
    }
   ],
   "source": [
    "search_btn=driver.find_element_by_xpath('/html/body/div/div/div/div[2]/div[1]/div/div/div/button')\n",
    "search_btn"
   ]
  },
  {
   "cell_type": "code",
   "execution_count": 48,
   "id": "42de80c1",
   "metadata": {},
   "outputs": [],
   "source": [
    "search_btn.click()"
   ]
  },
  {
   "cell_type": "code",
   "execution_count": 52,
   "id": "03db3b0a",
   "metadata": {},
   "outputs": [],
   "source": [
    "location_1=driver.find_element_by_xpath(\"/html/body/div/div/div/div[2]/div[2]/div[1]/div/div/div/div[2]/div[1]\")\n",
    "location_1.click()"
   ]
  },
  {
   "cell_type": "code",
   "execution_count": 53,
   "id": "dc9f8d21",
   "metadata": {},
   "outputs": [],
   "source": [
    "location =driver.find_element_by_xpath(\"/html/body/div/div/div/div[2]/div[2]/div[1]/div/div/div/div[2]/div[2]/div/div[2]/input\")\n",
    "location.send_keys(\"Noida\")"
   ]
  },
  {
   "cell_type": "code",
   "execution_count": 55,
   "id": "8da9e04b",
   "metadata": {},
   "outputs": [],
   "source": [
    "Click_1=driver.find_element_by_xpath(\"/html/body/div/div/div/div[2]/div[2]/div[1]/div/div/div/div[2]/div[2]/div/div[3]/div[1]/div[1]/div/label\")\n",
    "Click_1.click()"
   ]
  },
  {
   "cell_type": "markdown",
   "id": "03215176",
   "metadata": {},
   "source": [
    "# Scraping All the data"
   ]
  },
  {
   "cell_type": "code",
   "execution_count": 57,
   "id": "5988521c",
   "metadata": {},
   "outputs": [
    {
     "name": "stdout",
     "output_type": "stream",
     "text": [
      "10\n",
      "['Ameriprise Financial', 'Paytm', 'Jubilant Foodworks Limited', 'CHT Sapiense', 'CHT Sapiense', 'GI Group', 'GI Group', 'GI Group', 'RMS Risk Management Solutions', 'Paytm']\n"
     ]
    }
   ],
   "source": [
    "company_name = []\n",
    "company_tag = driver.find_elements_by_xpath('//p[@class=\"company body-medium\"]')\n",
    "for i in company_tag:\n",
    "    company_name.append(i.text)\n",
    "company_name = company_name[:10]\n",
    "print(len(company_name))\n",
    "print(company_name)"
   ]
  },
  {
   "cell_type": "code",
   "execution_count": 58,
   "id": "c133d6fe",
   "metadata": {},
   "outputs": [
    {
     "name": "stdout",
     "output_type": "stream",
     "text": [
      "10\n",
      "['4.0', '3.7', '3.9', '3.7', '3.7', '4.1', '4.1', '4.1', '3.5', '3.7']\n"
     ]
    }
   ],
   "source": [
    "ratings_1=[]\n",
    "ratings=driver.find_elements_by_xpath('//span[@class=\"body-small\"]')\n",
    "for i in ratings:\n",
    "    ratings_1.append(i.text)\n",
    "ratings_1=ratings_1[:10]\n",
    "print(len(ratings_1))\n",
    "print(ratings_1)\n",
    "    "
   ]
  },
  {
   "cell_type": "code",
   "execution_count": 59,
   "id": "6518003f",
   "metadata": {},
   "outputs": [
    {
     "name": "stdout",
     "output_type": "stream",
     "text": [
      "10\n",
      "['2d ago', '8d ago', '25d ago', '9d ago', '10d ago', '21d ago', '21d ago', '21d ago', '3d ago', '29d ago']\n"
     ]
    }
   ],
   "source": [
    "Posted_days = []\n",
    "day = driver.find_elements_by_xpath('//span[@class=\"body-small-l\"]')\n",
    "for i in day:\n",
    "    Posted_days.append(i.text)\n",
    "Posted_days = Posted_days[::2]\n",
    "print(len(Posted_days))\n",
    "print(Posted_days)"
   ]
  },
  {
   "cell_type": "markdown",
   "id": "8297fa6f",
   "metadata": {},
   "source": [
    "# DataFrame"
   ]
  },
  {
   "cell_type": "code",
   "execution_count": 60,
   "id": "07a51809",
   "metadata": {},
   "outputs": [
    {
     "data": {
      "text/html": [
       "<div>\n",
       "<style scoped>\n",
       "    .dataframe tbody tr th:only-of-type {\n",
       "        vertical-align: middle;\n",
       "    }\n",
       "\n",
       "    .dataframe tbody tr th {\n",
       "        vertical-align: top;\n",
       "    }\n",
       "\n",
       "    .dataframe thead th {\n",
       "        text-align: right;\n",
       "    }\n",
       "</style>\n",
       "<table border=\"1\" class=\"dataframe\">\n",
       "  <thead>\n",
       "    <tr style=\"text-align: right;\">\n",
       "      <th></th>\n",
       "      <th>Brand</th>\n",
       "      <th>Rating</th>\n",
       "      <th>Days</th>\n",
       "    </tr>\n",
       "  </thead>\n",
       "  <tbody>\n",
       "    <tr>\n",
       "      <th>0</th>\n",
       "      <td>Ameriprise Financial</td>\n",
       "      <td>4.0</td>\n",
       "      <td>2d ago</td>\n",
       "    </tr>\n",
       "    <tr>\n",
       "      <th>1</th>\n",
       "      <td>Paytm</td>\n",
       "      <td>3.7</td>\n",
       "      <td>8d ago</td>\n",
       "    </tr>\n",
       "    <tr>\n",
       "      <th>2</th>\n",
       "      <td>Jubilant Foodworks Limited</td>\n",
       "      <td>3.9</td>\n",
       "      <td>25d ago</td>\n",
       "    </tr>\n",
       "    <tr>\n",
       "      <th>3</th>\n",
       "      <td>CHT Sapiense</td>\n",
       "      <td>3.7</td>\n",
       "      <td>9d ago</td>\n",
       "    </tr>\n",
       "    <tr>\n",
       "      <th>4</th>\n",
       "      <td>CHT Sapiense</td>\n",
       "      <td>3.7</td>\n",
       "      <td>10d ago</td>\n",
       "    </tr>\n",
       "    <tr>\n",
       "      <th>5</th>\n",
       "      <td>GI Group</td>\n",
       "      <td>4.1</td>\n",
       "      <td>21d ago</td>\n",
       "    </tr>\n",
       "    <tr>\n",
       "      <th>6</th>\n",
       "      <td>GI Group</td>\n",
       "      <td>4.1</td>\n",
       "      <td>21d ago</td>\n",
       "    </tr>\n",
       "    <tr>\n",
       "      <th>7</th>\n",
       "      <td>GI Group</td>\n",
       "      <td>4.1</td>\n",
       "      <td>21d ago</td>\n",
       "    </tr>\n",
       "    <tr>\n",
       "      <th>8</th>\n",
       "      <td>RMS Risk Management Solutions</td>\n",
       "      <td>3.5</td>\n",
       "      <td>3d ago</td>\n",
       "    </tr>\n",
       "    <tr>\n",
       "      <th>9</th>\n",
       "      <td>Paytm</td>\n",
       "      <td>3.7</td>\n",
       "      <td>29d ago</td>\n",
       "    </tr>\n",
       "  </tbody>\n",
       "</table>\n",
       "</div>"
      ],
      "text/plain": [
       "                           Brand Rating     Days\n",
       "0           Ameriprise Financial    4.0   2d ago\n",
       "1                          Paytm    3.7   8d ago\n",
       "2     Jubilant Foodworks Limited    3.9  25d ago\n",
       "3                   CHT Sapiense    3.7   9d ago\n",
       "4                   CHT Sapiense    3.7  10d ago\n",
       "5                       GI Group    4.1  21d ago\n",
       "6                       GI Group    4.1  21d ago\n",
       "7                       GI Group    4.1  21d ago\n",
       "8  RMS Risk Management Solutions    3.5   3d ago\n",
       "9                          Paytm    3.7  29d ago"
      ]
     },
     "execution_count": 60,
     "metadata": {},
     "output_type": "execute_result"
    }
   ],
   "source": [
    "df=pd.DataFrame({'Brand':company_name,'Rating':ratings_1,'Days':Posted_days})\n",
    "df"
   ]
  },
  {
   "cell_type": "markdown",
   "id": "0f2683b1",
   "metadata": {},
   "source": [
    "# Q10: Write a python program to scrape the salary data for Data Scientist designation. You have to scrape Company name, Number of salaries, Average salary, Minsalary, Max Salary.\n",
    "The above task will be, done as shown in the below steps:\n",
    "1. First get the webpage https://www.ambitionbox.com/\n",
    "2. Click on the salaries option as shown in the image.\n",
    "3. After reaching to the following webpage, In place of “Search Job Profile” enters “Data Scientist” and then click on “Data Scientist”.\n",
    "You have to scrape the data ticked in the above image.\n",
    "4. Scrape the data for the first 10 companies. Scrape the company name, total salary record, average\n",
    "salary, minimum salary, maximum salary, experience required.\n",
    "5. Store the data in a dataframe."
   ]
  },
  {
   "cell_type": "code",
   "execution_count": 61,
   "id": "35bc4e82",
   "metadata": {},
   "outputs": [],
   "source": [
    "#Connect to the driver\n",
    "driver=webdriver.Chrome(r'E:\\chrome driver\\chromedriver.exe')"
   ]
  },
  {
   "cell_type": "code",
   "execution_count": 62,
   "id": "305c7f44",
   "metadata": {},
   "outputs": [],
   "source": [
    "url = 'https://www.ambitionbox.com/'\n",
    "driver.get(url)"
   ]
  },
  {
   "cell_type": "code",
   "execution_count": 63,
   "id": "ab5bdf48",
   "metadata": {},
   "outputs": [],
   "source": [
    "driver.maximize_window()"
   ]
  },
  {
   "cell_type": "code",
   "execution_count": 64,
   "id": "3e04c9e7",
   "metadata": {},
   "outputs": [],
   "source": [
    "salary_option = driver.find_element_by_xpath('/html/body/div[1]/nav/nav/a[4]')\n",
    "salary_option.click()"
   ]
  },
  {
   "cell_type": "code",
   "execution_count": 65,
   "id": "de7b5efc",
   "metadata": {},
   "outputs": [],
   "source": [
    "### writting data scientist\n",
    "data_scientist = driver.find_element_by_xpath('/html/body/div/div/div/main/section[1]/div[2]/div[1]/span/input')\n",
    "data_scientist.send_keys('Data Scientist')"
   ]
  },
  {
   "cell_type": "code",
   "execution_count": 70,
   "id": "e07e4724",
   "metadata": {},
   "outputs": [],
   "source": [
    "search_ds = driver.find_elements_by_xpath('/html/body/div/div/div/main/section[1]/div[2]/div[1]/span/div/div/div[1]/div/div/p')\n",
    "for i in search_ds:\n",
    "    if 'Data Scientist' in i.text:\n",
    "        i.click()\n",
    "        break"
   ]
  },
  {
   "cell_type": "markdown",
   "id": "04645c69",
   "metadata": {},
   "source": [
    "# Scraping Data"
   ]
  },
  {
   "cell_type": "code",
   "execution_count": 71,
   "id": "a382fcfc",
   "metadata": {},
   "outputs": [
    {
     "name": "stdout",
     "output_type": "stream",
     "text": [
      "10\n",
      "['Tekion', 'Microsoft Corporation', 'Goldman Sachs', 'Flipkart', 'Amazon', 'Arcesium', 'PayPal', 'Servicenow Software Development India', 'Walmart', 'ServiceNow']\n",
      "10\n",
      "[' 10 salaries', ' 224 salaries', ' 11 salaries', ' 54 salaries', ' 85 salaries', ' 37 salaries', ' 12 salaries', ' 27 salaries', ' 79 salaries', ' 16 salaries']\n"
     ]
    }
   ],
   "source": [
    "company_name = []\n",
    "total_salary_record = []\n",
    "company_tag = driver.find_elements_by_xpath('//div[@class=\"name\"]')\n",
    "for i in company_tag:\n",
    "    company_name.append(i.text.split('\\n')[0])\n",
    "    total_salary_record.append(i.text.split('\\n')[1].replace('based on',''))\n",
    "company_name = company_name[:10]\n",
    "total_salary_record = total_salary_record[:10]\n",
    "print(len(company_name))\n",
    "print(company_name)\n",
    "print(len(total_salary_record))\n",
    "print(total_salary_record)"
   ]
  },
  {
   "cell_type": "code",
   "execution_count": 72,
   "id": "790b3f8f",
   "metadata": {},
   "outputs": [
    {
     "name": "stdout",
     "output_type": "stream",
     "text": [
      "10\n",
      "['₹ 23.3L', '₹ 22.4L', '₹ 21.9L', '₹ 20.6L', '₹ 19.4L', '₹ 18.5L', '₹ 18.4L', '₹ 18.3L', '₹ 17.9L', '₹ 17.8L']\n"
     ]
    }
   ],
   "source": [
    "Average_salary_record = []\n",
    "salary_tag = driver.find_elements_by_xpath('//p[@class=\"averageCtc\"]')\n",
    "for i in salary_tag:\n",
    "    Average_salary_record.append(i.text.split('\\n')[0])\n",
    "Average_salary_record = Average_salary_record[:10]\n",
    "print(len(Average_salary_record))\n",
    "print(Average_salary_record)"
   ]
  },
  {
   "cell_type": "code",
   "execution_count": 73,
   "id": "782aa111",
   "metadata": {},
   "outputs": [
    {
     "name": "stdout",
     "output_type": "stream",
     "text": [
      "10\n",
      "['₹ 14.0L', '₹ 12.0L', '₹ 16.0L', '₹ 7.0L', '₹ 8.0L', '₹ 12.0L', '₹ 12.0L', '₹ 12.0L', '₹ 10.0L', '₹ 11.2L']\n",
      "10\n",
      "['₹ 32.0L', '₹ 45.0L', '₹ 30.0L', '₹ 30.0L', '₹ 41.5L', '₹ 30.0L', '₹ 25.0L', '₹ 25.0L', '₹ 32.0L', '₹ 23.0L']\n"
     ]
    }
   ],
   "source": [
    "minimum_salary = []\n",
    "maximum_salary = []\n",
    "salary_tag_min = driver.find_elements_by_xpath('//div[@class=\"salary-values\"]')\n",
    "for i in salary_tag_min:\n",
    "    minimum_salary.append(i.text.split('\\n')[0])\n",
    "    maximum_salary.append(i.text.split('\\n')[1])\n",
    "minimum_salary = minimum_salary[:10]\n",
    "print(len(minimum_salary))\n",
    "print(minimum_salary)\n",
    "print(len(maximum_salary))\n",
    "print(maximum_salary)\n"
   ]
  },
  {
   "cell_type": "code",
   "execution_count": 74,
   "id": "bda7b2c1",
   "metadata": {},
   "outputs": [
    {
     "name": "stdout",
     "output_type": "stream",
     "text": [
      "10\n",
      "['4 yrs ', '1-4 yrs ', '2 yrs ', '1-4 yrs ', '1-4 yrs ', '1 yr ', '1 yr ', '2-3 yrs ', '1-4 yrs ', '3 yrs ']\n"
     ]
    }
   ],
   "source": [
    "Experience_required = []\n",
    "exp = driver.find_elements_by_xpath('//div[@class=\"salaries sbold-list-header\"]')\n",
    "for i in exp:\n",
    "    Experience_required.append(i.text.split('\\n')[-1].replace('exp',''))\n",
    "Experience_required = Experience_required[:10]\n",
    "print(len(Experience_required))\n",
    "print(Experience_required)"
   ]
  },
  {
   "cell_type": "markdown",
   "id": "314760e9",
   "metadata": {},
   "source": [
    "# Creating DataFrame "
   ]
  },
  {
   "cell_type": "code",
   "execution_count": 76,
   "id": "2e135c78",
   "metadata": {},
   "outputs": [
    {
     "data": {
      "text/html": [
       "<div>\n",
       "<style scoped>\n",
       "    .dataframe tbody tr th:only-of-type {\n",
       "        vertical-align: middle;\n",
       "    }\n",
       "\n",
       "    .dataframe tbody tr th {\n",
       "        vertical-align: top;\n",
       "    }\n",
       "\n",
       "    .dataframe thead th {\n",
       "        text-align: right;\n",
       "    }\n",
       "</style>\n",
       "<table border=\"1\" class=\"dataframe\">\n",
       "  <thead>\n",
       "    <tr style=\"text-align: right;\">\n",
       "      <th></th>\n",
       "      <th>Comapny</th>\n",
       "      <th>Average Salary</th>\n",
       "      <th>Maximum Salary</th>\n",
       "      <th>Minnimum Salary</th>\n",
       "      <th>Experience</th>\n",
       "    </tr>\n",
       "  </thead>\n",
       "  <tbody>\n",
       "    <tr>\n",
       "      <th>0</th>\n",
       "      <td>Tekion</td>\n",
       "      <td>₹ 23.3L</td>\n",
       "      <td>₹ 32.0L</td>\n",
       "      <td>₹ 14.0L</td>\n",
       "      <td>4 yrs</td>\n",
       "    </tr>\n",
       "    <tr>\n",
       "      <th>1</th>\n",
       "      <td>Microsoft Corporation</td>\n",
       "      <td>₹ 22.4L</td>\n",
       "      <td>₹ 45.0L</td>\n",
       "      <td>₹ 12.0L</td>\n",
       "      <td>1-4 yrs</td>\n",
       "    </tr>\n",
       "    <tr>\n",
       "      <th>2</th>\n",
       "      <td>Goldman Sachs</td>\n",
       "      <td>₹ 21.9L</td>\n",
       "      <td>₹ 30.0L</td>\n",
       "      <td>₹ 16.0L</td>\n",
       "      <td>2 yrs</td>\n",
       "    </tr>\n",
       "    <tr>\n",
       "      <th>3</th>\n",
       "      <td>Flipkart</td>\n",
       "      <td>₹ 20.6L</td>\n",
       "      <td>₹ 30.0L</td>\n",
       "      <td>₹ 7.0L</td>\n",
       "      <td>1-4 yrs</td>\n",
       "    </tr>\n",
       "    <tr>\n",
       "      <th>4</th>\n",
       "      <td>Amazon</td>\n",
       "      <td>₹ 19.4L</td>\n",
       "      <td>₹ 41.5L</td>\n",
       "      <td>₹ 8.0L</td>\n",
       "      <td>1-4 yrs</td>\n",
       "    </tr>\n",
       "    <tr>\n",
       "      <th>5</th>\n",
       "      <td>Arcesium</td>\n",
       "      <td>₹ 18.5L</td>\n",
       "      <td>₹ 30.0L</td>\n",
       "      <td>₹ 12.0L</td>\n",
       "      <td>1 yr</td>\n",
       "    </tr>\n",
       "    <tr>\n",
       "      <th>6</th>\n",
       "      <td>PayPal</td>\n",
       "      <td>₹ 18.4L</td>\n",
       "      <td>₹ 25.0L</td>\n",
       "      <td>₹ 12.0L</td>\n",
       "      <td>1 yr</td>\n",
       "    </tr>\n",
       "    <tr>\n",
       "      <th>7</th>\n",
       "      <td>Servicenow Software Development India</td>\n",
       "      <td>₹ 18.3L</td>\n",
       "      <td>₹ 25.0L</td>\n",
       "      <td>₹ 12.0L</td>\n",
       "      <td>2-3 yrs</td>\n",
       "    </tr>\n",
       "    <tr>\n",
       "      <th>8</th>\n",
       "      <td>Walmart</td>\n",
       "      <td>₹ 17.9L</td>\n",
       "      <td>₹ 32.0L</td>\n",
       "      <td>₹ 10.0L</td>\n",
       "      <td>1-4 yrs</td>\n",
       "    </tr>\n",
       "    <tr>\n",
       "      <th>9</th>\n",
       "      <td>ServiceNow</td>\n",
       "      <td>₹ 17.8L</td>\n",
       "      <td>₹ 23.0L</td>\n",
       "      <td>₹ 11.2L</td>\n",
       "      <td>3 yrs</td>\n",
       "    </tr>\n",
       "  </tbody>\n",
       "</table>\n",
       "</div>"
      ],
      "text/plain": [
       "                                 Comapny Average Salary Maximum Salary  \\\n",
       "0                                 Tekion        ₹ 23.3L        ₹ 32.0L   \n",
       "1                  Microsoft Corporation        ₹ 22.4L        ₹ 45.0L   \n",
       "2                          Goldman Sachs        ₹ 21.9L        ₹ 30.0L   \n",
       "3                               Flipkart        ₹ 20.6L        ₹ 30.0L   \n",
       "4                                 Amazon        ₹ 19.4L        ₹ 41.5L   \n",
       "5                               Arcesium        ₹ 18.5L        ₹ 30.0L   \n",
       "6                                 PayPal        ₹ 18.4L        ₹ 25.0L   \n",
       "7  Servicenow Software Development India        ₹ 18.3L        ₹ 25.0L   \n",
       "8                                Walmart        ₹ 17.9L        ₹ 32.0L   \n",
       "9                             ServiceNow        ₹ 17.8L        ₹ 23.0L   \n",
       "\n",
       "  Minnimum Salary Experience  \n",
       "0         ₹ 14.0L     4 yrs   \n",
       "1         ₹ 12.0L   1-4 yrs   \n",
       "2         ₹ 16.0L     2 yrs   \n",
       "3          ₹ 7.0L   1-4 yrs   \n",
       "4          ₹ 8.0L   1-4 yrs   \n",
       "5         ₹ 12.0L      1 yr   \n",
       "6         ₹ 12.0L      1 yr   \n",
       "7         ₹ 12.0L   2-3 yrs   \n",
       "8         ₹ 10.0L   1-4 yrs   \n",
       "9         ₹ 11.2L     3 yrs   "
      ]
     },
     "execution_count": 76,
     "metadata": {},
     "output_type": "execute_result"
    }
   ],
   "source": [
    "df=pd.DataFrame({'Comapny':company_name,'Average Salary':Average_salary_record,'Maximum Salary':maximum_salary,'Minnimum Salary':minimum_salary,'Experience':Experience_required})\n",
    "df"
   ]
  },
  {
   "cell_type": "code",
   "execution_count": null,
   "id": "5866edea",
   "metadata": {},
   "outputs": [],
   "source": []
  }
 ],
 "metadata": {
  "kernelspec": {
   "display_name": "Python 3 (ipykernel)",
   "language": "python",
   "name": "python3"
  },
  "language_info": {
   "codemirror_mode": {
    "name": "ipython",
    "version": 3
   },
   "file_extension": ".py",
   "mimetype": "text/x-python",
   "name": "python",
   "nbconvert_exporter": "python",
   "pygments_lexer": "ipython3",
   "version": "3.9.8"
  }
 },
 "nbformat": 4,
 "nbformat_minor": 5
}
